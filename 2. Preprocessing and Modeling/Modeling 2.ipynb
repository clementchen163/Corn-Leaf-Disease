{
 "cells": [
  {
   "cell_type": "code",
   "execution_count": 1,
   "id": "2cf963a3",
   "metadata": {},
   "outputs": [],
   "source": [
    "from tensorflow.keras.utils import image_dataset_from_directory\n",
    "from tensorflow import keras\n",
    "from tensorflow.keras import layers\n",
    "import matplotlib.pyplot as plt\n",
    "import tensorflow as tf\n",
    "import os\n",
    "import numpy as np\n",
    "from modelfunc import save_model"
   ]
  },
  {
   "cell_type": "code",
   "execution_count": 2,
   "id": "dcd7c211",
   "metadata": {},
   "outputs": [],
   "source": [
    "np.random.seed(123)"
   ]
  },
  {
   "cell_type": "code",
   "execution_count": 3,
   "id": "0aa256df",
   "metadata": {},
   "outputs": [
    {
     "name": "stdout",
     "output_type": "stream",
     "text": [
      "Num GPUs Available:  1\n"
     ]
    }
   ],
   "source": [
    "print('Num GPUs Available: ', len(tf.config.list_physical_devices('GPU')))"
   ]
  },
  {
   "cell_type": "code",
   "execution_count": 4,
   "id": "ee1ad0cf",
   "metadata": {},
   "outputs": [],
   "source": [
    "tf.get_logger().setLevel('ERROR')"
   ]
  },
  {
   "cell_type": "markdown",
   "id": "bc1bc140",
   "metadata": {},
   "source": [
    "#### Image Parameters"
   ]
  },
  {
   "cell_type": "code",
   "execution_count": 5,
   "id": "5b2d8586",
   "metadata": {},
   "outputs": [],
   "source": [
    "# With image dimensions 5184 x 5184 we run into oom error\n",
    "batch_size = 32\n",
    "img_height = 256\n",
    "img_width = 256\n",
    "img_channels = 3"
   ]
  },
  {
   "cell_type": "code",
   "execution_count": 6,
   "id": "6fc36e74",
   "metadata": {},
   "outputs": [],
   "source": [
    "train_split_test_dir='../0. Project Data/Reshaped zero-padded and split data'"
   ]
  },
  {
   "cell_type": "code",
   "execution_count": 7,
   "id": "2d6c74e6",
   "metadata": {},
   "outputs": [
    {
     "name": "stdout",
     "output_type": "stream",
     "text": [
      "Found 2678 files belonging to 4 classes.\n",
      "Found 667 files belonging to 4 classes.\n",
      "Found 843 files belonging to 4 classes.\n"
     ]
    }
   ],
   "source": [
    "train_ds = image_dataset_from_directory(\n",
    "    train_split_test_dir + '/train',\n",
    "    image_size=(img_width, img_height),\n",
    "    batch_size=batch_size)\n",
    "val_ds = image_dataset_from_directory(\n",
    "    train_split_test_dir + '/val',\n",
    "    image_size=(img_width, img_height),\n",
    "    batch_size=batch_size)\n",
    "test_ds = image_dataset_from_directory(\n",
    "    train_split_test_dir + '/test',\n",
    "    image_size=(img_width, img_height),\n",
    "    batch_size=batch_size)"
   ]
  },
  {
   "cell_type": "code",
   "execution_count": 8,
   "id": "2284f5f0",
   "metadata": {},
   "outputs": [],
   "source": [
    "# enginerring more data by applying randomized horizontal flips, zooms(+/- 20%), and rotates (+/- 10%)\n",
    "data_augmentation = keras.Sequential([layers.RandomFlip('horizontal'), layers.RandomRotation(0.1), layers.RandomZoom(0.2),])"
   ]
  },
  {
   "cell_type": "code",
   "execution_count": 9,
   "id": "ae7d08b5",
   "metadata": {},
   "outputs": [],
   "source": [
    "inputs = keras.Input(shape=(img_height, img_width, img_channels))\n",
    "x = data_augmentation(inputs)\n",
    "x = layers.Rescaling(1./255)(x)\n",
    "x = layers.Conv2D(filters=32, kernel_size=3, activation='relu')(x)\n",
    "x = layers.MaxPooling2D(pool_size=2)(x)\n",
    "x = layers.Conv2D(filters=64, kernel_size=3, activation='relu')(x)\n",
    "x = layers.MaxPooling2D(pool_size=2)(x)\n",
    "x = layers.Conv2D(filters=128, kernel_size=3, activation='relu')(x)\n",
    "x = layers.MaxPooling2D(pool_size=2)(x)\n",
    "x = layers.Conv2D(filters=256, kernel_size=3, activation='relu')(x)\n",
    "x = layers.MaxPooling2D(pool_size=2)(x)\n",
    "x = layers.Conv2D(filters=256, kernel_size=3, activation='relu')(x)\n",
    "x = layers.Flatten()(x)\n",
    "outputs = layers.Dense(4, activation='softmax')(x)\n",
    "model = keras.Model(inputs=inputs, outputs=outputs)"
   ]
  },
  {
   "cell_type": "code",
   "execution_count": 10,
   "id": "536b8b1a",
   "metadata": {},
   "outputs": [
    {
     "name": "stdout",
     "output_type": "stream",
     "text": [
      "Model: \"model\"\n",
      "_________________________________________________________________\n",
      " Layer (type)                Output Shape              Param #   \n",
      "=================================================================\n",
      " input_1 (InputLayer)        [(None, 256, 256, 3)]     0         \n",
      "                                                                 \n",
      " sequential (Sequential)     (None, 256, 256, 3)       0         \n",
      "                                                                 \n",
      " rescaling (Rescaling)       (None, 256, 256, 3)       0         \n",
      "                                                                 \n",
      " conv2d (Conv2D)             (None, 254, 254, 32)      896       \n",
      "                                                                 \n",
      " max_pooling2d (MaxPooling2D  (None, 127, 127, 32)     0         \n",
      " )                                                               \n",
      "                                                                 \n",
      " conv2d_1 (Conv2D)           (None, 125, 125, 64)      18496     \n",
      "                                                                 \n",
      " max_pooling2d_1 (MaxPooling  (None, 62, 62, 64)       0         \n",
      " 2D)                                                             \n",
      "                                                                 \n",
      " conv2d_2 (Conv2D)           (None, 60, 60, 128)       73856     \n",
      "                                                                 \n",
      " max_pooling2d_2 (MaxPooling  (None, 30, 30, 128)      0         \n",
      " 2D)                                                             \n",
      "                                                                 \n",
      " conv2d_3 (Conv2D)           (None, 28, 28, 256)       295168    \n",
      "                                                                 \n",
      " max_pooling2d_3 (MaxPooling  (None, 14, 14, 256)      0         \n",
      " 2D)                                                             \n",
      "                                                                 \n",
      " conv2d_4 (Conv2D)           (None, 12, 12, 256)       590080    \n",
      "                                                                 \n",
      " flatten (Flatten)           (None, 36864)             0         \n",
      "                                                                 \n",
      " dense (Dense)               (None, 4)                 147460    \n",
      "                                                                 \n",
      "=================================================================\n",
      "Total params: 1,125,956\n",
      "Trainable params: 1,125,956\n",
      "Non-trainable params: 0\n",
      "_________________________________________________________________\n"
     ]
    }
   ],
   "source": [
    "model.summary()"
   ]
  },
  {
   "cell_type": "code",
   "execution_count": 11,
   "id": "3ce110f0",
   "metadata": {},
   "outputs": [],
   "source": [
    "model.compile(optimizer='sgd', # Common optimizers include 'adam', 'sgd', and 'rmsprop'.\n",
    " loss='sparse_categorical_crossentropy', # Common loss functions include 'binary_crossentropy', 'categorical_crossentropy', and 'mse'.\n",
    " metrics=[\"accuracy\"]) #Common metrics include 'accuracy', 'precision', 'recall', and 'f1_score'."
   ]
  },
  {
   "cell_type": "code",
   "execution_count": 12,
   "id": "e1ce7429",
   "metadata": {},
   "outputs": [
    {
     "name": "stdout",
     "output_type": "stream",
     "text": [
      "Epoch 1/100\n",
      "84/84 [==============================] - 24s 246ms/step - loss: 1.3201 - accuracy: 0.3917 - val_loss: 1.2713 - val_accuracy: 0.3373\n",
      "Epoch 2/100\n",
      "84/84 [==============================] - 19s 230ms/step - loss: 1.1808 - accuracy: 0.5112 - val_loss: 1.0398 - val_accuracy: 0.6732\n",
      "Epoch 3/100\n",
      "84/84 [==============================] - 20s 233ms/step - loss: 1.0983 - accuracy: 0.5683 - val_loss: 0.9935 - val_accuracy: 0.5817\n",
      "Epoch 4/100\n",
      "84/84 [==============================] - 20s 233ms/step - loss: 0.9824 - accuracy: 0.6109 - val_loss: 0.8528 - val_accuracy: 0.7091\n",
      "Epoch 5/100\n",
      "84/84 [==============================] - 19s 231ms/step - loss: 0.8796 - accuracy: 0.6654 - val_loss: 0.7278 - val_accuracy: 0.7406\n",
      "Epoch 6/100\n",
      "84/84 [==============================] - 20s 236ms/step - loss: 0.8177 - accuracy: 0.6800 - val_loss: 0.8450 - val_accuracy: 0.6297\n",
      "Epoch 7/100\n",
      "84/84 [==============================] - 20s 233ms/step - loss: 0.8282 - accuracy: 0.6804 - val_loss: 0.7118 - val_accuracy: 0.7601\n",
      "Epoch 8/100\n",
      "84/84 [==============================] - 20s 232ms/step - loss: 0.7416 - accuracy: 0.7184 - val_loss: 0.7358 - val_accuracy: 0.7631\n",
      "Epoch 9/100\n",
      "84/84 [==============================] - 19s 231ms/step - loss: 0.6452 - accuracy: 0.7554 - val_loss: 0.6099 - val_accuracy: 0.7691\n",
      "Epoch 10/100\n",
      "84/84 [==============================] - 19s 230ms/step - loss: 0.6645 - accuracy: 0.7494 - val_loss: 1.7567 - val_accuracy: 0.4438\n",
      "Epoch 11/100\n",
      "84/84 [==============================] - 19s 229ms/step - loss: 0.6971 - accuracy: 0.7364 - val_loss: 0.5452 - val_accuracy: 0.7946\n",
      "Epoch 12/100\n",
      "84/84 [==============================] - 19s 230ms/step - loss: 0.5777 - accuracy: 0.7651 - val_loss: 0.5390 - val_accuracy: 0.7766\n",
      "Epoch 13/100\n",
      "84/84 [==============================] - 19s 231ms/step - loss: 0.5359 - accuracy: 0.7804 - val_loss: 0.5658 - val_accuracy: 0.7856\n",
      "Epoch 14/100\n",
      "84/84 [==============================] - 19s 232ms/step - loss: 0.6083 - accuracy: 0.7610 - val_loss: 0.5228 - val_accuracy: 0.8066\n",
      "Epoch 15/100\n",
      "84/84 [==============================] - 19s 231ms/step - loss: 0.5274 - accuracy: 0.7857 - val_loss: 0.4722 - val_accuracy: 0.8231\n",
      "Epoch 16/100\n",
      "84/84 [==============================] - 19s 232ms/step - loss: 0.5385 - accuracy: 0.7853 - val_loss: 0.4604 - val_accuracy: 0.8231\n",
      "Epoch 17/100\n",
      "84/84 [==============================] - 19s 231ms/step - loss: 0.5340 - accuracy: 0.7853 - val_loss: 0.4597 - val_accuracy: 0.8246\n",
      "Epoch 18/100\n",
      "84/84 [==============================] - 19s 231ms/step - loss: 0.4832 - accuracy: 0.7980 - val_loss: 0.4539 - val_accuracy: 0.7991\n",
      "Epoch 19/100\n",
      "84/84 [==============================] - 20s 232ms/step - loss: 0.4370 - accuracy: 0.8204 - val_loss: 0.4123 - val_accuracy: 0.8336\n",
      "Epoch 20/100\n",
      "84/84 [==============================] - 19s 231ms/step - loss: 0.4347 - accuracy: 0.8223 - val_loss: 0.3910 - val_accuracy: 0.8441\n",
      "Epoch 21/100\n",
      "84/84 [==============================] - 19s 232ms/step - loss: 0.4195 - accuracy: 0.8252 - val_loss: 0.4206 - val_accuracy: 0.8516\n",
      "Epoch 22/100\n",
      "84/84 [==============================] - 19s 230ms/step - loss: 0.4152 - accuracy: 0.8312 - val_loss: 0.4176 - val_accuracy: 0.8606\n",
      "Epoch 23/100\n",
      "84/84 [==============================] - 19s 228ms/step - loss: 0.6258 - accuracy: 0.7778 - val_loss: 0.5299 - val_accuracy: 0.8111\n",
      "Epoch 24/100\n",
      "84/84 [==============================] - 19s 230ms/step - loss: 0.5555 - accuracy: 0.7726 - val_loss: 0.4450 - val_accuracy: 0.8441\n",
      "Epoch 25/100\n",
      "84/84 [==============================] - 19s 229ms/step - loss: 0.5566 - accuracy: 0.7995 - val_loss: 0.4961 - val_accuracy: 0.8126\n",
      "Epoch 26/100\n",
      "84/84 [==============================] - 19s 230ms/step - loss: 0.4870 - accuracy: 0.8152 - val_loss: 0.4627 - val_accuracy: 0.8051\n",
      "Epoch 27/100\n",
      "84/84 [==============================] - 19s 229ms/step - loss: 0.4118 - accuracy: 0.8308 - val_loss: 0.3686 - val_accuracy: 0.8591\n",
      "Epoch 28/100\n",
      "84/84 [==============================] - 19s 229ms/step - loss: 0.3915 - accuracy: 0.8406 - val_loss: 0.3218 - val_accuracy: 0.8756\n",
      "Epoch 29/100\n",
      "84/84 [==============================] - 19s 229ms/step - loss: 0.3671 - accuracy: 0.8491 - val_loss: 0.4137 - val_accuracy: 0.8561\n",
      "Epoch 30/100\n",
      "84/84 [==============================] - 19s 229ms/step - loss: 0.3644 - accuracy: 0.8570 - val_loss: 0.3255 - val_accuracy: 0.8696\n",
      "Epoch 31/100\n",
      "84/84 [==============================] - 19s 231ms/step - loss: 0.3646 - accuracy: 0.8611 - val_loss: 0.3072 - val_accuracy: 0.8876\n",
      "Epoch 32/100\n",
      "84/84 [==============================] - 19s 230ms/step - loss: 0.4903 - accuracy: 0.8208 - val_loss: 0.3042 - val_accuracy: 0.8801\n",
      "Epoch 33/100\n",
      "84/84 [==============================] - 19s 228ms/step - loss: 0.3464 - accuracy: 0.8678 - val_loss: 0.2965 - val_accuracy: 0.8756\n",
      "Epoch 34/100\n",
      "84/84 [==============================] - 19s 229ms/step - loss: 0.3288 - accuracy: 0.8764 - val_loss: 0.2946 - val_accuracy: 0.8846\n",
      "Epoch 35/100\n",
      "84/84 [==============================] - 19s 229ms/step - loss: 0.3304 - accuracy: 0.8820 - val_loss: 0.2920 - val_accuracy: 0.8891\n",
      "Epoch 36/100\n",
      "84/84 [==============================] - 20s 234ms/step - loss: 0.3189 - accuracy: 0.8801 - val_loss: 0.2884 - val_accuracy: 0.8831\n",
      "Epoch 37/100\n",
      "84/84 [==============================] - 20s 237ms/step - loss: 0.3197 - accuracy: 0.8775 - val_loss: 0.2878 - val_accuracy: 0.8936\n",
      "Epoch 38/100\n",
      "84/84 [==============================] - 20s 234ms/step - loss: 0.3242 - accuracy: 0.8794 - val_loss: 0.3150 - val_accuracy: 0.8636\n",
      "Epoch 39/100\n",
      "84/84 [==============================] - 19s 229ms/step - loss: 0.2992 - accuracy: 0.8861 - val_loss: 0.3934 - val_accuracy: 0.8426\n",
      "Epoch 40/100\n",
      "84/84 [==============================] - 19s 231ms/step - loss: 0.3072 - accuracy: 0.8872 - val_loss: 0.2689 - val_accuracy: 0.9070\n",
      "Epoch 41/100\n",
      "84/84 [==============================] - 20s 234ms/step - loss: 0.2967 - accuracy: 0.8895 - val_loss: 0.2847 - val_accuracy: 0.8801\n",
      "Epoch 42/100\n",
      "84/84 [==============================] - 20s 233ms/step - loss: 0.2934 - accuracy: 0.8917 - val_loss: 0.3394 - val_accuracy: 0.8501\n",
      "Epoch 43/100\n",
      "84/84 [==============================] - 19s 232ms/step - loss: 0.3676 - accuracy: 0.8712 - val_loss: 0.3146 - val_accuracy: 0.8666\n",
      "Epoch 44/100\n",
      "84/84 [==============================] - 19s 230ms/step - loss: 0.2980 - accuracy: 0.8880 - val_loss: 0.2587 - val_accuracy: 0.9055\n",
      "Epoch 45/100\n",
      "84/84 [==============================] - 19s 229ms/step - loss: 0.2738 - accuracy: 0.8966 - val_loss: 0.2611 - val_accuracy: 0.9145\n",
      "Epoch 46/100\n",
      "84/84 [==============================] - 19s 230ms/step - loss: 0.2876 - accuracy: 0.8932 - val_loss: 0.2537 - val_accuracy: 0.9025\n",
      "Epoch 47/100\n",
      "84/84 [==============================] - 20s 232ms/step - loss: 0.2899 - accuracy: 0.8876 - val_loss: 0.2506 - val_accuracy: 0.8996\n",
      "Epoch 48/100\n",
      "84/84 [==============================] - 19s 231ms/step - loss: 0.2772 - accuracy: 0.8981 - val_loss: 0.2669 - val_accuracy: 0.9145\n",
      "Epoch 49/100\n",
      "84/84 [==============================] - 19s 230ms/step - loss: 0.2920 - accuracy: 0.8936 - val_loss: 0.2398 - val_accuracy: 0.9085\n",
      "Epoch 50/100\n",
      "84/84 [==============================] - 19s 231ms/step - loss: 0.2729 - accuracy: 0.9007 - val_loss: 0.3062 - val_accuracy: 0.8696\n",
      "Epoch 51/100\n",
      "84/84 [==============================] - 19s 230ms/step - loss: 0.2608 - accuracy: 0.8996 - val_loss: 0.2542 - val_accuracy: 0.8996\n",
      "Epoch 52/100\n",
      "84/84 [==============================] - 20s 233ms/step - loss: 0.2748 - accuracy: 0.8947 - val_loss: 0.2468 - val_accuracy: 0.9130\n",
      "Epoch 53/100\n",
      "84/84 [==============================] - 20s 233ms/step - loss: 0.2575 - accuracy: 0.9052 - val_loss: 0.2886 - val_accuracy: 0.8771\n",
      "Epoch 54/100\n",
      "84/84 [==============================] - 19s 231ms/step - loss: 0.2575 - accuracy: 0.9022 - val_loss: 0.2341 - val_accuracy: 0.9085\n",
      "Epoch 55/100\n",
      "84/84 [==============================] - 19s 229ms/step - loss: 0.2614 - accuracy: 0.8984 - val_loss: 0.2500 - val_accuracy: 0.9055\n",
      "Epoch 56/100\n",
      "84/84 [==============================] - 19s 230ms/step - loss: 0.2564 - accuracy: 0.9025 - val_loss: 0.3880 - val_accuracy: 0.8396\n",
      "Epoch 57/100\n"
     ]
    },
    {
     "name": "stdout",
     "output_type": "stream",
     "text": [
      "84/84 [==============================] - 20s 233ms/step - loss: 0.2498 - accuracy: 0.9085 - val_loss: 0.2656 - val_accuracy: 0.9040\n",
      "Epoch 58/100\n",
      "84/84 [==============================] - 20s 232ms/step - loss: 0.2470 - accuracy: 0.9037 - val_loss: 0.2979 - val_accuracy: 0.8801\n",
      "Epoch 59/100\n",
      "84/84 [==============================] - 19s 232ms/step - loss: 0.2516 - accuracy: 0.9022 - val_loss: 0.2318 - val_accuracy: 0.9190\n",
      "Epoch 60/100\n",
      "84/84 [==============================] - 19s 231ms/step - loss: 0.2377 - accuracy: 0.9078 - val_loss: 0.2419 - val_accuracy: 0.9040\n",
      "Epoch 61/100\n",
      "84/84 [==============================] - 19s 229ms/step - loss: 0.2431 - accuracy: 0.9111 - val_loss: 0.2311 - val_accuracy: 0.9100\n",
      "Epoch 62/100\n",
      "84/84 [==============================] - 19s 229ms/step - loss: 0.2400 - accuracy: 0.9115 - val_loss: 0.2302 - val_accuracy: 0.9130\n",
      "Epoch 63/100\n",
      "84/84 [==============================] - 20s 233ms/step - loss: 0.2293 - accuracy: 0.9137 - val_loss: 0.2423 - val_accuracy: 0.9115\n",
      "Epoch 64/100\n",
      "84/84 [==============================] - 20s 233ms/step - loss: 0.2356 - accuracy: 0.9149 - val_loss: 0.2338 - val_accuracy: 0.9085\n",
      "Epoch 65/100\n",
      "84/84 [==============================] - 19s 231ms/step - loss: 0.3520 - accuracy: 0.8768 - val_loss: 0.2583 - val_accuracy: 0.9100\n",
      "Epoch 66/100\n",
      "84/84 [==============================] - 19s 230ms/step - loss: 0.2556 - accuracy: 0.9044 - val_loss: 0.2411 - val_accuracy: 0.9295\n",
      "Epoch 67/100\n",
      "84/84 [==============================] - 19s 229ms/step - loss: 0.2352 - accuracy: 0.9081 - val_loss: 0.2441 - val_accuracy: 0.9175\n",
      "Epoch 68/100\n",
      "84/84 [==============================] - 20s 233ms/step - loss: 0.2443 - accuracy: 0.9178 - val_loss: 0.2301 - val_accuracy: 0.9235\n",
      "Epoch 69/100\n",
      "84/84 [==============================] - 19s 231ms/step - loss: 0.2272 - accuracy: 0.9156 - val_loss: 0.2491 - val_accuracy: 0.9055\n",
      "Epoch 70/100\n",
      "84/84 [==============================] - 19s 230ms/step - loss: 0.2252 - accuracy: 0.9164 - val_loss: 0.2642 - val_accuracy: 0.9205\n",
      "Epoch 71/100\n",
      "84/84 [==============================] - 19s 229ms/step - loss: 0.2230 - accuracy: 0.9193 - val_loss: 0.2652 - val_accuracy: 0.8906\n",
      "Epoch 72/100\n",
      "84/84 [==============================] - 19s 229ms/step - loss: 0.2184 - accuracy: 0.9193 - val_loss: 0.2467 - val_accuracy: 0.9130\n",
      "Epoch 73/100\n",
      "84/84 [==============================] - 19s 231ms/step - loss: 0.2246 - accuracy: 0.9171 - val_loss: 0.2513 - val_accuracy: 0.8951\n",
      "Epoch 74/100\n",
      "84/84 [==============================] - 20s 232ms/step - loss: 0.2193 - accuracy: 0.9152 - val_loss: 0.2334 - val_accuracy: 0.9190\n",
      "Epoch 75/100\n",
      "84/84 [==============================] - 19s 230ms/step - loss: 0.2180 - accuracy: 0.9197 - val_loss: 0.2301 - val_accuracy: 0.9130\n",
      "Epoch 76/100\n",
      "84/84 [==============================] - 19s 231ms/step - loss: 0.2146 - accuracy: 0.9145 - val_loss: 0.2425 - val_accuracy: 0.9130\n",
      "Epoch 77/100\n",
      "84/84 [==============================] - 19s 229ms/step - loss: 0.1974 - accuracy: 0.9231 - val_loss: 0.2843 - val_accuracy: 0.8951\n",
      "Epoch 78/100\n",
      "84/84 [==============================] - 19s 229ms/step - loss: 0.2148 - accuracy: 0.9220 - val_loss: 0.2445 - val_accuracy: 0.9205\n",
      "Epoch 79/100\n",
      "84/84 [==============================] - 19s 231ms/step - loss: 0.2100 - accuracy: 0.9201 - val_loss: 0.2407 - val_accuracy: 0.9190\n",
      "Epoch 80/100\n",
      "84/84 [==============================] - 19s 230ms/step - loss: 0.2153 - accuracy: 0.9156 - val_loss: 0.2322 - val_accuracy: 0.9250\n",
      "Epoch 81/100\n",
      "84/84 [==============================] - 19s 229ms/step - loss: 0.1949 - accuracy: 0.9242 - val_loss: 0.2544 - val_accuracy: 0.8996\n",
      "Epoch 82/100\n",
      "84/84 [==============================] - 19s 231ms/step - loss: 0.1992 - accuracy: 0.9253 - val_loss: 0.4454 - val_accuracy: 0.8081\n",
      "Epoch 83/100\n",
      "84/84 [==============================] - 19s 230ms/step - loss: 0.1960 - accuracy: 0.9264 - val_loss: 0.2651 - val_accuracy: 0.9160\n",
      "Epoch 84/100\n",
      "84/84 [==============================] - 20s 233ms/step - loss: 0.2002 - accuracy: 0.9220 - val_loss: 0.2301 - val_accuracy: 0.9145\n",
      "Epoch 85/100\n",
      "84/84 [==============================] - 20s 232ms/step - loss: 0.1988 - accuracy: 0.9264 - val_loss: 0.2315 - val_accuracy: 0.9160\n",
      "Epoch 86/100\n",
      "84/84 [==============================] - 20s 232ms/step - loss: 0.1989 - accuracy: 0.9268 - val_loss: 0.2289 - val_accuracy: 0.9220\n",
      "Epoch 87/100\n",
      "84/84 [==============================] - 19s 231ms/step - loss: 0.1910 - accuracy: 0.9298 - val_loss: 0.2808 - val_accuracy: 0.8891\n",
      "Epoch 88/100\n",
      "84/84 [==============================] - 19s 230ms/step - loss: 0.1932 - accuracy: 0.9205 - val_loss: 0.2568 - val_accuracy: 0.9130\n",
      "Epoch 89/100\n",
      "84/84 [==============================] - 19s 229ms/step - loss: 0.1946 - accuracy: 0.9257 - val_loss: 0.2571 - val_accuracy: 0.9040\n",
      "Epoch 90/100\n",
      "84/84 [==============================] - 19s 229ms/step - loss: 0.1830 - accuracy: 0.9294 - val_loss: 0.2536 - val_accuracy: 0.9040\n",
      "Epoch 91/100\n",
      "84/84 [==============================] - 19s 230ms/step - loss: 0.1916 - accuracy: 0.9317 - val_loss: 0.2569 - val_accuracy: 0.9100\n",
      "Epoch 92/100\n",
      "84/84 [==============================] - 20s 232ms/step - loss: 0.3406 - accuracy: 0.8820 - val_loss: 0.2702 - val_accuracy: 0.8921\n",
      "Epoch 93/100\n",
      "84/84 [==============================] - 20s 233ms/step - loss: 0.2155 - accuracy: 0.9242 - val_loss: 0.2328 - val_accuracy: 0.9160\n",
      "Epoch 94/100\n",
      "84/84 [==============================] - 19s 230ms/step - loss: 0.1818 - accuracy: 0.9298 - val_loss: 0.2744 - val_accuracy: 0.8996\n",
      "Epoch 95/100\n",
      "84/84 [==============================] - 20s 236ms/step - loss: 0.1728 - accuracy: 0.9354 - val_loss: 0.3053 - val_accuracy: 0.9040\n",
      "Epoch 96/100\n",
      "84/84 [==============================] - 20s 240ms/step - loss: 0.2442 - accuracy: 0.9156 - val_loss: 0.2349 - val_accuracy: 0.9175\n",
      "Epoch 97/100\n",
      "84/84 [==============================] - 20s 239ms/step - loss: 0.1855 - accuracy: 0.9253 - val_loss: 0.2355 - val_accuracy: 0.9310\n",
      "Epoch 98/100\n",
      "84/84 [==============================] - 20s 240ms/step - loss: 0.1837 - accuracy: 0.9253 - val_loss: 0.2252 - val_accuracy: 0.9220\n",
      "Epoch 99/100\n",
      "84/84 [==============================] - 20s 241ms/step - loss: 0.1703 - accuracy: 0.9339 - val_loss: 0.2693 - val_accuracy: 0.9010\n",
      "Epoch 100/100\n",
      "84/84 [==============================] - 20s 241ms/step - loss: 0.1704 - accuracy: 0.9354 - val_loss: 0.2487 - val_accuracy: 0.9145\n"
     ]
    }
   ],
   "source": [
    "history = model.fit(\n",
    "  train_ds,\n",
    "  validation_data=val_ds,\n",
    "  epochs=100\n",
    ")"
   ]
  },
  {
   "cell_type": "code",
   "execution_count": 13,
   "id": "b7145502",
   "metadata": {
    "scrolled": true
   },
   "outputs": [
    {
     "data": {
      "text/plain": [
       "<matplotlib.legend.Legend at 0x25c11b96a90>"
      ]
     },
     "execution_count": 13,
     "metadata": {},
     "output_type": "execute_result"
    },
    {
     "data": {
      "image/png": "[encoded data removed]",
      "text/plain": [
       "<Figure size 640x480 with 1 Axes>"
      ]
     },
     "metadata": {},
     "output_type": "display_data"
    },
    {
     "data": {
      "image/png": "[encoded data removed]",
      "text/plain": [
       "<Figure size 640x480 with 1 Axes>"
      ]
     },
     "metadata": {},
     "output_type": "display_data"
    }
   ],
   "source": [
    "accuracy = history.history['accuracy']\n",
    "val_accuracy = history.history['val_accuracy']\n",
    "loss = history.history['loss']\n",
    "val_loss = history.history['val_loss']\n",
    "epochs = range(1, len(accuracy) + 1)\n",
    "plt.plot(epochs, accuracy, 'bo', label='Training accuracy')\n",
    "plt.plot(epochs, val_accuracy, 'b', label='Validation accuracy')\n",
    "plt.title('Training and validation accuracy')\n",
    "plt.legend()\n",
    "plt.figure()\n",
    "plt.plot(epochs, loss, 'bo', label='Training loss')\n",
    "plt.plot(epochs, val_loss, 'b', label='Validation loss')\n",
    "plt.title('Training and validation loss')\n",
    "plt.legend()"
   ]
  },
  {
   "cell_type": "code",
   "execution_count": 14,
   "id": "0aebe461",
   "metadata": {},
   "outputs": [
    {
     "name": "stdout",
     "output_type": "stream",
     "text": [
      "Saved model to disk\n"
     ]
    }
   ],
   "source": [
    "save_path = '../3. Model Selection/saved_models/Zero-padded Data Model/'\n",
    "if not os.path.exists(save_path):\n",
    "    os.makedirs(save_path)\n",
    "save_model(model, save_path)"
   ]
  },
  {
   "cell_type": "code",
   "execution_count": 15,
   "id": "7841fbba",
   "metadata": {},
   "outputs": [],
   "source": [
    "#below saved files are gitignored"
   ]
  },
  {
   "cell_type": "code",
   "execution_count": 16,
   "id": "95a8bc51",
   "metadata": {},
   "outputs": [
    {
     "name": "stderr",
     "output_type": "stream",
     "text": [
      "WARNING:absl:Found untraced functions such as _jit_compiled_convolution_op, _jit_compiled_convolution_op, _jit_compiled_convolution_op, _jit_compiled_convolution_op, _jit_compiled_convolution_op while saving (showing 5 of 5). These functions will not be directly callable after loading.\n"
     ]
    }
   ],
   "source": [
    "if not os.path.exists('./saved_models/Model 2-Zero-padded Data'):\n",
    "    os.makedirs('./saved_models/Model 2-Zero-padded Data')\n",
    "model.save('./saved_models/Model 2-Zero-padded Data')"
   ]
  }
 ],
 "metadata": {
  "kernelspec": {
   "display_name": "Python 3 (ipykernel)",
   "language": "python",
   "name": "python3"
  },
  "language_info": {
   "codemirror_mode": {
    "name": "ipython",
    "version": 3
   },
   "file_extension": ".py",
   "mimetype": "text/x-python",
   "name": "python",
   "nbconvert_exporter": "python",
   "pygments_lexer": "ipython3",
   "version": "3.9.16"
  }
 },
 "nbformat": 4,
 "nbformat_minor": 5
}
