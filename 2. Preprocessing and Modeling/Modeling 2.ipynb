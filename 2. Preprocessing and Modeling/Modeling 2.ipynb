{
 "cells": [
  {
   "cell_type": "code",
   "execution_count": 13,
   "id": "2cf963a3",
   "metadata": {},
   "outputs": [],
   "source": [
    "from tensorflow.keras.utils import image_dataset_from_directory\n",
    "from tensorflow import keras\n",
    "from tensorflow.keras import layers\n",
    "import matplotlib.pyplot as plt\n",
    "import tensorflow as tf\n",
    "import os\n",
    "import numpy as np\n",
    "from modelfunc import save_model"
   ]
  },
  {
   "cell_type": "code",
   "execution_count": null,
   "id": "dcd7c211",
   "metadata": {},
   "outputs": [],
   "source": [
    "np.random.seed(123)"
   ]
  },
  {
   "cell_type": "code",
   "execution_count": 2,
   "id": "0aa256df",
   "metadata": {},
   "outputs": [
    {
     "name": "stdout",
     "output_type": "stream",
     "text": [
      "Num GPUs Available:  1\n"
     ]
    }
   ],
   "source": [
    "print('Num GPUs Available: ', len(tf.config.list_physical_devices('GPU')))"
   ]
  },
  {
   "cell_type": "code",
   "execution_count": null,
   "id": "ee1ad0cf",
   "metadata": {},
   "outputs": [],
   "source": [
    "tf.get_logger().setLevel('ERROR')"
   ]
  },
  {
   "cell_type": "markdown",
   "id": "bc1bc140",
   "metadata": {},
   "source": [
    "#### Image Parameters"
   ]
  },
  {
   "cell_type": "code",
   "execution_count": 3,
   "id": "5b2d8586",
   "metadata": {},
   "outputs": [],
   "source": [
    "# With image dimensions 5184 x 5184 we run into oom error\n",
    "batch_size = 32\n",
    "img_height = 256\n",
    "img_width = 256\n",
    "img_channels = 3"
   ]
  },
  {
   "cell_type": "code",
   "execution_count": 4,
   "id": "6fc36e74",
   "metadata": {},
   "outputs": [],
   "source": [
    "train_split_test_dir='../0. Project Data/Reshaped zero-padded and split data'"
   ]
  },
  {
   "cell_type": "code",
   "execution_count": 5,
   "id": "2d6c74e6",
   "metadata": {},
   "outputs": [
    {
     "name": "stdout",
     "output_type": "stream",
     "text": [
      "Found 2678 files belonging to 4 classes.\n",
      "Found 667 files belonging to 4 classes.\n",
      "Found 843 files belonging to 4 classes.\n"
     ]
    }
   ],
   "source": [
    "train_ds = image_dataset_from_directory(\n",
    "    train_split_test_dir + '/train',\n",
    "    image_size=(img_width, img_height),\n",
    "    batch_size=batch_size)\n",
    "val_ds = image_dataset_from_directory(\n",
    "    train_split_test_dir + '/val',\n",
    "    image_size=(img_width, img_height),\n",
    "    batch_size=batch_size)\n",
    "test_ds = image_dataset_from_directory(\n",
    "    train_split_test_dir + '/test',\n",
    "    image_size=(img_width, img_height),\n",
    "    batch_size=batch_size)"
   ]
  },
  {
   "cell_type": "code",
   "execution_count": 6,
   "id": "2284f5f0",
   "metadata": {},
   "outputs": [],
   "source": [
    "# enginerring more data by applying randomized horizontal flips, zooms(+/- 20%), and rotates (+/- 10%)\n",
    "data_augmentation = keras.Sequential([layers.RandomFlip('horizontal'), layers.RandomRotation(0.1), layers.RandomZoom(0.2),])"
   ]
  },
  {
   "cell_type": "code",
   "execution_count": 7,
   "id": "ae7d08b5",
   "metadata": {},
   "outputs": [
    {
     "name": "stdout",
     "output_type": "stream",
     "text": [
      "WARNING:tensorflow:Using a while_loop for converting RngReadAndSkip cause there is no registered converter for this op.\n",
      "WARNING:tensorflow:Using a while_loop for converting Bitcast cause there is no registered converter for this op.\n",
      "WARNING:tensorflow:Using a while_loop for converting Bitcast cause there is no registered converter for this op.\n",
      "WARNING:tensorflow:Using a while_loop for converting StatelessRandomUniformV2 cause there is no registered converter for this op.\n",
      "WARNING:tensorflow:Using a while_loop for converting ImageProjectiveTransformV3 cause there is no registered converter for this op.\n",
      "WARNING:tensorflow:Using a while_loop for converting RngReadAndSkip cause there is no registered converter for this op.\n",
      "WARNING:tensorflow:Using a while_loop for converting Bitcast cause there is no registered converter for this op.\n",
      "WARNING:tensorflow:Using a while_loop for converting Bitcast cause there is no registered converter for this op.\n",
      "WARNING:tensorflow:Using a while_loop for converting StatelessRandomUniformV2 cause there is no registered converter for this op.\n",
      "WARNING:tensorflow:Using a while_loop for converting ImageProjectiveTransformV3 cause there is no registered converter for this op.\n",
      "WARNING:tensorflow:Using a while_loop for converting RngReadAndSkip cause there is no registered converter for this op.\n",
      "WARNING:tensorflow:Using a while_loop for converting Bitcast cause there is no registered converter for this op.\n",
      "WARNING:tensorflow:Using a while_loop for converting Bitcast cause there is no registered converter for this op.\n",
      "WARNING:tensorflow:Using a while_loop for converting StatelessRandomUniformV2 cause there is no registered converter for this op.\n",
      "WARNING:tensorflow:Using a while_loop for converting ImageProjectiveTransformV3 cause there is no registered converter for this op.\n",
      "WARNING:tensorflow:Using a while_loop for converting RngReadAndSkip cause there is no registered converter for this op.\n",
      "WARNING:tensorflow:Using a while_loop for converting Bitcast cause there is no registered converter for this op.\n",
      "WARNING:tensorflow:Using a while_loop for converting Bitcast cause there is no registered converter for this op.\n",
      "WARNING:tensorflow:Using a while_loop for converting StatelessRandomUniformV2 cause there is no registered converter for this op.\n",
      "WARNING:tensorflow:Using a while_loop for converting ImageProjectiveTransformV3 cause there is no registered converter for this op.\n"
     ]
    }
   ],
   "source": [
    "inputs = keras.Input(shape=(img_height, img_width, img_channels))\n",
    "x = data_augmentation(inputs)\n",
    "x = layers.Rescaling(1./255)(x)\n",
    "x = layers.Conv2D(filters=32, kernel_size=3, activation='relu')(x)\n",
    "x = layers.MaxPooling2D(pool_size=2)(x)\n",
    "x = layers.Conv2D(filters=64, kernel_size=3, activation='relu')(x)\n",
    "x = layers.MaxPooling2D(pool_size=2)(x)\n",
    "x = layers.Conv2D(filters=128, kernel_size=3, activation='relu')(x)\n",
    "x = layers.MaxPooling2D(pool_size=2)(x)\n",
    "x = layers.Conv2D(filters=256, kernel_size=3, activation='relu')(x)\n",
    "x = layers.MaxPooling2D(pool_size=2)(x)\n",
    "x = layers.Conv2D(filters=256, kernel_size=3, activation='relu')(x)\n",
    "x = layers.Flatten()(x)\n",
    "outputs = layers.Dense(4, activation='softmax')(x)\n",
    "model = keras.Model(inputs=inputs, outputs=outputs)"
   ]
  },
  {
   "cell_type": "code",
   "execution_count": 8,
   "id": "536b8b1a",
   "metadata": {},
   "outputs": [
    {
     "name": "stdout",
     "output_type": "stream",
     "text": [
      "Model: \"model\"\n",
      "_________________________________________________________________\n",
      " Layer (type)                Output Shape              Param #   \n",
      "=================================================================\n",
      " input_1 (InputLayer)        [(None, 256, 256, 3)]     0         \n",
      "                                                                 \n",
      " sequential (Sequential)     (None, 256, 256, 3)       0         \n",
      "                                                                 \n",
      " rescaling (Rescaling)       (None, 256, 256, 3)       0         \n",
      "                                                                 \n",
      " conv2d (Conv2D)             (None, 254, 254, 32)      896       \n",
      "                                                                 \n",
      " max_pooling2d (MaxPooling2D  (None, 127, 127, 32)     0         \n",
      " )                                                               \n",
      "                                                                 \n",
      " conv2d_1 (Conv2D)           (None, 125, 125, 64)      18496     \n",
      "                                                                 \n",
      " max_pooling2d_1 (MaxPooling  (None, 62, 62, 64)       0         \n",
      " 2D)                                                             \n",
      "                                                                 \n",
      " conv2d_2 (Conv2D)           (None, 60, 60, 128)       73856     \n",
      "                                                                 \n",
      " max_pooling2d_2 (MaxPooling  (None, 30, 30, 128)      0         \n",
      " 2D)                                                             \n",
      "                                                                 \n",
      " conv2d_3 (Conv2D)           (None, 28, 28, 256)       295168    \n",
      "                                                                 \n",
      " max_pooling2d_3 (MaxPooling  (None, 14, 14, 256)      0         \n",
      " 2D)                                                             \n",
      "                                                                 \n",
      " conv2d_4 (Conv2D)           (None, 12, 12, 256)       590080    \n",
      "                                                                 \n",
      " flatten (Flatten)           (None, 36864)             0         \n",
      "                                                                 \n",
      " dense (Dense)               (None, 4)                 147460    \n",
      "                                                                 \n",
      "=================================================================\n",
      "Total params: 1,125,956\n",
      "Trainable params: 1,125,956\n",
      "Non-trainable params: 0\n",
      "_________________________________________________________________\n"
     ]
    }
   ],
   "source": [
    "model.summary()"
   ]
  },
  {
   "cell_type": "code",
   "execution_count": 9,
   "id": "3ce110f0",
   "metadata": {},
   "outputs": [],
   "source": [
    "model.compile(optimizer='sgd', # Common optimizers include 'adam', 'sgd', and 'rmsprop'.\n",
    " loss='sparse_categorical_crossentropy', # Common loss functions include 'binary_crossentropy', 'categorical_crossentropy', and 'mse'.\n",
    " metrics=[\"accuracy\"]) #Common metrics include 'accuracy', 'precision', 'recall', and 'f1_score'."
   ]
  },
  {
   "cell_type": "code",
   "execution_count": 10,
   "id": "e1ce7429",
   "metadata": {},
   "outputs": [
    {
     "name": "stdout",
     "output_type": "stream",
     "text": [
      "Epoch 1/100\n",
      "WARNING:tensorflow:Using a while_loop for converting RngReadAndSkip cause there is no registered converter for this op.\n",
      "WARNING:tensorflow:Using a while_loop for converting Bitcast cause there is no registered converter for this op.\n",
      "WARNING:tensorflow:Using a while_loop for converting Bitcast cause there is no registered converter for this op.\n",
      "WARNING:tensorflow:Using a while_loop for converting StatelessRandomUniformV2 cause there is no registered converter for this op.\n",
      "WARNING:tensorflow:Using a while_loop for converting ImageProjectiveTransformV3 cause there is no registered converter for this op.\n",
      "WARNING:tensorflow:Using a while_loop for converting RngReadAndSkip cause there is no registered converter for this op.\n",
      "WARNING:tensorflow:Using a while_loop for converting Bitcast cause there is no registered converter for this op.\n",
      "WARNING:tensorflow:Using a while_loop for converting Bitcast cause there is no registered converter for this op.\n",
      "WARNING:tensorflow:Using a while_loop for converting StatelessRandomUniformV2 cause there is no registered converter for this op.\n",
      "WARNING:tensorflow:Using a while_loop for converting ImageProjectiveTransformV3 cause there is no registered converter for this op.\n",
      "WARNING:tensorflow:Using a while_loop for converting RngReadAndSkip cause there is no registered converter for this op.\n",
      "WARNING:tensorflow:Using a while_loop for converting Bitcast cause there is no registered converter for this op.\n",
      "WARNING:tensorflow:Using a while_loop for converting Bitcast cause there is no registered converter for this op.\n",
      "WARNING:tensorflow:Using a while_loop for converting StatelessRandomUniformV2 cause there is no registered converter for this op.\n",
      "WARNING:tensorflow:Using a while_loop for converting ImageProjectiveTransformV3 cause there is no registered converter for this op.\n",
      "WARNING:tensorflow:Using a while_loop for converting RngReadAndSkip cause there is no registered converter for this op.\n",
      "WARNING:tensorflow:Using a while_loop for converting Bitcast cause there is no registered converter for this op.\n",
      "WARNING:tensorflow:Using a while_loop for converting Bitcast cause there is no registered converter for this op.\n",
      "WARNING:tensorflow:Using a while_loop for converting StatelessRandomUniformV2 cause there is no registered converter for this op.\n",
      "WARNING:tensorflow:Using a while_loop for converting ImageProjectiveTransformV3 cause there is no registered converter for this op.\n",
      "84/84 [==============================] - 25s 260ms/step - loss: 1.3347 - accuracy: 0.3921 - val_loss: 1.2882 - val_accuracy: 0.4423\n",
      "Epoch 2/100\n",
      "84/84 [==============================] - 20s 235ms/step - loss: 1.2256 - accuracy: 0.4802 - val_loss: 0.9965 - val_accuracy: 0.7121\n",
      "Epoch 3/100\n",
      "84/84 [==============================] - 20s 238ms/step - loss: 1.1342 - accuracy: 0.5534 - val_loss: 0.9069 - val_accuracy: 0.7196\n",
      "Epoch 4/100\n",
      "84/84 [==============================] - 20s 238ms/step - loss: 0.9923 - accuracy: 0.6221 - val_loss: 0.9960 - val_accuracy: 0.5742\n",
      "Epoch 5/100\n",
      "84/84 [==============================] - 20s 237ms/step - loss: 0.8740 - accuracy: 0.6680 - val_loss: 0.6598 - val_accuracy: 0.7496\n",
      "Epoch 6/100\n",
      "84/84 [==============================] - 20s 238ms/step - loss: 0.7465 - accuracy: 0.7091 - val_loss: 0.6302 - val_accuracy: 0.7556\n",
      "Epoch 7/100\n",
      "84/84 [==============================] - 20s 237ms/step - loss: 0.7722 - accuracy: 0.7031 - val_loss: 0.6380 - val_accuracy: 0.7616\n",
      "Epoch 8/100\n",
      "84/84 [==============================] - 20s 237ms/step - loss: 0.7236 - accuracy: 0.7274 - val_loss: 1.0527 - val_accuracy: 0.5397\n",
      "Epoch 9/100\n",
      "84/84 [==============================] - 20s 238ms/step - loss: 0.6714 - accuracy: 0.7405 - val_loss: 0.5358 - val_accuracy: 0.7946\n",
      "Epoch 10/100\n",
      "84/84 [==============================] - 20s 236ms/step - loss: 0.6436 - accuracy: 0.7640 - val_loss: 0.5267 - val_accuracy: 0.7826\n",
      "Epoch 11/100\n",
      "84/84 [==============================] - 20s 236ms/step - loss: 0.6141 - accuracy: 0.7655 - val_loss: 0.5425 - val_accuracy: 0.8066\n",
      "Epoch 12/100\n",
      "84/84 [==============================] - 20s 238ms/step - loss: 0.5494 - accuracy: 0.7771 - val_loss: 0.6559 - val_accuracy: 0.7286\n",
      "Epoch 13/100\n",
      "84/84 [==============================] - 20s 236ms/step - loss: 0.6048 - accuracy: 0.7715 - val_loss: 0.5001 - val_accuracy: 0.8066\n",
      "Epoch 14/100\n",
      "84/84 [==============================] - 20s 235ms/step - loss: 0.4855 - accuracy: 0.7939 - val_loss: 0.4325 - val_accuracy: 0.8246\n",
      "Epoch 15/100\n",
      "84/84 [==============================] - 20s 236ms/step - loss: 0.5206 - accuracy: 0.7853 - val_loss: 0.7920 - val_accuracy: 0.7586\n",
      "Epoch 16/100\n",
      "84/84 [==============================] - 20s 238ms/step - loss: 0.4978 - accuracy: 0.8103 - val_loss: 0.4606 - val_accuracy: 0.8171\n",
      "Epoch 17/100\n",
      "84/84 [==============================] - 20s 238ms/step - loss: 0.4719 - accuracy: 0.8125 - val_loss: 1.6607 - val_accuracy: 0.6117\n",
      "Epoch 18/100\n",
      "84/84 [==============================] - 21s 244ms/step - loss: 0.5063 - accuracy: 0.8062 - val_loss: 0.3874 - val_accuracy: 0.8471\n",
      "Epoch 19/100\n",
      "84/84 [==============================] - 20s 239ms/step - loss: 0.4893 - accuracy: 0.8051 - val_loss: 0.4227 - val_accuracy: 0.8441\n",
      "Epoch 20/100\n",
      "84/84 [==============================] - 20s 240ms/step - loss: 0.4090 - accuracy: 0.8376 - val_loss: 0.3584 - val_accuracy: 0.8561\n",
      "Epoch 21/100\n",
      "84/84 [==============================] - 20s 238ms/step - loss: 0.3968 - accuracy: 0.8428 - val_loss: 0.3238 - val_accuracy: 0.8756\n",
      "Epoch 22/100\n",
      "84/84 [==============================] - 20s 236ms/step - loss: 0.4362 - accuracy: 0.8353 - val_loss: 0.5424 - val_accuracy: 0.8246\n",
      "Epoch 23/100\n",
      "84/84 [==============================] - 20s 238ms/step - loss: 0.4316 - accuracy: 0.8387 - val_loss: 0.4215 - val_accuracy: 0.8381\n",
      "Epoch 24/100\n",
      "84/84 [==============================] - 20s 236ms/step - loss: 0.4262 - accuracy: 0.8406 - val_loss: 0.3449 - val_accuracy: 0.8696\n",
      "Epoch 25/100\n",
      "84/84 [==============================] - 20s 238ms/step - loss: 0.3740 - accuracy: 0.8570 - val_loss: 0.3036 - val_accuracy: 0.8816\n",
      "Epoch 26/100\n",
      "84/84 [==============================] - 20s 237ms/step - loss: 0.4203 - accuracy: 0.8406 - val_loss: 0.3272 - val_accuracy: 0.8786\n",
      "Epoch 27/100\n",
      "84/84 [==============================] - 20s 237ms/step - loss: 0.3606 - accuracy: 0.8525 - val_loss: 0.3279 - val_accuracy: 0.8696\n",
      "Epoch 28/100\n",
      "84/84 [==============================] - 27s 319ms/step - loss: 0.3505 - accuracy: 0.8652 - val_loss: 0.3425 - val_accuracy: 0.8561\n",
      "Epoch 29/100\n",
      "84/84 [==============================] - 20s 235ms/step - loss: 0.3468 - accuracy: 0.8678 - val_loss: 0.3403 - val_accuracy: 0.8741\n",
      "Epoch 30/100\n",
      "84/84 [==============================] - 20s 235ms/step - loss: 0.3282 - accuracy: 0.8738 - val_loss: 0.2930 - val_accuracy: 0.8951\n",
      "Epoch 31/100\n",
      "84/84 [==============================] - 20s 241ms/step - loss: 0.3249 - accuracy: 0.8693 - val_loss: 0.2762 - val_accuracy: 0.8981\n",
      "Epoch 32/100\n",
      "84/84 [==============================] - 20s 239ms/step - loss: 0.3671 - accuracy: 0.8622 - val_loss: 0.3919 - val_accuracy: 0.8456\n",
      "Epoch 33/100\n",
      "84/84 [==============================] - 20s 238ms/step - loss: 0.3389 - accuracy: 0.8682 - val_loss: 0.2894 - val_accuracy: 0.8996\n",
      "Epoch 34/100\n",
      "84/84 [==============================] - 20s 235ms/step - loss: 0.3191 - accuracy: 0.8768 - val_loss: 0.2802 - val_accuracy: 0.9025\n",
      "Epoch 35/100\n",
      "84/84 [==============================] - 20s 238ms/step - loss: 0.3141 - accuracy: 0.8801 - val_loss: 0.2829 - val_accuracy: 0.8996\n",
      "Epoch 36/100\n",
      "84/84 [==============================] - 20s 239ms/step - loss: 0.3048 - accuracy: 0.8816 - val_loss: 0.2574 - val_accuracy: 0.9025\n",
      "Epoch 37/100\n",
      "84/84 [==============================] - 20s 237ms/step - loss: 0.3034 - accuracy: 0.8854 - val_loss: 0.2922 - val_accuracy: 0.8861\n",
      "Epoch 38/100\n",
      "84/84 [==============================] - 20s 239ms/step - loss: 0.3036 - accuracy: 0.8790 - val_loss: 0.2584 - val_accuracy: 0.9010\n",
      "Epoch 39/100\n",
      "84/84 [==============================] - 20s 241ms/step - loss: 0.3012 - accuracy: 0.8801 - val_loss: 0.2921 - val_accuracy: 0.8771\n",
      "Epoch 40/100\n",
      "84/84 [==============================] - 20s 240ms/step - loss: 0.3541 - accuracy: 0.8786 - val_loss: 0.2591 - val_accuracy: 0.8951\n"
     ]
    },
    {
     "name": "stdout",
     "output_type": "stream",
     "text": [
      "Epoch 41/100\n",
      "84/84 [==============================] - 20s 238ms/step - loss: 0.3056 - accuracy: 0.8872 - val_loss: 0.2710 - val_accuracy: 0.8906\n",
      "Epoch 42/100\n",
      "84/84 [==============================] - 20s 235ms/step - loss: 0.2792 - accuracy: 0.8906 - val_loss: 0.2546 - val_accuracy: 0.9010\n",
      "Epoch 43/100\n",
      "84/84 [==============================] - 19s 225ms/step - loss: 0.2736 - accuracy: 0.8973 - val_loss: 0.2794 - val_accuracy: 0.9025\n",
      "Epoch 44/100\n",
      "84/84 [==============================] - 19s 224ms/step - loss: 0.2850 - accuracy: 0.8932 - val_loss: 0.2558 - val_accuracy: 0.9025\n",
      "Epoch 45/100\n",
      "84/84 [==============================] - 19s 222ms/step - loss: 0.3536 - accuracy: 0.8779 - val_loss: 0.2935 - val_accuracy: 0.8996\n",
      "Epoch 46/100\n",
      "84/84 [==============================] - 19s 223ms/step - loss: 0.2858 - accuracy: 0.8880 - val_loss: 0.2400 - val_accuracy: 0.9115\n",
      "Epoch 47/100\n",
      "84/84 [==============================] - 19s 226ms/step - loss: 0.2693 - accuracy: 0.8936 - val_loss: 0.2447 - val_accuracy: 0.8981\n",
      "Epoch 48/100\n",
      "84/84 [==============================] - 19s 224ms/step - loss: 0.2551 - accuracy: 0.8999 - val_loss: 0.2496 - val_accuracy: 0.9010\n",
      "Epoch 49/100\n",
      "84/84 [==============================] - 19s 226ms/step - loss: 0.2558 - accuracy: 0.9037 - val_loss: 0.2449 - val_accuracy: 0.9040\n",
      "Epoch 50/100\n",
      "84/84 [==============================] - 19s 227ms/step - loss: 0.2500 - accuracy: 0.9040 - val_loss: 0.2449 - val_accuracy: 0.9145\n",
      "Epoch 51/100\n",
      "84/84 [==============================] - 19s 225ms/step - loss: 0.2650 - accuracy: 0.9055 - val_loss: 0.2829 - val_accuracy: 0.8771\n",
      "Epoch 52/100\n",
      "84/84 [==============================] - 19s 224ms/step - loss: 0.2644 - accuracy: 0.8940 - val_loss: 0.2563 - val_accuracy: 0.8981\n",
      "Epoch 53/100\n",
      "84/84 [==============================] - 19s 226ms/step - loss: 0.2478 - accuracy: 0.9040 - val_loss: 0.2427 - val_accuracy: 0.8981\n",
      "Epoch 54/100\n",
      "84/84 [==============================] - 19s 226ms/step - loss: 0.2532 - accuracy: 0.9029 - val_loss: 0.2408 - val_accuracy: 0.9175\n",
      "Epoch 55/100\n",
      "84/84 [==============================] - 19s 225ms/step - loss: 0.2501 - accuracy: 0.9037 - val_loss: 0.2605 - val_accuracy: 0.8876\n",
      "Epoch 56/100\n",
      "84/84 [==============================] - 19s 226ms/step - loss: 0.2596 - accuracy: 0.9044 - val_loss: 0.2366 - val_accuracy: 0.9160\n",
      "Epoch 57/100\n",
      "84/84 [==============================] - 19s 225ms/step - loss: 0.4022 - accuracy: 0.8734 - val_loss: 0.2757 - val_accuracy: 0.8966\n",
      "Epoch 58/100\n",
      "84/84 [==============================] - 19s 224ms/step - loss: 0.3040 - accuracy: 0.8839 - val_loss: 0.2543 - val_accuracy: 0.9070\n",
      "Epoch 59/100\n",
      "84/84 [==============================] - 19s 224ms/step - loss: 0.3404 - accuracy: 0.8831 - val_loss: 0.2487 - val_accuracy: 0.9085\n",
      "Epoch 60/100\n",
      "84/84 [==============================] - 19s 226ms/step - loss: 0.2715 - accuracy: 0.9018 - val_loss: 0.2497 - val_accuracy: 0.9085\n",
      "Epoch 61/100\n",
      "84/84 [==============================] - 19s 226ms/step - loss: 0.2618 - accuracy: 0.9022 - val_loss: 0.2663 - val_accuracy: 0.8906\n",
      "Epoch 62/100\n",
      "84/84 [==============================] - 19s 226ms/step - loss: 0.2698 - accuracy: 0.8951 - val_loss: 0.2968 - val_accuracy: 0.9040\n",
      "Epoch 63/100\n",
      "84/84 [==============================] - 19s 225ms/step - loss: 0.2494 - accuracy: 0.9066 - val_loss: 0.2433 - val_accuracy: 0.8951\n",
      "Epoch 64/100\n",
      "84/84 [==============================] - 19s 223ms/step - loss: 0.2391 - accuracy: 0.9108 - val_loss: 0.2376 - val_accuracy: 0.9115\n",
      "Epoch 65/100\n",
      "84/84 [==============================] - 19s 225ms/step - loss: 0.3371 - accuracy: 0.8842 - val_loss: 0.5463 - val_accuracy: 0.7616\n",
      "Epoch 66/100\n",
      "84/84 [==============================] - 20s 243ms/step - loss: 0.2787 - accuracy: 0.8973 - val_loss: 0.2450 - val_accuracy: 0.9055\n",
      "Epoch 67/100\n",
      "84/84 [==============================] - 22s 256ms/step - loss: 0.2454 - accuracy: 0.9141 - val_loss: 0.2526 - val_accuracy: 0.8891\n",
      "Epoch 68/100\n",
      "84/84 [==============================] - 21s 250ms/step - loss: 0.2275 - accuracy: 0.9096 - val_loss: 0.2333 - val_accuracy: 0.9115\n",
      "Epoch 69/100\n",
      "84/84 [==============================] - 21s 250ms/step - loss: 0.2285 - accuracy: 0.9137 - val_loss: 0.2306 - val_accuracy: 0.9070\n",
      "Epoch 70/100\n",
      "84/84 [==============================] - 19s 224ms/step - loss: 0.2275 - accuracy: 0.9134 - val_loss: 0.2259 - val_accuracy: 0.9235\n",
      "Epoch 71/100\n",
      "84/84 [==============================] - 19s 225ms/step - loss: 0.2172 - accuracy: 0.9190 - val_loss: 0.2178 - val_accuracy: 0.9145\n",
      "Epoch 72/100\n",
      "84/84 [==============================] - 19s 224ms/step - loss: 0.2260 - accuracy: 0.9156 - val_loss: 0.2217 - val_accuracy: 0.9205\n",
      "Epoch 73/100\n",
      "84/84 [==============================] - 19s 225ms/step - loss: 0.2192 - accuracy: 0.9156 - val_loss: 0.2340 - val_accuracy: 0.9145\n",
      "Epoch 74/100\n",
      "84/84 [==============================] - 19s 225ms/step - loss: 0.2182 - accuracy: 0.9152 - val_loss: 0.2599 - val_accuracy: 0.9100\n",
      "Epoch 75/100\n",
      "84/84 [==============================] - 19s 223ms/step - loss: 0.2160 - accuracy: 0.9223 - val_loss: 0.2372 - val_accuracy: 0.9145\n",
      "Epoch 76/100\n",
      "84/84 [==============================] - 19s 223ms/step - loss: 0.3451 - accuracy: 0.8906 - val_loss: 0.2636 - val_accuracy: 0.8906\n",
      "Epoch 77/100\n",
      "84/84 [==============================] - 19s 223ms/step - loss: 0.2266 - accuracy: 0.9134 - val_loss: 0.2283 - val_accuracy: 0.9100\n",
      "Epoch 78/100\n",
      "84/84 [==============================] - 19s 223ms/step - loss: 0.2198 - accuracy: 0.9178 - val_loss: 0.2371 - val_accuracy: 0.9100\n",
      "Epoch 79/100\n",
      "84/84 [==============================] - 19s 223ms/step - loss: 0.2154 - accuracy: 0.9175 - val_loss: 0.2360 - val_accuracy: 0.9145\n",
      "Epoch 80/100\n",
      "84/84 [==============================] - 19s 223ms/step - loss: 0.2116 - accuracy: 0.9178 - val_loss: 0.2463 - val_accuracy: 0.8996\n",
      "Epoch 81/100\n",
      "84/84 [==============================] - 19s 224ms/step - loss: 0.1986 - accuracy: 0.9287 - val_loss: 0.2291 - val_accuracy: 0.9130\n",
      "Epoch 82/100\n",
      "84/84 [==============================] - 19s 224ms/step - loss: 0.2132 - accuracy: 0.9186 - val_loss: 0.2330 - val_accuracy: 0.9205\n",
      "Epoch 83/100\n",
      "84/84 [==============================] - 19s 227ms/step - loss: 0.2068 - accuracy: 0.9193 - val_loss: 0.2603 - val_accuracy: 0.9085\n",
      "Epoch 84/100\n",
      "84/84 [==============================] - 19s 226ms/step - loss: 0.2026 - accuracy: 0.9205 - val_loss: 0.2496 - val_accuracy: 0.9100\n",
      "Epoch 85/100\n",
      "84/84 [==============================] - 19s 224ms/step - loss: 0.1921 - accuracy: 0.9249 - val_loss: 0.2507 - val_accuracy: 0.9100\n",
      "Epoch 86/100\n",
      "84/84 [==============================] - 19s 224ms/step - loss: 0.1955 - accuracy: 0.9332 - val_loss: 0.2254 - val_accuracy: 0.9235\n",
      "Epoch 87/100\n",
      "84/84 [==============================] - 19s 225ms/step - loss: 0.1880 - accuracy: 0.9249 - val_loss: 0.2291 - val_accuracy: 0.9220\n",
      "Epoch 88/100\n",
      "84/84 [==============================] - 19s 224ms/step - loss: 0.1957 - accuracy: 0.9231 - val_loss: 0.2166 - val_accuracy: 0.9220\n",
      "Epoch 89/100\n",
      "84/84 [==============================] - 19s 224ms/step - loss: 0.1880 - accuracy: 0.9283 - val_loss: 0.2245 - val_accuracy: 0.9130\n",
      "Epoch 90/100\n",
      "84/84 [==============================] - 19s 224ms/step - loss: 0.1828 - accuracy: 0.9268 - val_loss: 0.2330 - val_accuracy: 0.9220\n",
      "Epoch 91/100\n",
      "84/84 [==============================] - 19s 223ms/step - loss: 0.1852 - accuracy: 0.9261 - val_loss: 0.2327 - val_accuracy: 0.9190\n",
      "Epoch 92/100\n",
      "84/84 [==============================] - 19s 222ms/step - loss: 0.1882 - accuracy: 0.9298 - val_loss: 0.2614 - val_accuracy: 0.8996\n",
      "Epoch 93/100\n",
      "84/84 [==============================] - 19s 224ms/step - loss: 0.1828 - accuracy: 0.9313 - val_loss: 0.2495 - val_accuracy: 0.9085\n",
      "Epoch 94/100\n",
      "84/84 [==============================] - 19s 224ms/step - loss: 0.1797 - accuracy: 0.9313 - val_loss: 0.2295 - val_accuracy: 0.9190\n",
      "Epoch 95/100\n",
      "84/84 [==============================] - 19s 222ms/step - loss: 0.1707 - accuracy: 0.9332 - val_loss: 0.2486 - val_accuracy: 0.9160\n",
      "Epoch 96/100\n",
      "84/84 [==============================] - 19s 224ms/step - loss: 0.1721 - accuracy: 0.9361 - val_loss: 0.2838 - val_accuracy: 0.8861\n",
      "Epoch 97/100\n",
      "84/84 [==============================] - 19s 223ms/step - loss: 0.1615 - accuracy: 0.9388 - val_loss: 0.2454 - val_accuracy: 0.9070\n",
      "Epoch 98/100\n",
      "84/84 [==============================] - 19s 223ms/step - loss: 0.1833 - accuracy: 0.9320 - val_loss: 0.2582 - val_accuracy: 0.9040\n",
      "Epoch 99/100\n",
      "84/84 [==============================] - 19s 223ms/step - loss: 0.1688 - accuracy: 0.9324 - val_loss: 0.2381 - val_accuracy: 0.9190\n",
      "Epoch 100/100\n",
      "84/84 [==============================] - 19s 224ms/step - loss: 0.1623 - accuracy: 0.9354 - val_loss: 0.2530 - val_accuracy: 0.9130\n"
     ]
    }
   ],
   "source": [
    "history = model.fit(\n",
    "  train_ds,\n",
    "  validation_data=val_ds,\n",
    "  epochs=100\n",
    ")"
   ]
  },
  {
   "cell_type": "code",
   "execution_count": 11,
   "id": "b7145502",
   "metadata": {},
   "outputs": [
    {
     "data": {
      "text/plain": [
       "<matplotlib.legend.Legend at 0x11acc9f6be0>"
      ]
     },
     "execution_count": 11,
     "metadata": {},
     "output_type": "execute_result"
    },
    {
     "data": {
      "image/png": "[encoded data removed]",
      "text/plain": [
       "<Figure size 640x480 with 1 Axes>"
      ]
     },
     "metadata": {},
     "output_type": "display_data"
    },
    {
     "data": {
      "image/png": "[encoded data removed]",
      "text/plain": [
       "<Figure size 640x480 with 1 Axes>"
      ]
     },
     "metadata": {},
     "output_type": "display_data"
    }
   ],
   "source": [
    "accuracy = history.history['accuracy']\n",
    "val_accuracy = history.history['val_accuracy']\n",
    "loss = history.history['loss']\n",
    "val_loss = history.history['val_loss']\n",
    "epochs = range(1, len(accuracy) + 1)\n",
    "plt.plot(epochs, accuracy, 'bo', label='Training accuracy')\n",
    "plt.plot(epochs, val_accuracy, 'b', label='Validation accuracy')\n",
    "plt.title('Training and validation accuracy')\n",
    "plt.legend()\n",
    "plt.figure()\n",
    "plt.plot(epochs, loss, 'bo', label='Training loss')\n",
    "plt.plot(epochs, val_loss, 'b', label='Validation loss')\n",
    "plt.title('Training and validation loss')\n",
    "plt.legend()"
   ]
  },
  {
   "cell_type": "code",
   "execution_count": 14,
   "id": "f250f2e8",
   "metadata": {
    "scrolled": true
   },
   "outputs": [
    {
     "name": "stdout",
     "output_type": "stream",
     "text": [
      "WARNING:tensorflow:Using a while_loop for converting RngReadAndSkip cause there is no registered converter for this op.\n",
      "WARNING:tensorflow:Using a while_loop for converting Bitcast cause there is no registered converter for this op.\n",
      "WARNING:tensorflow:Using a while_loop for converting Bitcast cause there is no registered converter for this op.\n",
      "WARNING:tensorflow:Using a while_loop for converting StatelessRandomUniformV2 cause there is no registered converter for this op.\n",
      "WARNING:tensorflow:Using a while_loop for converting ImageProjectiveTransformV3 cause there is no registered converter for this op.\n",
      "WARNING:tensorflow:Using a while_loop for converting RngReadAndSkip cause there is no registered converter for this op.\n",
      "WARNING:tensorflow:Using a while_loop for converting Bitcast cause there is no registered converter for this op.\n",
      "WARNING:tensorflow:Using a while_loop for converting Bitcast cause there is no registered converter for this op.\n",
      "WARNING:tensorflow:Using a while_loop for converting StatelessRandomUniformV2 cause there is no registered converter for this op.\n",
      "WARNING:tensorflow:Using a while_loop for converting ImageProjectiveTransformV3 cause there is no registered converter for this op.\n",
      "WARNING:tensorflow:Using a while_loop for converting RngReadAndSkip cause there is no registered converter for this op.\n",
      "WARNING:tensorflow:Using a while_loop for converting Bitcast cause there is no registered converter for this op.\n",
      "WARNING:tensorflow:Using a while_loop for converting Bitcast cause there is no registered converter for this op.\n",
      "WARNING:tensorflow:Using a while_loop for converting StatelessRandomUniformV2 cause there is no registered converter for this op.\n",
      "WARNING:tensorflow:Using a while_loop for converting ImageProjectiveTransformV3 cause there is no registered converter for this op.\n",
      "WARNING:tensorflow:Using a while_loop for converting RngReadAndSkip cause there is no registered converter for this op.\n",
      "WARNING:tensorflow:Using a while_loop for converting Bitcast cause there is no registered converter for this op.\n",
      "WARNING:tensorflow:Using a while_loop for converting Bitcast cause there is no registered converter for this op.\n",
      "WARNING:tensorflow:Using a while_loop for converting StatelessRandomUniformV2 cause there is no registered converter for this op.\n",
      "WARNING:tensorflow:Using a while_loop for converting ImageProjectiveTransformV3 cause there is no registered converter for this op.\n",
      "WARNING:tensorflow:Using a while_loop for converting RngReadAndSkip cause there is no registered converter for this op.\n",
      "WARNING:tensorflow:Using a while_loop for converting Bitcast cause there is no registered converter for this op.\n",
      "WARNING:tensorflow:Using a while_loop for converting Bitcast cause there is no registered converter for this op.\n",
      "WARNING:tensorflow:Using a while_loop for converting StatelessRandomUniformV2 cause there is no registered converter for this op.\n",
      "WARNING:tensorflow:Using a while_loop for converting ImageProjectiveTransformV3 cause there is no registered converter for this op.\n",
      "WARNING:tensorflow:Using a while_loop for converting RngReadAndSkip cause there is no registered converter for this op.\n",
      "WARNING:tensorflow:Using a while_loop for converting Bitcast cause there is no registered converter for this op.\n",
      "WARNING:tensorflow:Using a while_loop for converting Bitcast cause there is no registered converter for this op.\n",
      "WARNING:tensorflow:Using a while_loop for converting StatelessRandomUniformV2 cause there is no registered converter for this op.\n",
      "WARNING:tensorflow:Using a while_loop for converting ImageProjectiveTransformV3 cause there is no registered converter for this op.\n",
      "WARNING:tensorflow:Using a while_loop for converting RngReadAndSkip cause there is no registered converter for this op.\n",
      "WARNING:tensorflow:Using a while_loop for converting Bitcast cause there is no registered converter for this op.\n",
      "WARNING:tensorflow:Using a while_loop for converting Bitcast cause there is no registered converter for this op.\n",
      "WARNING:tensorflow:Using a while_loop for converting StatelessRandomUniformV2 cause there is no registered converter for this op.\n",
      "WARNING:tensorflow:Using a while_loop for converting ImageProjectiveTransformV3 cause there is no registered converter for this op.\n",
      "WARNING:tensorflow:Using a while_loop for converting RngReadAndSkip cause there is no registered converter for this op.\n",
      "WARNING:tensorflow:Using a while_loop for converting Bitcast cause there is no registered converter for this op.\n",
      "WARNING:tensorflow:Using a while_loop for converting Bitcast cause there is no registered converter for this op.\n",
      "WARNING:tensorflow:Using a while_loop for converting StatelessRandomUniformV2 cause there is no registered converter for this op.\n",
      "WARNING:tensorflow:Using a while_loop for converting ImageProjectiveTransformV3 cause there is no registered converter for this op.\n"
     ]
    },
    {
     "name": "stderr",
     "output_type": "stream",
     "text": [
      "WARNING:absl:Found untraced functions such as _jit_compiled_convolution_op, _jit_compiled_convolution_op, _jit_compiled_convolution_op, _jit_compiled_convolution_op, _jit_compiled_convolution_op while saving (showing 5 of 5). These functions will not be directly callable after loading.\n"
     ]
    },
    {
     "name": "stdout",
     "output_type": "stream",
     "text": [
      "INFO:tensorflow:Assets written to: ./saved_models/Reshaped zero-padded Data Model\\assets\n"
     ]
    },
    {
     "name": "stderr",
     "output_type": "stream",
     "text": [
      "INFO:tensorflow:Assets written to: ./saved_models/Reshaped zero-padded Data Model\\assets\n"
     ]
    }
   ],
   "source": [
    "save_path = '../3. Model Selection/saved_models/Zero-padded Data Model/'\n",
    "if not os.path.exists(save_path):\n",
    "    os.makedirs(save_path)\n",
    "save_model(model, save_path)"
   ]
  },
  {
   "cell_type": "code",
   "execution_count": null,
   "id": "7841fbba",
   "metadata": {},
   "outputs": [],
   "source": []
  }
 ],
 "metadata": {
  "kernelspec": {
   "display_name": "Python 3 (ipykernel)",
   "language": "python",
   "name": "python3"
  },
  "language_info": {
   "codemirror_mode": {
    "name": "ipython",
    "version": 3
   },
   "file_extension": ".py",
   "mimetype": "text/x-python",
   "name": "python",
   "nbconvert_exporter": "python",
   "pygments_lexer": "ipython3",
   "version": "3.9.16"
  }
 },
 "nbformat": 4,
 "nbformat_minor": 5
}
