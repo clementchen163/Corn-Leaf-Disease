{
 "cells": [
  {
   "cell_type": "code",
   "execution_count": 16,
   "id": "5891968a",
   "metadata": {},
   "outputs": [],
   "source": [
    "from tensorflow import keras\n",
    "from tensorflow.keras import layers\n",
    "import splitfolders\n",
    "from tensorflow.keras.utils import image_dataset_from_directory\n",
    "import matplotlib.pyplot as plt\n",
    "import os\n",
    "import tensorflow as tf\n",
    "import numpy as np\n",
    "from modelfunc import save_model"
   ]
  },
  {
   "cell_type": "code",
   "execution_count": null,
   "id": "b5dc091c",
   "metadata": {},
   "outputs": [],
   "source": [
    "np.random.seed(123)"
   ]
  },
  {
   "cell_type": "code",
   "execution_count": null,
   "id": "b97fec7a",
   "metadata": {},
   "outputs": [],
   "source": [
    "print('Num GPUs Available: ', len(tf.config.list_physical_devices('GPU')))"
   ]
  },
  {
   "cell_type": "code",
   "execution_count": null,
   "id": "b9f8f0f7",
   "metadata": {},
   "outputs": [],
   "source": [
    "tf.get_logger().setLevel('ERROR')"
   ]
  },
  {
   "cell_type": "markdown",
   "id": "8a5ca9f9",
   "metadata": {},
   "source": [
    "#### Image Parameters"
   ]
  },
  {
   "cell_type": "code",
   "execution_count": 2,
   "id": "e9b0fc81",
   "metadata": {},
   "outputs": [],
   "source": [
    "batch_size = 32\n",
    "img_height = 256\n",
    "img_width = 256\n",
    "img_channels = 3"
   ]
  },
  {
   "cell_type": "markdown",
   "id": "a6677ea9",
   "metadata": {},
   "source": [
    "#### Data"
   ]
  },
  {
   "cell_type": "code",
   "execution_count": 3,
   "id": "6bedf1f1",
   "metadata": {},
   "outputs": [
    {
     "name": "stdout",
     "output_type": "stream",
     "text": [
      "Found 2678 files belonging to 4 classes.\n",
      "Found 667 files belonging to 4 classes.\n",
      "Found 843 files belonging to 4 classes.\n"
     ]
    }
   ],
   "source": [
    "train_split_test_dir='../0. Project Data/Reshaped zero-padded and split data'\n",
    "train_ds = image_dataset_from_directory(\n",
    "    train_split_test_dir + '/train',\n",
    "    image_size=(img_width, img_height),\n",
    "    batch_size=batch_size)\n",
    "val_ds = image_dataset_from_directory(\n",
    "    train_split_test_dir + '/val',\n",
    "    image_size=(img_width, img_height),\n",
    "    batch_size=batch_size)\n",
    "test_ds = image_dataset_from_directory(\n",
    "    train_split_test_dir + '/test',\n",
    "    image_size=(img_width, img_height),\n",
    "    batch_size=batch_size)"
   ]
  },
  {
   "cell_type": "markdown",
   "id": "9b24ce82",
   "metadata": {},
   "source": [
    "Here we use the convolutional base from a pre-trained model trained with ImageNet dataset. We freeze the weights on the convolutional base because if we don't, the randomly initialized dense classifying layers will backpropogate and destroy all the learning from our pretrained convolutional base."
   ]
  },
  {
   "cell_type": "code",
   "execution_count": 4,
   "id": "96413537",
   "metadata": {},
   "outputs": [],
   "source": [
    "conv_base = keras.applications.vgg16.VGG16(\n",
    " weights='imagenet',\n",
    " include_top=False)\n",
    "conv_base.trainable = False"
   ]
  },
  {
   "cell_type": "code",
   "execution_count": 5,
   "id": "35344f72",
   "metadata": {},
   "outputs": [
    {
     "name": "stdout",
     "output_type": "stream",
     "text": [
      "Model: \"vgg16\"\n",
      "_________________________________________________________________\n",
      " Layer (type)                Output Shape              Param #   \n",
      "=================================================================\n",
      " input_1 (InputLayer)        [(None, None, None, 3)]   0         \n",
      "                                                                 \n",
      " block1_conv1 (Conv2D)       (None, None, None, 64)    1792      \n",
      "                                                                 \n",
      " block1_conv2 (Conv2D)       (None, None, None, 64)    36928     \n",
      "                                                                 \n",
      " block1_pool (MaxPooling2D)  (None, None, None, 64)    0         \n",
      "                                                                 \n",
      " block2_conv1 (Conv2D)       (None, None, None, 128)   73856     \n",
      "                                                                 \n",
      " block2_conv2 (Conv2D)       (None, None, None, 128)   147584    \n",
      "                                                                 \n",
      " block2_pool (MaxPooling2D)  (None, None, None, 128)   0         \n",
      "                                                                 \n",
      " block3_conv1 (Conv2D)       (None, None, None, 256)   295168    \n",
      "                                                                 \n",
      " block3_conv2 (Conv2D)       (None, None, None, 256)   590080    \n",
      "                                                                 \n",
      " block3_conv3 (Conv2D)       (None, None, None, 256)   590080    \n",
      "                                                                 \n",
      " block3_pool (MaxPooling2D)  (None, None, None, 256)   0         \n",
      "                                                                 \n",
      " block4_conv1 (Conv2D)       (None, None, None, 512)   1180160   \n",
      "                                                                 \n",
      " block4_conv2 (Conv2D)       (None, None, None, 512)   2359808   \n",
      "                                                                 \n",
      " block4_conv3 (Conv2D)       (None, None, None, 512)   2359808   \n",
      "                                                                 \n",
      " block4_pool (MaxPooling2D)  (None, None, None, 512)   0         \n",
      "                                                                 \n",
      " block5_conv1 (Conv2D)       (None, None, None, 512)   2359808   \n",
      "                                                                 \n",
      " block5_conv2 (Conv2D)       (None, None, None, 512)   2359808   \n",
      "                                                                 \n",
      " block5_conv3 (Conv2D)       (None, None, None, 512)   2359808   \n",
      "                                                                 \n",
      " block5_pool (MaxPooling2D)  (None, None, None, 512)   0         \n",
      "                                                                 \n",
      "=================================================================\n",
      "Total params: 14,714,688\n",
      "Trainable params: 0\n",
      "Non-trainable params: 14,714,688\n",
      "_________________________________________________________________\n"
     ]
    }
   ],
   "source": [
    "conv_base.summary()"
   ]
  },
  {
   "cell_type": "code",
   "execution_count": 6,
   "id": "138efe25",
   "metadata": {},
   "outputs": [],
   "source": [
    "# enginerring more data by applying randomized horizontal flips, zooms(+/- 20%), and rotates (+/- 10%)\n",
    "data_augmentation = keras.Sequential([layers.RandomFlip('horizontal'), layers.RandomRotation(0.1), layers.RandomZoom(0.2),])"
   ]
  },
  {
   "cell_type": "code",
   "execution_count": 7,
   "id": "dfd8df7f",
   "metadata": {},
   "outputs": [
    {
     "name": "stdout",
     "output_type": "stream",
     "text": [
      "WARNING:tensorflow:Using a while_loop for converting RngReadAndSkip cause there is no registered converter for this op.\n",
      "WARNING:tensorflow:Using a while_loop for converting Bitcast cause there is no registered converter for this op.\n",
      "WARNING:tensorflow:Using a while_loop for converting Bitcast cause there is no registered converter for this op.\n",
      "WARNING:tensorflow:Using a while_loop for converting StatelessRandomUniformV2 cause there is no registered converter for this op.\n",
      "WARNING:tensorflow:Using a while_loop for converting ImageProjectiveTransformV3 cause there is no registered converter for this op.\n",
      "WARNING:tensorflow:Using a while_loop for converting RngReadAndSkip cause there is no registered converter for this op.\n",
      "WARNING:tensorflow:Using a while_loop for converting Bitcast cause there is no registered converter for this op.\n",
      "WARNING:tensorflow:Using a while_loop for converting Bitcast cause there is no registered converter for this op.\n",
      "WARNING:tensorflow:Using a while_loop for converting StatelessRandomUniformV2 cause there is no registered converter for this op.\n",
      "WARNING:tensorflow:Using a while_loop for converting ImageProjectiveTransformV3 cause there is no registered converter for this op.\n",
      "WARNING:tensorflow:Using a while_loop for converting RngReadAndSkip cause there is no registered converter for this op.\n",
      "WARNING:tensorflow:Using a while_loop for converting Bitcast cause there is no registered converter for this op.\n",
      "WARNING:tensorflow:Using a while_loop for converting Bitcast cause there is no registered converter for this op.\n",
      "WARNING:tensorflow:Using a while_loop for converting StatelessRandomUniformV2 cause there is no registered converter for this op.\n",
      "WARNING:tensorflow:Using a while_loop for converting ImageProjectiveTransformV3 cause there is no registered converter for this op.\n",
      "WARNING:tensorflow:Using a while_loop for converting RngReadAndSkip cause there is no registered converter for this op.\n",
      "WARNING:tensorflow:Using a while_loop for converting Bitcast cause there is no registered converter for this op.\n",
      "WARNING:tensorflow:Using a while_loop for converting Bitcast cause there is no registered converter for this op.\n",
      "WARNING:tensorflow:Using a while_loop for converting StatelessRandomUniformV2 cause there is no registered converter for this op.\n",
      "WARNING:tensorflow:Using a while_loop for converting ImageProjectiveTransformV3 cause there is no registered converter for this op.\n"
     ]
    }
   ],
   "source": [
    "inputs = keras.Input(shape=(img_height, img_width, img_channels))\n",
    "x = data_augmentation(inputs)\n",
    "x = keras.applications.vgg16.preprocess_input(x)\n",
    "x = conv_base(x)\n",
    "x = layers.Flatten()(x)\n",
    "x = layers.Dense(256)(x)\n",
    "x = layers.Dropout(0.1)(x)\n",
    "outputs = layers.Dense(4, activation='softmax')(x)\n",
    "model = keras.Model(inputs, outputs)"
   ]
  },
  {
   "cell_type": "code",
   "execution_count": 8,
   "id": "dea8cb69",
   "metadata": {
    "scrolled": true
   },
   "outputs": [
    {
     "name": "stdout",
     "output_type": "stream",
     "text": [
      "Model: \"model\"\n",
      "_________________________________________________________________\n",
      " Layer (type)                Output Shape              Param #   \n",
      "=================================================================\n",
      " input_2 (InputLayer)        [(None, 256, 256, 3)]     0         \n",
      "                                                                 \n",
      " sequential (Sequential)     (None, 256, 256, 3)       0         \n",
      "                                                                 \n",
      " tf.__operators__.getitem (S  (None, 256, 256, 3)      0         \n",
      " licingOpLambda)                                                 \n",
      "                                                                 \n",
      " tf.nn.bias_add (TFOpLambda)  (None, 256, 256, 3)      0         \n",
      "                                                                 \n",
      " vgg16 (Functional)          (None, None, None, 512)   14714688  \n",
      "                                                                 \n",
      " flatten (Flatten)           (None, 32768)             0         \n",
      "                                                                 \n",
      " dense (Dense)               (None, 256)               8388864   \n",
      "                                                                 \n",
      " dropout (Dropout)           (None, 256)               0         \n",
      "                                                                 \n",
      " dense_1 (Dense)             (None, 4)                 1028      \n",
      "                                                                 \n",
      "=================================================================\n",
      "Total params: 23,104,580\n",
      "Trainable params: 8,389,892\n",
      "Non-trainable params: 14,714,688\n",
      "_________________________________________________________________\n"
     ]
    }
   ],
   "source": [
    "model.summary()"
   ]
  },
  {
   "cell_type": "code",
   "execution_count": 10,
   "id": "31470a68",
   "metadata": {},
   "outputs": [],
   "source": [
    "model.compile(loss='sparse_categorical_crossentropy',\n",
    " optimizer='adam',\n",
    " metrics=['accuracy'])"
   ]
  },
  {
   "cell_type": "code",
   "execution_count": 12,
   "id": "c618c915",
   "metadata": {
    "scrolled": true
   },
   "outputs": [
    {
     "name": "stdout",
     "output_type": "stream",
     "text": [
      "Epoch 1/100\n",
      "WARNING:tensorflow:Using a while_loop for converting RngReadAndSkip cause there is no registered converter for this op.\n",
      "WARNING:tensorflow:Using a while_loop for converting Bitcast cause there is no registered converter for this op.\n",
      "WARNING:tensorflow:Using a while_loop for converting Bitcast cause there is no registered converter for this op.\n",
      "WARNING:tensorflow:Using a while_loop for converting StatelessRandomUniformV2 cause there is no registered converter for this op.\n",
      "WARNING:tensorflow:Using a while_loop for converting ImageProjectiveTransformV3 cause there is no registered converter for this op.\n",
      "WARNING:tensorflow:Using a while_loop for converting RngReadAndSkip cause there is no registered converter for this op.\n",
      "WARNING:tensorflow:Using a while_loop for converting Bitcast cause there is no registered converter for this op.\n",
      "WARNING:tensorflow:Using a while_loop for converting Bitcast cause there is no registered converter for this op.\n",
      "WARNING:tensorflow:Using a while_loop for converting StatelessRandomUniformV2 cause there is no registered converter for this op.\n",
      "WARNING:tensorflow:Using a while_loop for converting ImageProjectiveTransformV3 cause there is no registered converter for this op.\n",
      "WARNING:tensorflow:Using a while_loop for converting RngReadAndSkip cause there is no registered converter for this op.\n",
      "WARNING:tensorflow:Using a while_loop for converting Bitcast cause there is no registered converter for this op.\n",
      "WARNING:tensorflow:Using a while_loop for converting Bitcast cause there is no registered converter for this op.\n",
      "WARNING:tensorflow:Using a while_loop for converting StatelessRandomUniformV2 cause there is no registered converter for this op.\n",
      "WARNING:tensorflow:Using a while_loop for converting ImageProjectiveTransformV3 cause there is no registered converter for this op.\n",
      "WARNING:tensorflow:Using a while_loop for converting RngReadAndSkip cause there is no registered converter for this op.\n",
      "WARNING:tensorflow:Using a while_loop for converting Bitcast cause there is no registered converter for this op.\n",
      "WARNING:tensorflow:Using a while_loop for converting Bitcast cause there is no registered converter for this op.\n",
      "WARNING:tensorflow:Using a while_loop for converting StatelessRandomUniformV2 cause there is no registered converter for this op.\n",
      "WARNING:tensorflow:Using a while_loop for converting ImageProjectiveTransformV3 cause there is no registered converter for this op.\n",
      "84/84 [==============================] - 49s 478ms/step - loss: 23.2625 - accuracy: 0.8391 - val_loss: 8.1665 - val_accuracy: 0.9250\n",
      "Epoch 2/100\n",
      "84/84 [==============================] - 29s 343ms/step - loss: 12.2823 - accuracy: 0.9059 - val_loss: 14.2320 - val_accuracy: 0.8861\n",
      "Epoch 3/100\n",
      "84/84 [==============================] - 29s 341ms/step - loss: 6.0683 - accuracy: 0.9358 - val_loss: 6.0449 - val_accuracy: 0.9235\n",
      "Epoch 4/100\n",
      "84/84 [==============================] - 29s 343ms/step - loss: 3.3338 - accuracy: 0.9440 - val_loss: 5.8626 - val_accuracy: 0.9205\n",
      "Epoch 5/100\n",
      "84/84 [==============================] - 29s 342ms/step - loss: 2.6309 - accuracy: 0.9470 - val_loss: 5.8241 - val_accuracy: 0.8981\n",
      "Epoch 6/100\n",
      "84/84 [==============================] - 29s 349ms/step - loss: 2.2277 - accuracy: 0.9492 - val_loss: 6.5437 - val_accuracy: 0.9115\n",
      "Epoch 7/100\n",
      "84/84 [==============================] - 29s 344ms/step - loss: 1.4501 - accuracy: 0.9630 - val_loss: 4.4651 - val_accuracy: 0.9175\n",
      "Epoch 8/100\n",
      "84/84 [==============================] - 29s 343ms/step - loss: 1.4875 - accuracy: 0.9567 - val_loss: 3.5473 - val_accuracy: 0.9040\n",
      "Epoch 9/100\n",
      "84/84 [==============================] - 29s 342ms/step - loss: 0.7823 - accuracy: 0.9671 - val_loss: 3.0026 - val_accuracy: 0.9325\n",
      "Epoch 10/100\n",
      "84/84 [==============================] - 29s 341ms/step - loss: 1.3336 - accuracy: 0.9608 - val_loss: 2.4724 - val_accuracy: 0.9355\n",
      "Epoch 11/100\n",
      "84/84 [==============================] - 29s 342ms/step - loss: 0.5690 - accuracy: 0.9712 - val_loss: 1.8468 - val_accuracy: 0.9355\n",
      "Epoch 12/100\n",
      "84/84 [==============================] - 29s 341ms/step - loss: 0.7310 - accuracy: 0.9686 - val_loss: 3.9245 - val_accuracy: 0.9100\n",
      "Epoch 13/100\n",
      "84/84 [==============================] - 29s 341ms/step - loss: 0.7874 - accuracy: 0.9705 - val_loss: 1.4791 - val_accuracy: 0.9445\n",
      "Epoch 14/100\n",
      "84/84 [==============================] - 29s 344ms/step - loss: 0.7259 - accuracy: 0.9690 - val_loss: 2.3699 - val_accuracy: 0.9490\n",
      "Epoch 15/100\n",
      "84/84 [==============================] - 30s 361ms/step - loss: 0.6759 - accuracy: 0.9642 - val_loss: 1.8230 - val_accuracy: 0.9355\n",
      "Epoch 16/100\n",
      "84/84 [==============================] - 31s 373ms/step - loss: 0.6269 - accuracy: 0.9772 - val_loss: 7.5696 - val_accuracy: 0.9055\n",
      "Epoch 17/100\n",
      "84/84 [==============================] - 29s 345ms/step - loss: 0.6313 - accuracy: 0.9716 - val_loss: 2.9678 - val_accuracy: 0.9070\n",
      "Epoch 18/100\n",
      "84/84 [==============================] - 29s 341ms/step - loss: 0.9809 - accuracy: 0.9649 - val_loss: 1.9942 - val_accuracy: 0.9370\n",
      "Epoch 19/100\n",
      "84/84 [==============================] - 29s 343ms/step - loss: 0.8457 - accuracy: 0.9671 - val_loss: 3.3823 - val_accuracy: 0.9220\n",
      "Epoch 20/100\n",
      "84/84 [==============================] - 29s 341ms/step - loss: 1.0513 - accuracy: 0.9653 - val_loss: 2.8377 - val_accuracy: 0.9400\n",
      "Epoch 21/100\n",
      "84/84 [==============================] - 29s 340ms/step - loss: 1.0352 - accuracy: 0.9694 - val_loss: 2.9898 - val_accuracy: 0.9370\n",
      "Epoch 22/100\n",
      "84/84 [==============================] - 29s 341ms/step - loss: 0.9853 - accuracy: 0.9694 - val_loss: 3.1207 - val_accuracy: 0.9415\n",
      "Epoch 23/100\n",
      "84/84 [==============================] - 29s 342ms/step - loss: 0.6121 - accuracy: 0.9757 - val_loss: 1.8644 - val_accuracy: 0.9475\n",
      "Epoch 24/100\n",
      "84/84 [==============================] - 29s 342ms/step - loss: 0.7287 - accuracy: 0.9731 - val_loss: 2.5223 - val_accuracy: 0.9505\n",
      "Epoch 25/100\n",
      "84/84 [==============================] - 29s 342ms/step - loss: 0.8409 - accuracy: 0.9698 - val_loss: 2.4594 - val_accuracy: 0.9550\n",
      "Epoch 26/100\n",
      "84/84 [==============================] - 29s 341ms/step - loss: 0.4624 - accuracy: 0.9795 - val_loss: 2.9190 - val_accuracy: 0.9295\n",
      "Epoch 27/100\n",
      "84/84 [==============================] - 29s 341ms/step - loss: 0.8836 - accuracy: 0.9701 - val_loss: 2.6902 - val_accuracy: 0.9340\n",
      "Epoch 28/100\n",
      "84/84 [==============================] - 29s 341ms/step - loss: 0.7525 - accuracy: 0.9727 - val_loss: 2.5514 - val_accuracy: 0.9430\n",
      "Epoch 29/100\n",
      "84/84 [==============================] - 29s 341ms/step - loss: 0.8226 - accuracy: 0.9668 - val_loss: 4.0938 - val_accuracy: 0.9265\n",
      "Epoch 30/100\n",
      "84/84 [==============================] - 29s 342ms/step - loss: 0.9588 - accuracy: 0.9694 - val_loss: 3.1792 - val_accuracy: 0.9325\n",
      "Epoch 31/100\n",
      "84/84 [==============================] - 29s 341ms/step - loss: 0.8286 - accuracy: 0.9668 - val_loss: 2.6745 - val_accuracy: 0.9310\n",
      "Epoch 32/100\n",
      "84/84 [==============================] - 29s 340ms/step - loss: 0.5530 - accuracy: 0.9739 - val_loss: 2.7644 - val_accuracy: 0.9460\n",
      "Epoch 33/100\n",
      "84/84 [==============================] - 29s 341ms/step - loss: 0.6194 - accuracy: 0.9772 - val_loss: 4.6065 - val_accuracy: 0.9370\n",
      "Epoch 34/100\n",
      "84/84 [==============================] - 29s 341ms/step - loss: 1.0705 - accuracy: 0.9679 - val_loss: 6.5043 - val_accuracy: 0.9085\n",
      "Epoch 35/100\n",
      "84/84 [==============================] - 29s 340ms/step - loss: 0.9264 - accuracy: 0.9742 - val_loss: 3.6788 - val_accuracy: 0.9340\n",
      "Epoch 36/100\n",
      "84/84 [==============================] - 29s 343ms/step - loss: 0.7126 - accuracy: 0.9750 - val_loss: 2.8656 - val_accuracy: 0.9415\n",
      "Epoch 37/100\n",
      "84/84 [==============================] - 29s 342ms/step - loss: 0.7495 - accuracy: 0.9783 - val_loss: 3.0945 - val_accuracy: 0.9460\n",
      "Epoch 38/100\n",
      "84/84 [==============================] - 29s 341ms/step - loss: 0.7445 - accuracy: 0.9754 - val_loss: 3.9802 - val_accuracy: 0.9340\n",
      "Epoch 39/100\n",
      "84/84 [==============================] - 29s 342ms/step - loss: 0.9535 - accuracy: 0.9765 - val_loss: 3.8106 - val_accuracy: 0.9355\n",
      "Epoch 40/100\n",
      "84/84 [==============================] - 29s 345ms/step - loss: 0.5524 - accuracy: 0.9806 - val_loss: 3.9463 - val_accuracy: 0.9355\n"
     ]
    },
    {
     "name": "stdout",
     "output_type": "stream",
     "text": [
      "Epoch 41/100\n",
      "84/84 [==============================] - 29s 344ms/step - loss: 0.8024 - accuracy: 0.9698 - val_loss: 4.9392 - val_accuracy: 0.9400\n",
      "Epoch 42/100\n",
      "84/84 [==============================] - 29s 341ms/step - loss: 1.0960 - accuracy: 0.9716 - val_loss: 5.2267 - val_accuracy: 0.9250\n",
      "Epoch 43/100\n",
      "84/84 [==============================] - 29s 339ms/step - loss: 1.1838 - accuracy: 0.9712 - val_loss: 3.3794 - val_accuracy: 0.9415\n",
      "Epoch 44/100\n",
      "84/84 [==============================] - 29s 340ms/step - loss: 0.9247 - accuracy: 0.9761 - val_loss: 3.5003 - val_accuracy: 0.9430\n",
      "Epoch 45/100\n",
      "84/84 [==============================] - 29s 340ms/step - loss: 0.5443 - accuracy: 0.9780 - val_loss: 5.8944 - val_accuracy: 0.9220\n",
      "Epoch 46/100\n",
      "84/84 [==============================] - 29s 342ms/step - loss: 0.7923 - accuracy: 0.9754 - val_loss: 4.1236 - val_accuracy: 0.9355\n",
      "Epoch 47/100\n",
      "84/84 [==============================] - 29s 341ms/step - loss: 0.9552 - accuracy: 0.9750 - val_loss: 4.2433 - val_accuracy: 0.9445\n",
      "Epoch 48/100\n",
      "84/84 [==============================] - 29s 344ms/step - loss: 0.5621 - accuracy: 0.9824 - val_loss: 4.3938 - val_accuracy: 0.9400\n",
      "Epoch 49/100\n",
      "84/84 [==============================] - 29s 346ms/step - loss: 0.5582 - accuracy: 0.9839 - val_loss: 4.0027 - val_accuracy: 0.9370\n",
      "Epoch 50/100\n",
      "84/84 [==============================] - 29s 350ms/step - loss: 0.8190 - accuracy: 0.9772 - val_loss: 4.3648 - val_accuracy: 0.9400\n",
      "Epoch 51/100\n",
      "84/84 [==============================] - 29s 345ms/step - loss: 0.7364 - accuracy: 0.9772 - val_loss: 4.9519 - val_accuracy: 0.9325\n",
      "Epoch 52/100\n",
      "84/84 [==============================] - 29s 341ms/step - loss: 0.9211 - accuracy: 0.9765 - val_loss: 5.8379 - val_accuracy: 0.9340\n",
      "Epoch 53/100\n",
      "84/84 [==============================] - 29s 342ms/step - loss: 0.7296 - accuracy: 0.9798 - val_loss: 4.0516 - val_accuracy: 0.9505\n",
      "Epoch 54/100\n",
      "84/84 [==============================] - 29s 341ms/step - loss: 0.6257 - accuracy: 0.9828 - val_loss: 11.4351 - val_accuracy: 0.8876\n",
      "Epoch 55/100\n",
      "84/84 [==============================] - 29s 341ms/step - loss: 1.5480 - accuracy: 0.9709 - val_loss: 4.5154 - val_accuracy: 0.9505\n",
      "Epoch 56/100\n",
      "84/84 [==============================] - 29s 343ms/step - loss: 0.8144 - accuracy: 0.9810 - val_loss: 5.2194 - val_accuracy: 0.9415\n",
      "Epoch 57/100\n",
      "84/84 [==============================] - 29s 343ms/step - loss: 1.2270 - accuracy: 0.9761 - val_loss: 4.7700 - val_accuracy: 0.9460\n",
      "Epoch 58/100\n",
      "84/84 [==============================] - 29s 342ms/step - loss: 0.9836 - accuracy: 0.9791 - val_loss: 4.7573 - val_accuracy: 0.9460\n",
      "Epoch 59/100\n",
      "84/84 [==============================] - 29s 342ms/step - loss: 0.8122 - accuracy: 0.9795 - val_loss: 4.8048 - val_accuracy: 0.9430\n",
      "Epoch 60/100\n",
      "84/84 [==============================] - 29s 342ms/step - loss: 1.0221 - accuracy: 0.9768 - val_loss: 5.6282 - val_accuracy: 0.9460\n",
      "Epoch 61/100\n",
      "84/84 [==============================] - 29s 339ms/step - loss: 1.2902 - accuracy: 0.9742 - val_loss: 6.7382 - val_accuracy: 0.9385\n",
      "Epoch 62/100\n",
      "84/84 [==============================] - 29s 342ms/step - loss: 0.8812 - accuracy: 0.9828 - val_loss: 6.2089 - val_accuracy: 0.9355\n",
      "Epoch 63/100\n",
      "84/84 [==============================] - 29s 342ms/step - loss: 0.8759 - accuracy: 0.9802 - val_loss: 4.7286 - val_accuracy: 0.9460\n",
      "Epoch 64/100\n",
      "84/84 [==============================] - 29s 342ms/step - loss: 1.0124 - accuracy: 0.9750 - val_loss: 7.2060 - val_accuracy: 0.9385\n",
      "Epoch 65/100\n",
      "84/84 [==============================] - 29s 342ms/step - loss: 0.5813 - accuracy: 0.9862 - val_loss: 5.9726 - val_accuracy: 0.9415\n",
      "Epoch 66/100\n",
      "84/84 [==============================] - 29s 342ms/step - loss: 0.6129 - accuracy: 0.9836 - val_loss: 7.7650 - val_accuracy: 0.9265\n",
      "Epoch 67/100\n",
      "84/84 [==============================] - 29s 340ms/step - loss: 0.8567 - accuracy: 0.9836 - val_loss: 6.9151 - val_accuracy: 0.9355\n",
      "Epoch 68/100\n",
      "84/84 [==============================] - 29s 341ms/step - loss: 0.7159 - accuracy: 0.9824 - val_loss: 9.3727 - val_accuracy: 0.9190\n",
      "Epoch 69/100\n",
      "84/84 [==============================] - 29s 342ms/step - loss: 0.7845 - accuracy: 0.9806 - val_loss: 8.0926 - val_accuracy: 0.9340\n",
      "Epoch 70/100\n",
      "84/84 [==============================] - 29s 343ms/step - loss: 1.0021 - accuracy: 0.9839 - val_loss: 7.8071 - val_accuracy: 0.9370\n",
      "Epoch 71/100\n",
      "84/84 [==============================] - 29s 343ms/step - loss: 0.6158 - accuracy: 0.9873 - val_loss: 6.2515 - val_accuracy: 0.9340\n",
      "Epoch 72/100\n",
      "84/84 [==============================] - 29s 341ms/step - loss: 0.8537 - accuracy: 0.9847 - val_loss: 7.5747 - val_accuracy: 0.9385\n",
      "Epoch 73/100\n",
      "84/84 [==============================] - 29s 343ms/step - loss: 1.5207 - accuracy: 0.9750 - val_loss: 7.9378 - val_accuracy: 0.9400\n",
      "Epoch 74/100\n",
      "84/84 [==============================] - 29s 342ms/step - loss: 1.0580 - accuracy: 0.9813 - val_loss: 7.2846 - val_accuracy: 0.9355\n",
      "Epoch 75/100\n",
      "84/84 [==============================] - 29s 343ms/step - loss: 1.2015 - accuracy: 0.9813 - val_loss: 8.9970 - val_accuracy: 0.9385\n",
      "Epoch 76/100\n",
      "84/84 [==============================] - 29s 342ms/step - loss: 1.1550 - accuracy: 0.9780 - val_loss: 7.0340 - val_accuracy: 0.9400\n",
      "Epoch 77/100\n",
      "84/84 [==============================] - 29s 339ms/step - loss: 1.7843 - accuracy: 0.9780 - val_loss: 8.1070 - val_accuracy: 0.9415\n",
      "Epoch 78/100\n",
      "84/84 [==============================] - 29s 341ms/step - loss: 0.8301 - accuracy: 0.9828 - val_loss: 7.9478 - val_accuracy: 0.9385\n",
      "Epoch 79/100\n",
      "84/84 [==============================] - 29s 342ms/step - loss: 0.8049 - accuracy: 0.9877 - val_loss: 11.9072 - val_accuracy: 0.9115\n",
      "Epoch 80/100\n",
      "84/84 [==============================] - 29s 343ms/step - loss: 1.0493 - accuracy: 0.9828 - val_loss: 9.6061 - val_accuracy: 0.9325\n",
      "Epoch 81/100\n",
      "84/84 [==============================] - 29s 344ms/step - loss: 0.9604 - accuracy: 0.9839 - val_loss: 7.3760 - val_accuracy: 0.9415\n",
      "Epoch 82/100\n",
      "84/84 [==============================] - 29s 346ms/step - loss: 1.3890 - accuracy: 0.9791 - val_loss: 10.7476 - val_accuracy: 0.9295\n",
      "Epoch 83/100\n",
      "84/84 [==============================] - 29s 342ms/step - loss: 0.8284 - accuracy: 0.9854 - val_loss: 8.7906 - val_accuracy: 0.9355\n",
      "Epoch 84/100\n",
      "84/84 [==============================] - 29s 342ms/step - loss: 1.1411 - accuracy: 0.9843 - val_loss: 8.4332 - val_accuracy: 0.9355\n",
      "Epoch 85/100\n",
      "84/84 [==============================] - 29s 343ms/step - loss: 1.2149 - accuracy: 0.9817 - val_loss: 7.1907 - val_accuracy: 0.9385\n",
      "Epoch 86/100\n",
      "84/84 [==============================] - 29s 344ms/step - loss: 1.0535 - accuracy: 0.9843 - val_loss: 7.5550 - val_accuracy: 0.9340\n",
      "Epoch 87/100\n",
      "84/84 [==============================] - 29s 341ms/step - loss: 1.0203 - accuracy: 0.9851 - val_loss: 7.2477 - val_accuracy: 0.9460\n",
      "Epoch 88/100\n",
      "84/84 [==============================] - 29s 340ms/step - loss: 1.0811 - accuracy: 0.9828 - val_loss: 9.0736 - val_accuracy: 0.9295\n",
      "Epoch 89/100\n",
      "84/84 [==============================] - 29s 341ms/step - loss: 0.9605 - accuracy: 0.9851 - val_loss: 11.3059 - val_accuracy: 0.9175\n",
      "Epoch 90/100\n",
      "84/84 [==============================] - 29s 343ms/step - loss: 0.7100 - accuracy: 0.9881 - val_loss: 12.7591 - val_accuracy: 0.9340\n",
      "Epoch 91/100\n",
      "84/84 [==============================] - 29s 344ms/step - loss: 1.4720 - accuracy: 0.9806 - val_loss: 7.3517 - val_accuracy: 0.9415\n",
      "Epoch 92/100\n",
      "84/84 [==============================] - 29s 343ms/step - loss: 1.4113 - accuracy: 0.9813 - val_loss: 8.2441 - val_accuracy: 0.9415\n",
      "Epoch 93/100\n",
      "84/84 [==============================] - 29s 342ms/step - loss: 0.6304 - accuracy: 0.9884 - val_loss: 7.5802 - val_accuracy: 0.9460\n",
      "Epoch 94/100\n",
      "84/84 [==============================] - 29s 341ms/step - loss: 0.4534 - accuracy: 0.9910 - val_loss: 13.0305 - val_accuracy: 0.9235\n",
      "Epoch 95/100\n",
      "84/84 [==============================] - 29s 342ms/step - loss: 1.1552 - accuracy: 0.9851 - val_loss: 9.4464 - val_accuracy: 0.9370\n",
      "Epoch 96/100\n",
      "84/84 [==============================] - 29s 342ms/step - loss: 1.2977 - accuracy: 0.9892 - val_loss: 9.0872 - val_accuracy: 0.9370\n",
      "Epoch 97/100\n",
      "84/84 [==============================] - 29s 342ms/step - loss: 1.1152 - accuracy: 0.9832 - val_loss: 10.8431 - val_accuracy: 0.9355\n",
      "Epoch 98/100\n",
      "84/84 [==============================] - 29s 343ms/step - loss: 0.9478 - accuracy: 0.9854 - val_loss: 11.7218 - val_accuracy: 0.9235\n",
      "Epoch 99/100\n",
      "84/84 [==============================] - 29s 341ms/step - loss: 0.7447 - accuracy: 0.9869 - val_loss: 10.1407 - val_accuracy: 0.9265\n",
      "Epoch 100/100\n",
      "84/84 [==============================] - 29s 341ms/step - loss: 0.8871 - accuracy: 0.9907 - val_loss: 8.3521 - val_accuracy: 0.9445\n"
     ]
    }
   ],
   "source": [
    "history = model.fit(\n",
    " train_ds,\n",
    " epochs=100,\n",
    " validation_data=val_ds\n",
    ")"
   ]
  },
  {
   "cell_type": "code",
   "execution_count": 13,
   "id": "9d1d8c1e",
   "metadata": {
    "scrolled": false
   },
   "outputs": [
    {
     "data": {
      "text/plain": [
       "<matplotlib.legend.Legend at 0x1f1368de610>"
      ]
     },
     "execution_count": 13,
     "metadata": {},
     "output_type": "execute_result"
    },
    {
     "data": {
      "image/png": "[encoded data removed]",
      "text/plain": [
       "<Figure size 640x480 with 1 Axes>"
      ]
     },
     "metadata": {},
     "output_type": "display_data"
    },
    {
     "data": {
      "image/png": "[encoded data removed]",
      "text/plain": [
       "<Figure size 640x480 with 1 Axes>"
      ]
     },
     "metadata": {},
     "output_type": "display_data"
    }
   ],
   "source": [
    "accuracy = history.history['accuracy']\n",
    "val_accuracy = history.history['val_accuracy']\n",
    "loss = history.history['loss']\n",
    "val_loss = history.history['val_loss']\n",
    "epochs = range(1, len(accuracy) + 1)\n",
    "plt.plot(epochs, accuracy, 'bo', label='Training accuracy')\n",
    "plt.plot(epochs, val_accuracy, 'b', label='Validation accuracy')\n",
    "plt.title('Training and validation accuracy')\n",
    "plt.legend()\n",
    "plt.figure()\n",
    "plt.plot(epochs, loss, 'bo', label='Training loss')\n",
    "plt.plot(epochs, val_loss, 'b', label='Validation loss')\n",
    "plt.title('Training and validation loss')\n",
    "plt.legend()"
   ]
  },
  {
   "cell_type": "code",
   "execution_count": null,
   "id": "99dc054c",
   "metadata": {},
   "outputs": [],
   "source": [
    "save_path = '../3. Model Selection/saved_models/Zero-padded Data Transfer Learning Model/'\n",
    "if not os.path.exists(save_path):\n",
    "    os.makedirs(save_path)\n",
    "save_model(model, save_path)"
   ]
  },
  {
   "cell_type": "code",
   "execution_count": null,
   "id": "cf33cbe6",
   "metadata": {},
   "outputs": [],
   "source": []
  }
 ],
 "metadata": {
  "kernelspec": {
   "display_name": "Python 3 (ipykernel)",
   "language": "python",
   "name": "python3"
  },
  "language_info": {
   "codemirror_mode": {
    "name": "ipython",
    "version": 3
   },
   "file_extension": ".py",
   "mimetype": "text/x-python",
   "name": "python",
   "nbconvert_exporter": "python",
   "pygments_lexer": "ipython3",
   "version": "3.9.16"
  }
 },
 "nbformat": 4,
 "nbformat_minor": 5
}
