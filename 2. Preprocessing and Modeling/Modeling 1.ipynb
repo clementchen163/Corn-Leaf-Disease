{
 "cells": [
  {
   "cell_type": "code",
   "execution_count": 4,
   "id": "0fad3545",
   "metadata": {},
   "outputs": [],
   "source": [
    "from tensorflow.keras.utils import image_dataset_from_directory\n",
    "from tensorflow import keras\n",
    "from tensorflow.keras import layers\n",
    "from tensorflow.keras.models import model_from_json\n",
    "import matplotlib.pyplot as plt\n",
    "import tensorflow as tf\n",
    "import pathlib\n",
    "import splitfolders\n",
    "import os\n",
    "import numpy as np\n",
    "from modelfunc import save_model"
   ]
  },
  {
   "cell_type": "code",
   "execution_count": null,
   "id": "d9c779c1",
   "metadata": {},
   "outputs": [],
   "source": [
    "np.random.seed(123)"
   ]
  },
  {
   "cell_type": "code",
   "execution_count": 2,
   "id": "728739ae",
   "metadata": {},
   "outputs": [
    {
     "name": "stdout",
     "output_type": "stream",
     "text": [
      "Num GPUs Available:  1\n"
     ]
    }
   ],
   "source": [
    "print('Num GPUs Available: ', len(tf.config.list_physical_devices('GPU')))"
   ]
  },
  {
   "cell_type": "code",
   "execution_count": null,
   "id": "e5ee5219",
   "metadata": {},
   "outputs": [],
   "source": [
    "tf.get_logger().setLevel('ERROR')"
   ]
  },
  {
   "cell_type": "code",
   "execution_count": 3,
   "id": "8ac9171b",
   "metadata": {},
   "outputs": [
    {
     "data": {
      "text/plain": [
       "WindowsPath('../0. Project Data/Original Data')"
      ]
     },
     "execution_count": 3,
     "metadata": {},
     "output_type": "execute_result"
    }
   ],
   "source": [
    "datapath='../0. Project Data/Original Data'\n",
    "org_data_dir = pathlib.Path(datapath).with_suffix('')\n",
    "org_data_dir"
   ]
  },
  {
   "cell_type": "code",
   "execution_count": 4,
   "id": "e8d9b9e1",
   "metadata": {},
   "outputs": [],
   "source": [
    "train_split_test_dir='../0. Project Data/Original Split Data'\n",
    "splitfolders.ratio(org_data_dir, output=train_split_test_dir, seed=123, ratio=(.64, .16, .2)) # ratio of split are in order of train/val/test."
   ]
  },
  {
   "cell_type": "markdown",
   "id": "b1891f96",
   "metadata": {},
   "source": [
    "#### Image Parameters"
   ]
  },
  {
   "cell_type": "code",
   "execution_count": 5,
   "id": "a4c7e942",
   "metadata": {},
   "outputs": [],
   "source": [
    "batch_size = 32\n",
    "img_height = 180\n",
    "img_width = 180\n",
    "img_channels = 3"
   ]
  },
  {
   "cell_type": "code",
   "execution_count": 6,
   "id": "6eeb2a92",
   "metadata": {},
   "outputs": [
    {
     "name": "stdout",
     "output_type": "stream",
     "text": [
      "Found 2678 files belonging to 4 classes.\n",
      "Found 667 files belonging to 4 classes.\n",
      "Found 843 files belonging to 4 classes.\n"
     ]
    }
   ],
   "source": [
    "train_ds = image_dataset_from_directory(\n",
    "    train_split_test_dir + '/train',\n",
    "    image_size=(img_width, img_height),\n",
    "    batch_size=batch_size)\n",
    "val_ds = image_dataset_from_directory(\n",
    "    train_split_test_dir + '/val',\n",
    "    image_size=(img_width, img_height),\n",
    "    batch_size=batch_size)\n",
    "test_ds = image_dataset_from_directory(\n",
    "    train_split_test_dir + '/test',\n",
    "    image_size=(img_width, img_height),\n",
    "    batch_size=batch_size)"
   ]
  },
  {
   "cell_type": "code",
   "execution_count": 7,
   "id": "86487abb",
   "metadata": {},
   "outputs": [],
   "source": [
    "# enginerring more data by applying randomized horizontal flips, zooms(+/- 20%), and rotates (+/- 10%)\n",
    "data_augmentation = keras.Sequential([layers.RandomFlip('horizontal'), layers.RandomRotation(0.1), layers.RandomZoom(0.2),])"
   ]
  },
  {
   "cell_type": "code",
   "execution_count": 8,
   "id": "69bfd124",
   "metadata": {},
   "outputs": [
    {
     "name": "stdout",
     "output_type": "stream",
     "text": [
      "WARNING:tensorflow:Using a while_loop for converting RngReadAndSkip cause there is no registered converter for this op.\n",
      "WARNING:tensorflow:Using a while_loop for converting Bitcast cause there is no registered converter for this op.\n",
      "WARNING:tensorflow:Using a while_loop for converting Bitcast cause there is no registered converter for this op.\n",
      "WARNING:tensorflow:Using a while_loop for converting StatelessRandomUniformV2 cause there is no registered converter for this op.\n",
      "WARNING:tensorflow:Using a while_loop for converting ImageProjectiveTransformV3 cause there is no registered converter for this op.\n",
      "WARNING:tensorflow:Using a while_loop for converting RngReadAndSkip cause there is no registered converter for this op.\n",
      "WARNING:tensorflow:Using a while_loop for converting Bitcast cause there is no registered converter for this op.\n",
      "WARNING:tensorflow:Using a while_loop for converting Bitcast cause there is no registered converter for this op.\n",
      "WARNING:tensorflow:Using a while_loop for converting StatelessRandomUniformV2 cause there is no registered converter for this op.\n",
      "WARNING:tensorflow:Using a while_loop for converting ImageProjectiveTransformV3 cause there is no registered converter for this op.\n",
      "WARNING:tensorflow:Using a while_loop for converting RngReadAndSkip cause there is no registered converter for this op.\n",
      "WARNING:tensorflow:Using a while_loop for converting Bitcast cause there is no registered converter for this op.\n",
      "WARNING:tensorflow:Using a while_loop for converting Bitcast cause there is no registered converter for this op.\n",
      "WARNING:tensorflow:Using a while_loop for converting StatelessRandomUniformV2 cause there is no registered converter for this op.\n",
      "WARNING:tensorflow:Using a while_loop for converting ImageProjectiveTransformV3 cause there is no registered converter for this op.\n",
      "WARNING:tensorflow:Using a while_loop for converting RngReadAndSkip cause there is no registered converter for this op.\n",
      "WARNING:tensorflow:Using a while_loop for converting Bitcast cause there is no registered converter for this op.\n",
      "WARNING:tensorflow:Using a while_loop for converting Bitcast cause there is no registered converter for this op.\n",
      "WARNING:tensorflow:Using a while_loop for converting StatelessRandomUniformV2 cause there is no registered converter for this op.\n",
      "WARNING:tensorflow:Using a while_loop for converting ImageProjectiveTransformV3 cause there is no registered converter for this op.\n"
     ]
    }
   ],
   "source": [
    "inputs = keras.Input(shape=(img_height, img_width, img_channels))\n",
    "x = data_augmentation(inputs)\n",
    "x = layers.Rescaling(1./255)(x)\n",
    "x = layers.Conv2D(filters=32, kernel_size=3, activation='relu')(x)\n",
    "x = layers.MaxPooling2D(pool_size=2)(x)\n",
    "x = layers.Conv2D(filters=64, kernel_size=3, activation='relu')(x)\n",
    "x = layers.MaxPooling2D(pool_size=2)(x)\n",
    "x = layers.Conv2D(filters=128, kernel_size=3, activation='relu')(x)\n",
    "x = layers.MaxPooling2D(pool_size=2)(x)\n",
    "x = layers.Conv2D(filters=256, kernel_size=3, activation='relu')(x)\n",
    "x = layers.MaxPooling2D(pool_size=2)(x)\n",
    "x = layers.Conv2D(filters=256, kernel_size=3, activation='relu')(x)\n",
    "x = layers.Flatten()(x)\n",
    "outputs = layers.Dense(4, activation='softmax')(x)\n",
    "model = keras.Model(inputs=inputs, outputs=outputs)"
   ]
  },
  {
   "cell_type": "code",
   "execution_count": 9,
   "id": "8425de87",
   "metadata": {},
   "outputs": [
    {
     "name": "stdout",
     "output_type": "stream",
     "text": [
      "Model: \"model\"\n",
      "_________________________________________________________________\n",
      " Layer (type)                Output Shape              Param #   \n",
      "=================================================================\n",
      " input_1 (InputLayer)        [(None, 180, 180, 3)]     0         \n",
      "                                                                 \n",
      " sequential (Sequential)     (None, 180, 180, 3)       0         \n",
      "                                                                 \n",
      " rescaling (Rescaling)       (None, 180, 180, 3)       0         \n",
      "                                                                 \n",
      " conv2d (Conv2D)             (None, 178, 178, 32)      896       \n",
      "                                                                 \n",
      " max_pooling2d (MaxPooling2D  (None, 89, 89, 32)       0         \n",
      " )                                                               \n",
      "                                                                 \n",
      " conv2d_1 (Conv2D)           (None, 87, 87, 64)        18496     \n",
      "                                                                 \n",
      " max_pooling2d_1 (MaxPooling  (None, 43, 43, 64)       0         \n",
      " 2D)                                                             \n",
      "                                                                 \n",
      " conv2d_2 (Conv2D)           (None, 41, 41, 128)       73856     \n",
      "                                                                 \n",
      " max_pooling2d_2 (MaxPooling  (None, 20, 20, 128)      0         \n",
      " 2D)                                                             \n",
      "                                                                 \n",
      " conv2d_3 (Conv2D)           (None, 18, 18, 256)       295168    \n",
      "                                                                 \n",
      " max_pooling2d_3 (MaxPooling  (None, 9, 9, 256)        0         \n",
      " 2D)                                                             \n",
      "                                                                 \n",
      " conv2d_4 (Conv2D)           (None, 7, 7, 256)         590080    \n",
      "                                                                 \n",
      " flatten (Flatten)           (None, 12544)             0         \n",
      "                                                                 \n",
      " dense (Dense)               (None, 4)                 50180     \n",
      "                                                                 \n",
      "=================================================================\n",
      "Total params: 1,028,676\n",
      "Trainable params: 1,028,676\n",
      "Non-trainable params: 0\n",
      "_________________________________________________________________\n"
     ]
    }
   ],
   "source": [
    "model.summary()"
   ]
  },
  {
   "cell_type": "code",
   "execution_count": 10,
   "id": "4595a70c",
   "metadata": {},
   "outputs": [],
   "source": [
    "model.compile(optimizer='sgd', # Common optimizers include 'adam', 'sgd', and 'rmsprop'.\n",
    " loss='sparse_categorical_crossentropy', # Common loss functions include 'binary_crossentropy', 'categorical_crossentropy', and 'mse'.\n",
    " metrics=['accuracy']) #Common metrics include 'accuracy', 'precision', 'recall', and 'f1_score'."
   ]
  },
  {
   "cell_type": "code",
   "execution_count": 11,
   "id": "76bf9eb0",
   "metadata": {},
   "outputs": [
    {
     "name": "stdout",
     "output_type": "stream",
     "text": [
      "Epoch 1/100\n",
      "WARNING:tensorflow:Using a while_loop for converting RngReadAndSkip cause there is no registered converter for this op.\n",
      "WARNING:tensorflow:Using a while_loop for converting Bitcast cause there is no registered converter for this op.\n",
      "WARNING:tensorflow:Using a while_loop for converting Bitcast cause there is no registered converter for this op.\n",
      "WARNING:tensorflow:Using a while_loop for converting StatelessRandomUniformV2 cause there is no registered converter for this op.\n",
      "WARNING:tensorflow:Using a while_loop for converting ImageProjectiveTransformV3 cause there is no registered converter for this op.\n",
      "WARNING:tensorflow:Using a while_loop for converting RngReadAndSkip cause there is no registered converter for this op.\n",
      "WARNING:tensorflow:Using a while_loop for converting Bitcast cause there is no registered converter for this op.\n",
      "WARNING:tensorflow:Using a while_loop for converting Bitcast cause there is no registered converter for this op.\n",
      "WARNING:tensorflow:Using a while_loop for converting StatelessRandomUniformV2 cause there is no registered converter for this op.\n",
      "WARNING:tensorflow:Using a while_loop for converting ImageProjectiveTransformV3 cause there is no registered converter for this op.\n",
      "WARNING:tensorflow:Using a while_loop for converting RngReadAndSkip cause there is no registered converter for this op.\n",
      "WARNING:tensorflow:Using a while_loop for converting Bitcast cause there is no registered converter for this op.\n",
      "WARNING:tensorflow:Using a while_loop for converting Bitcast cause there is no registered converter for this op.\n",
      "WARNING:tensorflow:Using a while_loop for converting StatelessRandomUniformV2 cause there is no registered converter for this op.\n",
      "WARNING:tensorflow:Using a while_loop for converting ImageProjectiveTransformV3 cause there is no registered converter for this op.\n",
      "WARNING:tensorflow:Using a while_loop for converting RngReadAndSkip cause there is no registered converter for this op.\n",
      "WARNING:tensorflow:Using a while_loop for converting Bitcast cause there is no registered converter for this op.\n",
      "WARNING:tensorflow:Using a while_loop for converting Bitcast cause there is no registered converter for this op.\n",
      "WARNING:tensorflow:Using a while_loop for converting StatelessRandomUniformV2 cause there is no registered converter for this op.\n",
      "WARNING:tensorflow:Using a while_loop for converting ImageProjectiveTransformV3 cause there is no registered converter for this op.\n",
      "84/84 [==============================] - 187s 2s/step - loss: 1.3429 - accuracy: 0.3230 - val_loss: 1.3177 - val_accuracy: 0.3628\n",
      "Epoch 2/100\n",
      "84/84 [==============================] - 59s 689ms/step - loss: 1.2958 - accuracy: 0.4249 - val_loss: 1.2519 - val_accuracy: 0.4723\n",
      "Epoch 3/100\n",
      "84/84 [==============================] - 59s 705ms/step - loss: 1.2189 - accuracy: 0.4839 - val_loss: 1.1689 - val_accuracy: 0.5022\n",
      "Epoch 4/100\n",
      "84/84 [==============================] - 75s 888ms/step - loss: 1.1137 - accuracy: 0.5370 - val_loss: 0.9907 - val_accuracy: 0.5937\n",
      "Epoch 5/100\n",
      "84/84 [==============================] - 103s 1s/step - loss: 1.0303 - accuracy: 0.5900 - val_loss: 1.2130 - val_accuracy: 0.5022\n",
      "Epoch 6/100\n",
      "84/84 [==============================] - 66s 784ms/step - loss: 0.9527 - accuracy: 0.6314 - val_loss: 0.7584 - val_accuracy: 0.7256\n",
      "Epoch 7/100\n",
      "84/84 [==============================] - 66s 778ms/step - loss: 0.8517 - accuracy: 0.6576 - val_loss: 1.3618 - val_accuracy: 0.5307\n",
      "Epoch 8/100\n",
      "84/84 [==============================] - 68s 816ms/step - loss: 0.7733 - accuracy: 0.7020 - val_loss: 0.8158 - val_accuracy: 0.6792\n",
      "Epoch 9/100\n",
      "84/84 [==============================] - 77s 919ms/step - loss: 0.7296 - accuracy: 0.7285 - val_loss: 0.5355 - val_accuracy: 0.7871\n",
      "Epoch 10/100\n",
      "84/84 [==============================] - 70s 827ms/step - loss: 0.7452 - accuracy: 0.7084 - val_loss: 0.5699 - val_accuracy: 0.7766\n",
      "Epoch 11/100\n",
      "84/84 [==============================] - 55s 645ms/step - loss: 0.6391 - accuracy: 0.7498 - val_loss: 0.4614 - val_accuracy: 0.8066\n",
      "Epoch 12/100\n",
      "84/84 [==============================] - 102s 1s/step - loss: 0.6000 - accuracy: 0.7636 - val_loss: 1.2125 - val_accuracy: 0.4018\n",
      "Epoch 13/100\n",
      "84/84 [==============================] - 80s 949ms/step - loss: 0.8034 - accuracy: 0.6703 - val_loss: 0.5747 - val_accuracy: 0.8006\n",
      "Epoch 14/100\n",
      "84/84 [==============================] - 81s 956ms/step - loss: 0.6536 - accuracy: 0.7412 - val_loss: 0.5665 - val_accuracy: 0.7916\n",
      "Epoch 15/100\n",
      "84/84 [==============================] - 84s 1s/step - loss: 0.5722 - accuracy: 0.7659 - val_loss: 0.5286 - val_accuracy: 0.7781\n",
      "Epoch 16/100\n",
      "84/84 [==============================] - 78s 926ms/step - loss: 0.7459 - accuracy: 0.7330 - val_loss: 0.9399 - val_accuracy: 0.6102\n",
      "Epoch 17/100\n",
      "84/84 [==============================] - 84s 1s/step - loss: 0.6051 - accuracy: 0.7763 - val_loss: 0.4653 - val_accuracy: 0.8126\n",
      "Epoch 18/100\n",
      "84/84 [==============================] - 83s 1s/step - loss: 0.5430 - accuracy: 0.7816 - val_loss: 0.4965 - val_accuracy: 0.8231\n",
      "Epoch 19/100\n",
      "84/84 [==============================] - 86s 1s/step - loss: 0.5032 - accuracy: 0.7995 - val_loss: 0.4531 - val_accuracy: 0.8261\n",
      "Epoch 20/100\n",
      "84/84 [==============================] - 78s 925ms/step - loss: 0.4859 - accuracy: 0.7976 - val_loss: 0.4682 - val_accuracy: 0.8291\n",
      "Epoch 21/100\n",
      "84/84 [==============================] - 78s 930ms/step - loss: 0.6105 - accuracy: 0.7670 - val_loss: 0.4270 - val_accuracy: 0.8291\n",
      "Epoch 22/100\n",
      "84/84 [==============================] - 80s 952ms/step - loss: 0.4284 - accuracy: 0.8208 - val_loss: 0.3800 - val_accuracy: 0.8366\n",
      "Epoch 23/100\n",
      "84/84 [==============================] - 82s 977ms/step - loss: 0.5305 - accuracy: 0.7857 - val_loss: 0.4756 - val_accuracy: 0.8216\n",
      "Epoch 24/100\n",
      "84/84 [==============================] - 81s 967ms/step - loss: 0.4144 - accuracy: 0.8241 - val_loss: 0.3781 - val_accuracy: 0.8576\n",
      "Epoch 25/100\n",
      "84/84 [==============================] - 95s 1s/step - loss: 0.4730 - accuracy: 0.8193 - val_loss: 0.3866 - val_accuracy: 0.8621\n",
      "Epoch 26/100\n",
      "84/84 [==============================] - 34s 408ms/step - loss: 0.3822 - accuracy: 0.8368 - val_loss: 0.3910 - val_accuracy: 0.8516\n",
      "Epoch 27/100\n",
      "84/84 [==============================] - 61s 722ms/step - loss: 0.3835 - accuracy: 0.8383 - val_loss: 0.3917 - val_accuracy: 0.8561\n",
      "Epoch 28/100\n",
      "84/84 [==============================] - 83s 989ms/step - loss: 0.3721 - accuracy: 0.8406 - val_loss: 0.3467 - val_accuracy: 0.8651\n",
      "Epoch 29/100\n",
      "84/84 [==============================] - 81s 950ms/step - loss: 0.3577 - accuracy: 0.8491 - val_loss: 0.3186 - val_accuracy: 0.8696\n",
      "Epoch 30/100\n",
      "84/84 [==============================] - 87s 1s/step - loss: 0.4216 - accuracy: 0.8409 - val_loss: 0.3497 - val_accuracy: 0.8696\n",
      "Epoch 31/100\n",
      "84/84 [==============================] - 87s 1s/step - loss: 0.3432 - accuracy: 0.8588 - val_loss: 0.3474 - val_accuracy: 0.8591\n",
      "Epoch 32/100\n",
      "84/84 [==============================] - 80s 943ms/step - loss: 0.3233 - accuracy: 0.8671 - val_loss: 0.3038 - val_accuracy: 0.8786\n",
      "Epoch 33/100\n",
      "84/84 [==============================] - 85s 998ms/step - loss: 0.3140 - accuracy: 0.8719 - val_loss: 0.2996 - val_accuracy: 0.8801\n",
      "Epoch 34/100\n",
      "84/84 [==============================] - 82s 973ms/step - loss: 0.3071 - accuracy: 0.8719 - val_loss: 0.3197 - val_accuracy: 0.8801\n",
      "Epoch 35/100\n",
      "84/84 [==============================] - 85s 1s/step - loss: 0.3436 - accuracy: 0.8663 - val_loss: 0.3172 - val_accuracy: 0.8696\n",
      "Epoch 36/100\n",
      "84/84 [==============================] - 83s 993ms/step - loss: 0.3024 - accuracy: 0.8757 - val_loss: 0.3057 - val_accuracy: 0.8831\n",
      "Epoch 37/100\n",
      "84/84 [==============================] - 86s 1s/step - loss: 0.2852 - accuracy: 0.8786 - val_loss: 0.2823 - val_accuracy: 0.8816\n",
      "Epoch 38/100\n",
      "84/84 [==============================] - 86s 1s/step - loss: 0.2956 - accuracy: 0.8794 - val_loss: 0.2771 - val_accuracy: 0.8801\n",
      "Epoch 39/100\n",
      "84/84 [==============================] - 81s 967ms/step - loss: 0.2785 - accuracy: 0.8913 - val_loss: 0.2912 - val_accuracy: 0.8651\n",
      "Epoch 40/100\n",
      "84/84 [==============================] - 83s 974ms/step - loss: 0.3053 - accuracy: 0.8816 - val_loss: 0.3238 - val_accuracy: 0.8456\n",
      "Epoch 41/100\n"
     ]
    },
    {
     "name": "stdout",
     "output_type": "stream",
     "text": [
      "84/84 [==============================] - 82s 974ms/step - loss: 0.2747 - accuracy: 0.8925 - val_loss: 0.2743 - val_accuracy: 0.8861\n",
      "Epoch 42/100\n",
      "84/84 [==============================] - 84s 998ms/step - loss: 0.3632 - accuracy: 0.8689 - val_loss: 0.2970 - val_accuracy: 0.8591\n",
      "Epoch 43/100\n",
      "84/84 [==============================] - 83s 989ms/step - loss: 0.2722 - accuracy: 0.8898 - val_loss: 0.2762 - val_accuracy: 0.8801\n",
      "Epoch 44/100\n",
      "84/84 [==============================] - 79s 928ms/step - loss: 0.2695 - accuracy: 0.8943 - val_loss: 0.3152 - val_accuracy: 0.8591\n",
      "Epoch 45/100\n",
      "84/84 [==============================] - 76s 904ms/step - loss: 0.2606 - accuracy: 0.8966 - val_loss: 0.2916 - val_accuracy: 0.8711\n",
      "Epoch 46/100\n",
      "84/84 [==============================] - 79s 940ms/step - loss: 0.2611 - accuracy: 0.8973 - val_loss: 0.2795 - val_accuracy: 0.8786\n",
      "Epoch 47/100\n",
      "84/84 [==============================] - 83s 998ms/step - loss: 0.2501 - accuracy: 0.8969 - val_loss: 0.2625 - val_accuracy: 0.8816\n",
      "Epoch 48/100\n",
      "84/84 [==============================] - 76s 906ms/step - loss: 0.2462 - accuracy: 0.9037 - val_loss: 0.2863 - val_accuracy: 0.8801\n",
      "Epoch 49/100\n",
      "84/84 [==============================] - 80s 950ms/step - loss: 0.2624 - accuracy: 0.8977 - val_loss: 0.2658 - val_accuracy: 0.8771\n",
      "Epoch 50/100\n",
      "84/84 [==============================] - 61s 722ms/step - loss: 0.2640 - accuracy: 0.8962 - val_loss: 0.2989 - val_accuracy: 0.8726\n",
      "Epoch 51/100\n",
      "84/84 [==============================] - 77s 922ms/step - loss: 0.2517 - accuracy: 0.9044 - val_loss: 0.2845 - val_accuracy: 0.8786\n",
      "Epoch 52/100\n",
      "84/84 [==============================] - 80s 951ms/step - loss: 0.3260 - accuracy: 0.8913 - val_loss: 0.3094 - val_accuracy: 0.8876\n",
      "Epoch 53/100\n",
      "84/84 [==============================] - 84s 997ms/step - loss: 0.2631 - accuracy: 0.9010 - val_loss: 0.2688 - val_accuracy: 0.8861\n",
      "Epoch 54/100\n",
      "84/84 [==============================] - 81s 965ms/step - loss: 0.2405 - accuracy: 0.9070 - val_loss: 0.2645 - val_accuracy: 0.8891\n",
      "Epoch 55/100\n",
      "84/84 [==============================] - 81s 967ms/step - loss: 0.2428 - accuracy: 0.9037 - val_loss: 0.2690 - val_accuracy: 0.8906\n",
      "Epoch 56/100\n",
      "84/84 [==============================] - 84s 1000ms/step - loss: 0.2331 - accuracy: 0.9014 - val_loss: 0.2900 - val_accuracy: 0.8711\n",
      "Epoch 57/100\n",
      "84/84 [==============================] - 79s 939ms/step - loss: 0.2270 - accuracy: 0.9081 - val_loss: 0.2584 - val_accuracy: 0.8861\n",
      "Epoch 58/100\n",
      "84/84 [==============================] - 79s 928ms/step - loss: 0.2348 - accuracy: 0.9089 - val_loss: 0.2529 - val_accuracy: 0.8906\n",
      "Epoch 59/100\n",
      "84/84 [==============================] - 82s 974ms/step - loss: 0.2267 - accuracy: 0.9100 - val_loss: 0.2638 - val_accuracy: 0.8906\n",
      "Epoch 60/100\n",
      "84/84 [==============================] - 76s 901ms/step - loss: 0.2300 - accuracy: 0.9122 - val_loss: 0.3358 - val_accuracy: 0.8771\n",
      "Epoch 61/100\n",
      "84/84 [==============================] - 81s 968ms/step - loss: 0.2254 - accuracy: 0.9096 - val_loss: 0.2560 - val_accuracy: 0.8906\n",
      "Epoch 62/100\n",
      "84/84 [==============================] - 79s 927ms/step - loss: 0.2869 - accuracy: 0.8925 - val_loss: 0.2696 - val_accuracy: 0.8966\n",
      "Epoch 63/100\n",
      "84/84 [==============================] - 74s 879ms/step - loss: 0.2329 - accuracy: 0.9085 - val_loss: 0.2626 - val_accuracy: 0.8906\n",
      "Epoch 64/100\n",
      "84/84 [==============================] - 79s 945ms/step - loss: 0.2218 - accuracy: 0.9100 - val_loss: 0.2551 - val_accuracy: 0.8951\n",
      "Epoch 65/100\n",
      "84/84 [==============================] - 84s 998ms/step - loss: 0.2411 - accuracy: 0.9055 - val_loss: 0.2863 - val_accuracy: 0.8801\n",
      "Epoch 66/100\n",
      "84/84 [==============================] - 80s 952ms/step - loss: 0.2175 - accuracy: 0.9193 - val_loss: 0.2877 - val_accuracy: 0.8681\n",
      "Epoch 67/100\n",
      "84/84 [==============================] - 81s 966ms/step - loss: 0.2191 - accuracy: 0.9141 - val_loss: 0.3092 - val_accuracy: 0.8711\n",
      "Epoch 68/100\n",
      "84/84 [==============================] - 83s 975ms/step - loss: 0.2176 - accuracy: 0.9096 - val_loss: 0.2616 - val_accuracy: 0.8891\n",
      "Epoch 69/100\n",
      "84/84 [==============================] - 83s 985ms/step - loss: 0.3747 - accuracy: 0.8827 - val_loss: 0.3481 - val_accuracy: 0.8861\n",
      "Epoch 70/100\n",
      "84/84 [==============================] - 79s 950ms/step - loss: 0.2728 - accuracy: 0.8962 - val_loss: 0.2702 - val_accuracy: 0.8921\n",
      "Epoch 71/100\n",
      "84/84 [==============================] - 79s 944ms/step - loss: 0.2328 - accuracy: 0.9063 - val_loss: 0.2634 - val_accuracy: 0.8936\n",
      "Epoch 72/100\n",
      "84/84 [==============================] - 83s 976ms/step - loss: 0.2173 - accuracy: 0.9175 - val_loss: 0.2644 - val_accuracy: 0.9055\n",
      "Epoch 73/100\n",
      "84/84 [==============================] - 82s 974ms/step - loss: 0.2048 - accuracy: 0.9156 - val_loss: 0.2628 - val_accuracy: 0.8966\n",
      "Epoch 74/100\n",
      "84/84 [==============================] - 78s 927ms/step - loss: 0.3091 - accuracy: 0.8962 - val_loss: 0.3095 - val_accuracy: 0.8816\n",
      "Epoch 75/100\n",
      "84/84 [==============================] - 85s 1s/step - loss: 0.2555 - accuracy: 0.9022 - val_loss: 0.2683 - val_accuracy: 0.8951\n",
      "Epoch 76/100\n",
      "84/84 [==============================] - 77s 904ms/step - loss: 0.2282 - accuracy: 0.9119 - val_loss: 0.2769 - val_accuracy: 0.8966\n",
      "Epoch 77/100\n",
      "84/84 [==============================] - 86s 1s/step - loss: 0.2182 - accuracy: 0.9126 - val_loss: 0.2631 - val_accuracy: 0.8966\n",
      "Epoch 78/100\n",
      "84/84 [==============================] - 84s 997ms/step - loss: 0.2079 - accuracy: 0.9190 - val_loss: 0.2551 - val_accuracy: 0.9010\n",
      "Epoch 79/100\n",
      "84/84 [==============================] - 82s 976ms/step - loss: 0.2030 - accuracy: 0.9197 - val_loss: 0.2548 - val_accuracy: 0.9025\n",
      "Epoch 80/100\n",
      "84/84 [==============================] - 78s 927ms/step - loss: 0.2121 - accuracy: 0.9152 - val_loss: 0.2564 - val_accuracy: 0.8966\n",
      "Epoch 81/100\n",
      "84/84 [==============================] - 83s 988ms/step - loss: 0.1993 - accuracy: 0.9231 - val_loss: 0.2739 - val_accuracy: 0.8861\n",
      "Epoch 82/100\n",
      "84/84 [==============================] - 86s 1s/step - loss: 0.1990 - accuracy: 0.9249 - val_loss: 0.2619 - val_accuracy: 0.8966\n",
      "Epoch 83/100\n",
      "84/84 [==============================] - 75s 876ms/step - loss: 0.2043 - accuracy: 0.9212 - val_loss: 0.2552 - val_accuracy: 0.9040\n",
      "Epoch 84/100\n",
      "84/84 [==============================] - 79s 933ms/step - loss: 0.2004 - accuracy: 0.9235 - val_loss: 0.2761 - val_accuracy: 0.8816\n",
      "Epoch 85/100\n",
      "84/84 [==============================] - 80s 955ms/step - loss: 0.1940 - accuracy: 0.9264 - val_loss: 0.2462 - val_accuracy: 0.9055\n",
      "Epoch 86/100\n",
      "84/84 [==============================] - 82s 975ms/step - loss: 0.2054 - accuracy: 0.9201 - val_loss: 0.2736 - val_accuracy: 0.8936\n",
      "Epoch 87/100\n",
      "84/84 [==============================] - 84s 999ms/step - loss: 0.1932 - accuracy: 0.9268 - val_loss: 0.2588 - val_accuracy: 0.9100\n",
      "Epoch 88/100\n",
      "84/84 [==============================] - 82s 975ms/step - loss: 0.1911 - accuracy: 0.9246 - val_loss: 0.2668 - val_accuracy: 0.9010\n",
      "Epoch 89/100\n",
      "84/84 [==============================] - 78s 929ms/step - loss: 0.1872 - accuracy: 0.9261 - val_loss: 0.2612 - val_accuracy: 0.9010\n",
      "Epoch 90/100\n",
      "84/84 [==============================] - 81s 966ms/step - loss: 0.1848 - accuracy: 0.9294 - val_loss: 0.2527 - val_accuracy: 0.9025\n",
      "Epoch 91/100\n",
      "84/84 [==============================] - 84s 991ms/step - loss: 0.1824 - accuracy: 0.9317 - val_loss: 0.2623 - val_accuracy: 0.8966\n",
      "Epoch 92/100\n",
      "84/84 [==============================] - 81s 953ms/step - loss: 0.1838 - accuracy: 0.9320 - val_loss: 0.2976 - val_accuracy: 0.8801\n",
      "Epoch 93/100\n",
      "84/84 [==============================] - 85s 1s/step - loss: 0.1924 - accuracy: 0.9283 - val_loss: 0.2840 - val_accuracy: 0.8861\n",
      "Epoch 94/100\n",
      "84/84 [==============================] - 79s 928ms/step - loss: 0.1922 - accuracy: 0.9279 - val_loss: 0.2518 - val_accuracy: 0.9100\n",
      "Epoch 95/100\n",
      "84/84 [==============================] - 80s 951ms/step - loss: 0.1866 - accuracy: 0.9261 - val_loss: 0.3048 - val_accuracy: 0.8741\n",
      "Epoch 96/100\n",
      "84/84 [==============================] - 84s 999ms/step - loss: 0.1773 - accuracy: 0.9354 - val_loss: 0.2747 - val_accuracy: 0.8906\n",
      "Epoch 97/100\n",
      "84/84 [==============================] - 76s 905ms/step - loss: 0.1761 - accuracy: 0.9294 - val_loss: 0.2627 - val_accuracy: 0.9010\n",
      "Epoch 98/100\n",
      "84/84 [==============================] - 84s 1s/step - loss: 0.1792 - accuracy: 0.9313 - val_loss: 0.2557 - val_accuracy: 0.8981\n",
      "Epoch 99/100\n",
      "84/84 [==============================] - 83s 982ms/step - loss: 0.1781 - accuracy: 0.9320 - val_loss: 0.2580 - val_accuracy: 0.9025\n",
      "Epoch 100/100\n",
      "84/84 [==============================] - 78s 929ms/step - loss: 0.1816 - accuracy: 0.9291 - val_loss: 0.2590 - val_accuracy: 0.9085\n"
     ]
    }
   ],
   "source": [
    "history = model.fit(\n",
    "  train_ds,\n",
    "  validation_data=val_ds,\n",
    "  epochs=100\n",
    ")"
   ]
  },
  {
   "cell_type": "code",
   "execution_count": 12,
   "id": "eb2240c4",
   "metadata": {
    "scrolled": false
   },
   "outputs": [
    {
     "data": {
      "text/plain": [
       "<matplotlib.legend.Legend at 0x273d43a84f0>"
      ]
     },
     "execution_count": 12,
     "metadata": {},
     "output_type": "execute_result"
    },
    {
     "data": {
      "image/png": "[encoded data removed]",
      "text/plain": [
       "<Figure size 640x480 with 1 Axes>"
      ]
     },
     "metadata": {},
     "output_type": "display_data"
    },
    {
     "data": {
      "image/png": "[encoded data removed]",
      "text/plain": [
       "<Figure size 640x480 with 1 Axes>"
      ]
     },
     "metadata": {},
     "output_type": "display_data"
    }
   ],
   "source": [
    "accuracy = history.history['accuracy']\n",
    "val_accuracy = history.history['val_accuracy']\n",
    "loss = history.history['loss']\n",
    "val_loss = history.history['val_loss']\n",
    "epochs = range(1, len(accuracy) + 1)\n",
    "plt.plot(epochs, accuracy, 'bo', label='Training accuracy')\n",
    "plt.plot(epochs, val_accuracy, 'b', label='Validation accuracy')\n",
    "plt.title('Training and validation accuracy')\n",
    "plt.legend()\n",
    "plt.figure()\n",
    "plt.plot(epochs, loss, 'bo', label='Training loss')\n",
    "plt.plot(epochs, val_loss, 'b', label='Validation loss')\n",
    "plt.title('Training and validation loss')\n",
    "plt.legend()"
   ]
  },
  {
   "cell_type": "code",
   "execution_count": null,
   "id": "fb04a73e",
   "metadata": {},
   "outputs": [],
   "source": [
    "save_path = '../3. Model Selection/saved_models/Original Data Model/'\n",
    "if not os.path.exists(save_path):\n",
    "    os.makedirs(save_path)\n",
    "save_model(model, save_path)"
   ]
  },
  {
   "cell_type": "code",
   "execution_count": null,
   "id": "133c8f1c",
   "metadata": {},
   "outputs": [],
   "source": []
  }
 ],
 "metadata": {
  "kernelspec": {
   "display_name": "Python 3 (ipykernel)",
   "language": "python",
   "name": "python3"
  },
  "language_info": {
   "codemirror_mode": {
    "name": "ipython",
    "version": 3
   },
   "file_extension": ".py",
   "mimetype": "text/x-python",
   "name": "python",
   "nbconvert_exporter": "python",
   "pygments_lexer": "ipython3",
   "version": "3.9.16"
  }
 },
 "nbformat": 4,
 "nbformat_minor": 5
}
