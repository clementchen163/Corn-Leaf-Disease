{
 "cells": [
  {
   "cell_type": "code",
   "execution_count": 1,
   "id": "0fad3545",
   "metadata": {},
   "outputs": [],
   "source": [
    "from tensorflow.keras.utils import image_dataset_from_directory\n",
    "from tensorflow import keras\n",
    "from tensorflow.keras import layers\n",
    "from tensorflow.keras.models import model_from_json\n",
    "import matplotlib.pyplot as plt\n",
    "import tensorflow as tf\n",
    "import pathlib\n",
    "import splitfolders\n",
    "import os\n",
    "import numpy as np\n",
    "from modelfunc import save_model"
   ]
  },
  {
   "cell_type": "code",
   "execution_count": 2,
   "id": "d9c779c1",
   "metadata": {},
   "outputs": [],
   "source": [
    "np.random.seed(123)"
   ]
  },
  {
   "cell_type": "code",
   "execution_count": 3,
   "id": "728739ae",
   "metadata": {},
   "outputs": [
    {
     "name": "stdout",
     "output_type": "stream",
     "text": [
      "Num GPUs Available:  1\n"
     ]
    }
   ],
   "source": [
    "print('Num GPUs Available: ', len(tf.config.list_physical_devices('GPU')))"
   ]
  },
  {
   "cell_type": "code",
   "execution_count": 4,
   "id": "e5ee5219",
   "metadata": {},
   "outputs": [],
   "source": [
    "tf.get_logger().setLevel('ERROR')"
   ]
  },
  {
   "cell_type": "code",
   "execution_count": 5,
   "id": "8ac9171b",
   "metadata": {},
   "outputs": [
    {
     "data": {
      "text/plain": [
       "WindowsPath('../0. Project Data/Original Data')"
      ]
     },
     "execution_count": 5,
     "metadata": {},
     "output_type": "execute_result"
    }
   ],
   "source": [
    "datapath='../0. Project Data/Original Data'\n",
    "org_data_dir = pathlib.Path(datapath).with_suffix('')\n",
    "org_data_dir"
   ]
  },
  {
   "cell_type": "code",
   "execution_count": 6,
   "id": "e8d9b9e1",
   "metadata": {},
   "outputs": [],
   "source": [
    "train_split_test_dir='../0. Project Data/Original Split Data'\n",
    "splitfolders.ratio(org_data_dir, output=train_split_test_dir, seed=123, ratio=(.64, .16, .2)) # ratio of split are in order of train/val/test."
   ]
  },
  {
   "cell_type": "markdown",
   "id": "b1891f96",
   "metadata": {},
   "source": [
    "#### Image Parameters"
   ]
  },
  {
   "cell_type": "code",
   "execution_count": 7,
   "id": "a4c7e942",
   "metadata": {},
   "outputs": [],
   "source": [
    "batch_size = 32\n",
    "img_height = 180\n",
    "img_width = 180\n",
    "img_channels = 3"
   ]
  },
  {
   "cell_type": "code",
   "execution_count": 8,
   "id": "6eeb2a92",
   "metadata": {},
   "outputs": [
    {
     "name": "stdout",
     "output_type": "stream",
     "text": [
      "Found 2678 files belonging to 4 classes.\n",
      "Found 667 files belonging to 4 classes.\n",
      "Found 843 files belonging to 4 classes.\n"
     ]
    }
   ],
   "source": [
    "train_ds = image_dataset_from_directory(\n",
    "    train_split_test_dir + '/train',\n",
    "    image_size=(img_width, img_height),\n",
    "    batch_size=batch_size)\n",
    "val_ds = image_dataset_from_directory(\n",
    "    train_split_test_dir + '/val',\n",
    "    image_size=(img_width, img_height),\n",
    "    batch_size=batch_size)\n",
    "test_ds = image_dataset_from_directory(\n",
    "    train_split_test_dir + '/test',\n",
    "    image_size=(img_width, img_height),\n",
    "    batch_size=batch_size)"
   ]
  },
  {
   "cell_type": "code",
   "execution_count": 9,
   "id": "86487abb",
   "metadata": {},
   "outputs": [],
   "source": [
    "# enginerring more data by applying randomized horizontal flips, zooms(+/- 20%), and rotates (+/- 10%)\n",
    "data_augmentation = keras.Sequential([layers.RandomFlip('horizontal'), layers.RandomRotation(0.1), layers.RandomZoom(0.2),])"
   ]
  },
  {
   "cell_type": "code",
   "execution_count": 10,
   "id": "69bfd124",
   "metadata": {},
   "outputs": [],
   "source": [
    "inputs = keras.Input(shape=(img_height, img_width, img_channels))\n",
    "x = data_augmentation(inputs)\n",
    "x = layers.Rescaling(1./255)(x)\n",
    "x = layers.Conv2D(filters=32, kernel_size=3, activation='relu')(x)\n",
    "x = layers.MaxPooling2D(pool_size=2)(x)\n",
    "x = layers.Conv2D(filters=64, kernel_size=3, activation='relu')(x)\n",
    "x = layers.MaxPooling2D(pool_size=2)(x)\n",
    "x = layers.Conv2D(filters=128, kernel_size=3, activation='relu')(x)\n",
    "x = layers.MaxPooling2D(pool_size=2)(x)\n",
    "x = layers.Conv2D(filters=256, kernel_size=3, activation='relu')(x)\n",
    "x = layers.MaxPooling2D(pool_size=2)(x)\n",
    "x = layers.Conv2D(filters=256, kernel_size=3, activation='relu')(x)\n",
    "x = layers.Flatten()(x)\n",
    "outputs = layers.Dense(4, activation='softmax')(x)\n",
    "model = keras.Model(inputs=inputs, outputs=outputs)"
   ]
  },
  {
   "cell_type": "code",
   "execution_count": 11,
   "id": "8425de87",
   "metadata": {},
   "outputs": [
    {
     "name": "stdout",
     "output_type": "stream",
     "text": [
      "Model: \"model\"\n",
      "_________________________________________________________________\n",
      " Layer (type)                Output Shape              Param #   \n",
      "=================================================================\n",
      " input_1 (InputLayer)        [(None, 180, 180, 3)]     0         \n",
      "                                                                 \n",
      " sequential (Sequential)     (None, 180, 180, 3)       0         \n",
      "                                                                 \n",
      " rescaling (Rescaling)       (None, 180, 180, 3)       0         \n",
      "                                                                 \n",
      " conv2d (Conv2D)             (None, 178, 178, 32)      896       \n",
      "                                                                 \n",
      " max_pooling2d (MaxPooling2D  (None, 89, 89, 32)       0         \n",
      " )                                                               \n",
      "                                                                 \n",
      " conv2d_1 (Conv2D)           (None, 87, 87, 64)        18496     \n",
      "                                                                 \n",
      " max_pooling2d_1 (MaxPooling  (None, 43, 43, 64)       0         \n",
      " 2D)                                                             \n",
      "                                                                 \n",
      " conv2d_2 (Conv2D)           (None, 41, 41, 128)       73856     \n",
      "                                                                 \n",
      " max_pooling2d_2 (MaxPooling  (None, 20, 20, 128)      0         \n",
      " 2D)                                                             \n",
      "                                                                 \n",
      " conv2d_3 (Conv2D)           (None, 18, 18, 256)       295168    \n",
      "                                                                 \n",
      " max_pooling2d_3 (MaxPooling  (None, 9, 9, 256)        0         \n",
      " 2D)                                                             \n",
      "                                                                 \n",
      " conv2d_4 (Conv2D)           (None, 7, 7, 256)         590080    \n",
      "                                                                 \n",
      " flatten (Flatten)           (None, 12544)             0         \n",
      "                                                                 \n",
      " dense (Dense)               (None, 4)                 50180     \n",
      "                                                                 \n",
      "=================================================================\n",
      "Total params: 1,028,676\n",
      "Trainable params: 1,028,676\n",
      "Non-trainable params: 0\n",
      "_________________________________________________________________\n"
     ]
    }
   ],
   "source": [
    "model.summary()"
   ]
  },
  {
   "cell_type": "code",
   "execution_count": 12,
   "id": "4595a70c",
   "metadata": {},
   "outputs": [],
   "source": [
    "model.compile(optimizer='sgd', # Common optimizers include 'adam', 'sgd', and 'rmsprop'.\n",
    " loss='sparse_categorical_crossentropy', # Common loss functions include 'binary_crossentropy', 'categorical_crossentropy', and 'mse'.\n",
    " metrics=['accuracy']) #Common metrics include 'accuracy', 'precision', 'recall', and 'f1_score'."
   ]
  },
  {
   "cell_type": "code",
   "execution_count": 13,
   "id": "76bf9eb0",
   "metadata": {},
   "outputs": [
    {
     "name": "stdout",
     "output_type": "stream",
     "text": [
      "Epoch 1/100\n",
      "84/84 [==============================] - 24s 228ms/step - loss: 1.3404 - accuracy: 0.3398 - val_loss: 1.3175 - val_accuracy: 0.3538\n",
      "Epoch 2/100\n",
      "84/84 [==============================] - 17s 207ms/step - loss: 1.2935 - accuracy: 0.4317 - val_loss: 1.2556 - val_accuracy: 0.5727\n",
      "Epoch 3/100\n",
      "84/84 [==============================] - 18s 210ms/step - loss: 1.2123 - accuracy: 0.4806 - val_loss: 1.0669 - val_accuracy: 0.5847\n",
      "Epoch 4/100\n",
      "84/84 [==============================] - 18s 213ms/step - loss: 1.1426 - accuracy: 0.5444 - val_loss: 1.0111 - val_accuracy: 0.6147\n",
      "Epoch 5/100\n",
      "84/84 [==============================] - 17s 207ms/step - loss: 1.0248 - accuracy: 0.5986 - val_loss: 0.8943 - val_accuracy: 0.6312\n",
      "Epoch 6/100\n",
      "84/84 [==============================] - 18s 213ms/step - loss: 0.9347 - accuracy: 0.6374 - val_loss: 1.1720 - val_accuracy: 0.5052\n",
      "Epoch 7/100\n",
      "84/84 [==============================] - 18s 217ms/step - loss: 0.8877 - accuracy: 0.6535 - val_loss: 0.7005 - val_accuracy: 0.7526\n",
      "Epoch 8/100\n",
      "84/84 [==============================] - 18s 209ms/step - loss: 0.8155 - accuracy: 0.6886 - val_loss: 0.6910 - val_accuracy: 0.7691\n",
      "Epoch 9/100\n",
      "84/84 [==============================] - 18s 211ms/step - loss: 0.7147 - accuracy: 0.7184 - val_loss: 0.6640 - val_accuracy: 0.7856\n",
      "Epoch 10/100\n",
      "84/84 [==============================] - 18s 209ms/step - loss: 0.7629 - accuracy: 0.7106 - val_loss: 0.8507 - val_accuracy: 0.6027\n",
      "Epoch 11/100\n",
      "84/84 [==============================] - 18s 211ms/step - loss: 0.7334 - accuracy: 0.7050 - val_loss: 0.5243 - val_accuracy: 0.7736\n",
      "Epoch 12/100\n",
      "84/84 [==============================] - 18s 210ms/step - loss: 0.6054 - accuracy: 0.7573 - val_loss: 0.4813 - val_accuracy: 0.8081\n",
      "Epoch 13/100\n",
      "84/84 [==============================] - 17s 207ms/step - loss: 0.6110 - accuracy: 0.7636 - val_loss: 0.4757 - val_accuracy: 0.8111\n",
      "Epoch 14/100\n",
      "84/84 [==============================] - 18s 212ms/step - loss: 0.5270 - accuracy: 0.7808 - val_loss: 0.4662 - val_accuracy: 0.8141\n",
      "Epoch 15/100\n",
      "84/84 [==============================] - 18s 210ms/step - loss: 0.5086 - accuracy: 0.7853 - val_loss: 0.4157 - val_accuracy: 0.8246\n",
      "Epoch 16/100\n",
      "84/84 [==============================] - 18s 208ms/step - loss: 0.4991 - accuracy: 0.7954 - val_loss: 0.4186 - val_accuracy: 0.8156\n",
      "Epoch 17/100\n",
      "84/84 [==============================] - 18s 210ms/step - loss: 0.5169 - accuracy: 0.7890 - val_loss: 0.4258 - val_accuracy: 0.8411\n",
      "Epoch 18/100\n",
      "84/84 [==============================] - 18s 212ms/step - loss: 0.4171 - accuracy: 0.8237 - val_loss: 0.3794 - val_accuracy: 0.8501\n",
      "Epoch 19/100\n",
      "84/84 [==============================] - 18s 209ms/step - loss: 0.4827 - accuracy: 0.8055 - val_loss: 0.3907 - val_accuracy: 0.8396\n",
      "Epoch 20/100\n",
      "84/84 [==============================] - 17s 206ms/step - loss: 0.4023 - accuracy: 0.8286 - val_loss: 0.3679 - val_accuracy: 0.8456\n",
      "Epoch 21/100\n",
      "84/84 [==============================] - 17s 205ms/step - loss: 0.3981 - accuracy: 0.8364 - val_loss: 0.3393 - val_accuracy: 0.8606\n",
      "Epoch 22/100\n",
      "84/84 [==============================] - 17s 205ms/step - loss: 0.4208 - accuracy: 0.8279 - val_loss: 0.3423 - val_accuracy: 0.8681\n",
      "Epoch 23/100\n",
      "84/84 [==============================] - 17s 203ms/step - loss: 0.4222 - accuracy: 0.8391 - val_loss: 0.3431 - val_accuracy: 0.8636\n",
      "Epoch 24/100\n",
      "84/84 [==============================] - 18s 208ms/step - loss: 0.3827 - accuracy: 0.8462 - val_loss: 0.3528 - val_accuracy: 0.8561\n",
      "Epoch 25/100\n",
      "84/84 [==============================] - 18s 209ms/step - loss: 0.3813 - accuracy: 0.8506 - val_loss: 0.3700 - val_accuracy: 0.8366\n",
      "Epoch 26/100\n",
      "84/84 [==============================] - 17s 207ms/step - loss: 0.3429 - accuracy: 0.8600 - val_loss: 0.3226 - val_accuracy: 0.8501\n",
      "Epoch 27/100\n",
      "84/84 [==============================] - 17s 205ms/step - loss: 0.3296 - accuracy: 0.8697 - val_loss: 0.3864 - val_accuracy: 0.8516\n",
      "Epoch 28/100\n",
      "84/84 [==============================] - 17s 206ms/step - loss: 0.3226 - accuracy: 0.8719 - val_loss: 0.3201 - val_accuracy: 0.8711\n",
      "Epoch 29/100\n",
      "84/84 [==============================] - 18s 208ms/step - loss: 0.3163 - accuracy: 0.8738 - val_loss: 0.3117 - val_accuracy: 0.8651\n",
      "Epoch 30/100\n",
      "84/84 [==============================] - 18s 208ms/step - loss: 0.3502 - accuracy: 0.8585 - val_loss: 0.3103 - val_accuracy: 0.8801\n",
      "Epoch 31/100\n",
      "84/84 [==============================] - 18s 209ms/step - loss: 0.3425 - accuracy: 0.8596 - val_loss: 0.3375 - val_accuracy: 0.8636\n",
      "Epoch 32/100\n",
      "84/84 [==============================] - 17s 207ms/step - loss: 0.3327 - accuracy: 0.8633 - val_loss: 0.3537 - val_accuracy: 0.8666\n",
      "Epoch 33/100\n",
      "84/84 [==============================] - 17s 205ms/step - loss: 0.3072 - accuracy: 0.8723 - val_loss: 0.3141 - val_accuracy: 0.8666\n",
      "Epoch 34/100\n",
      "84/84 [==============================] - 17s 207ms/step - loss: 0.3532 - accuracy: 0.8596 - val_loss: 0.3210 - val_accuracy: 0.8696\n",
      "Epoch 35/100\n",
      "84/84 [==============================] - 17s 205ms/step - loss: 0.3195 - accuracy: 0.8723 - val_loss: 0.3020 - val_accuracy: 0.8651\n",
      "Epoch 36/100\n",
      "84/84 [==============================] - 18s 209ms/step - loss: 0.2984 - accuracy: 0.8768 - val_loss: 0.2866 - val_accuracy: 0.8771\n",
      "Epoch 37/100\n",
      "84/84 [==============================] - 19s 223ms/step - loss: 0.2822 - accuracy: 0.8846 - val_loss: 0.3159 - val_accuracy: 0.8621\n",
      "Epoch 38/100\n",
      "84/84 [==============================] - 20s 231ms/step - loss: 0.3032 - accuracy: 0.8723 - val_loss: 0.2994 - val_accuracy: 0.8726\n",
      "Epoch 39/100\n",
      "84/84 [==============================] - 17s 204ms/step - loss: 0.3412 - accuracy: 0.8753 - val_loss: 0.3359 - val_accuracy: 0.8591\n",
      "Epoch 40/100\n",
      "84/84 [==============================] - 17s 202ms/step - loss: 0.2783 - accuracy: 0.8865 - val_loss: 0.2851 - val_accuracy: 0.8786\n",
      "Epoch 41/100\n",
      "84/84 [==============================] - 17s 207ms/step - loss: 0.2702 - accuracy: 0.8887 - val_loss: 0.2860 - val_accuracy: 0.8801\n",
      "Epoch 42/100\n",
      "84/84 [==============================] - 17s 202ms/step - loss: 0.2647 - accuracy: 0.8842 - val_loss: 0.3042 - val_accuracy: 0.8756\n",
      "Epoch 43/100\n",
      "84/84 [==============================] - 17s 205ms/step - loss: 0.3170 - accuracy: 0.8839 - val_loss: 0.2955 - val_accuracy: 0.8666\n",
      "Epoch 44/100\n",
      "84/84 [==============================] - 17s 204ms/step - loss: 0.2593 - accuracy: 0.8940 - val_loss: 0.2827 - val_accuracy: 0.8816\n",
      "Epoch 45/100\n",
      "84/84 [==============================] - 17s 200ms/step - loss: 0.2597 - accuracy: 0.8936 - val_loss: 0.2857 - val_accuracy: 0.8741\n",
      "Epoch 46/100\n",
      "84/84 [==============================] - 17s 201ms/step - loss: 0.2561 - accuracy: 0.8928 - val_loss: 0.2762 - val_accuracy: 0.8801\n",
      "Epoch 47/100\n",
      "84/84 [==============================] - 17s 205ms/step - loss: 0.2610 - accuracy: 0.8928 - val_loss: 0.2710 - val_accuracy: 0.8876\n",
      "Epoch 48/100\n",
      "84/84 [==============================] - 17s 203ms/step - loss: 0.2493 - accuracy: 0.9010 - val_loss: 0.2869 - val_accuracy: 0.8831\n",
      "Epoch 49/100\n",
      "84/84 [==============================] - 17s 204ms/step - loss: 0.2732 - accuracy: 0.8902 - val_loss: 0.3683 - val_accuracy: 0.8711\n",
      "Epoch 50/100\n",
      "84/84 [==============================] - 18s 208ms/step - loss: 0.2486 - accuracy: 0.8947 - val_loss: 0.3183 - val_accuracy: 0.8651\n",
      "Epoch 51/100\n",
      "84/84 [==============================] - 17s 202ms/step - loss: 0.2431 - accuracy: 0.9037 - val_loss: 0.2663 - val_accuracy: 0.8831\n",
      "Epoch 52/100\n",
      "84/84 [==============================] - 17s 200ms/step - loss: 0.2379 - accuracy: 0.9093 - val_loss: 0.2668 - val_accuracy: 0.8846\n",
      "Epoch 53/100\n",
      "84/84 [==============================] - 18s 211ms/step - loss: 0.2536 - accuracy: 0.8984 - val_loss: 0.2633 - val_accuracy: 0.8906\n",
      "Epoch 54/100\n",
      "84/84 [==============================] - 17s 207ms/step - loss: 0.2381 - accuracy: 0.9093 - val_loss: 0.2575 - val_accuracy: 0.8921\n",
      "Epoch 55/100\n",
      "84/84 [==============================] - 17s 207ms/step - loss: 0.2303 - accuracy: 0.9096 - val_loss: 0.2565 - val_accuracy: 0.8876\n",
      "Epoch 56/100\n",
      "84/84 [==============================] - 18s 211ms/step - loss: 0.2294 - accuracy: 0.9040 - val_loss: 0.3135 - val_accuracy: 0.8741\n",
      "Epoch 57/100\n"
     ]
    },
    {
     "name": "stdout",
     "output_type": "stream",
     "text": [
      "84/84 [==============================] - 17s 207ms/step - loss: 0.2331 - accuracy: 0.9074 - val_loss: 0.2605 - val_accuracy: 0.8906\n",
      "Epoch 58/100\n",
      "84/84 [==============================] - 17s 206ms/step - loss: 0.2594 - accuracy: 0.8969 - val_loss: 0.2583 - val_accuracy: 0.8891\n",
      "Epoch 59/100\n",
      "84/84 [==============================] - 17s 207ms/step - loss: 0.3030 - accuracy: 0.8940 - val_loss: 0.3319 - val_accuracy: 0.8831\n",
      "Epoch 60/100\n",
      "84/84 [==============================] - 17s 207ms/step - loss: 0.2511 - accuracy: 0.9010 - val_loss: 0.2642 - val_accuracy: 0.8906\n",
      "Epoch 61/100\n",
      "84/84 [==============================] - 17s 204ms/step - loss: 0.2230 - accuracy: 0.9134 - val_loss: 0.2946 - val_accuracy: 0.8786\n",
      "Epoch 62/100\n",
      "84/84 [==============================] - 17s 207ms/step - loss: 0.2295 - accuracy: 0.9040 - val_loss: 0.2645 - val_accuracy: 0.8921\n",
      "Epoch 63/100\n",
      "84/84 [==============================] - 17s 205ms/step - loss: 0.2213 - accuracy: 0.9085 - val_loss: 0.3705 - val_accuracy: 0.8486\n",
      "Epoch 64/100\n",
      "84/84 [==============================] - 17s 204ms/step - loss: 0.2085 - accuracy: 0.9122 - val_loss: 0.2780 - val_accuracy: 0.8831\n",
      "Epoch 65/100\n",
      "84/84 [==============================] - 17s 201ms/step - loss: 0.2208 - accuracy: 0.9141 - val_loss: 0.2824 - val_accuracy: 0.8801\n",
      "Epoch 66/100\n",
      "84/84 [==============================] - 17s 201ms/step - loss: 0.2131 - accuracy: 0.9156 - val_loss: 0.2618 - val_accuracy: 0.8906\n",
      "Epoch 67/100\n",
      "84/84 [==============================] - 17s 204ms/step - loss: 0.2234 - accuracy: 0.9167 - val_loss: 0.2769 - val_accuracy: 0.8861\n",
      "Epoch 68/100\n",
      "84/84 [==============================] - 18s 211ms/step - loss: 0.2059 - accuracy: 0.9137 - val_loss: 0.2974 - val_accuracy: 0.8846\n",
      "Epoch 69/100\n",
      "84/84 [==============================] - 20s 234ms/step - loss: 0.2114 - accuracy: 0.9149 - val_loss: 0.2609 - val_accuracy: 0.8981\n",
      "Epoch 70/100\n",
      "84/84 [==============================] - 29s 346ms/step - loss: 0.2015 - accuracy: 0.9238 - val_loss: 0.2926 - val_accuracy: 0.8816\n",
      "Epoch 71/100\n",
      "84/84 [==============================] - 92s 1s/step - loss: 0.2548 - accuracy: 0.9063 - val_loss: 0.2831 - val_accuracy: 0.8786\n",
      "Epoch 72/100\n",
      "84/84 [==============================] - 47s 558ms/step - loss: 0.2094 - accuracy: 0.9175 - val_loss: 0.2742 - val_accuracy: 0.8906\n",
      "Epoch 73/100\n",
      "84/84 [==============================] - 36s 429ms/step - loss: 0.1973 - accuracy: 0.9171 - val_loss: 0.2739 - val_accuracy: 0.8816\n",
      "Epoch 74/100\n",
      "84/84 [==============================] - 50s 594ms/step - loss: 0.2002 - accuracy: 0.9167 - val_loss: 0.2619 - val_accuracy: 0.8891\n",
      "Epoch 75/100\n",
      "84/84 [==============================] - 102s 1s/step - loss: 0.1984 - accuracy: 0.9238 - val_loss: 0.2661 - val_accuracy: 0.8906\n",
      "Epoch 76/100\n",
      "84/84 [==============================] - 354s 4s/step - loss: 0.1918 - accuracy: 0.9216 - val_loss: 0.2758 - val_accuracy: 0.8891\n",
      "Epoch 77/100\n",
      "84/84 [==============================] - 152s 2s/step - loss: 0.2748 - accuracy: 0.9059 - val_loss: 0.2699 - val_accuracy: 0.8891\n",
      "Epoch 78/100\n",
      "84/84 [==============================] - 21s 252ms/step - loss: 0.1994 - accuracy: 0.9253 - val_loss: 0.2719 - val_accuracy: 0.8846\n",
      "Epoch 79/100\n",
      "84/84 [==============================] - 22s 261ms/step - loss: 0.1923 - accuracy: 0.9238 - val_loss: 0.2616 - val_accuracy: 0.8996\n",
      "Epoch 80/100\n",
      "84/84 [==============================] - 22s 257ms/step - loss: 0.1920 - accuracy: 0.9238 - val_loss: 0.2629 - val_accuracy: 0.8906\n",
      "Epoch 81/100\n",
      "84/84 [==============================] - 21s 254ms/step - loss: 0.1931 - accuracy: 0.9272 - val_loss: 0.2765 - val_accuracy: 0.8981\n",
      "Epoch 82/100\n",
      "84/84 [==============================] - 21s 251ms/step - loss: 0.1942 - accuracy: 0.9268 - val_loss: 0.2679 - val_accuracy: 0.8891\n",
      "Epoch 83/100\n",
      "84/84 [==============================] - 21s 252ms/step - loss: 0.1797 - accuracy: 0.9335 - val_loss: 0.2978 - val_accuracy: 0.8756\n",
      "Epoch 84/100\n",
      "84/84 [==============================] - 22s 256ms/step - loss: 0.1897 - accuracy: 0.9238 - val_loss: 0.2792 - val_accuracy: 0.8921\n",
      "Epoch 85/100\n",
      "84/84 [==============================] - 22s 265ms/step - loss: 0.3165 - accuracy: 0.9022 - val_loss: 0.2875 - val_accuracy: 0.8861\n",
      "Epoch 86/100\n",
      "84/84 [==============================] - 22s 262ms/step - loss: 0.2095 - accuracy: 0.9220 - val_loss: 0.2992 - val_accuracy: 0.8921\n",
      "Epoch 87/100\n",
      "84/84 [==============================] - 21s 251ms/step - loss: 0.1915 - accuracy: 0.9223 - val_loss: 0.2660 - val_accuracy: 0.8921\n",
      "Epoch 88/100\n",
      "84/84 [==============================] - 22s 260ms/step - loss: 0.1823 - accuracy: 0.9261 - val_loss: 0.2916 - val_accuracy: 0.8861\n",
      "Epoch 89/100\n",
      "84/84 [==============================] - 23s 280ms/step - loss: 0.1920 - accuracy: 0.9178 - val_loss: 0.2628 - val_accuracy: 0.8906\n",
      "Epoch 90/100\n",
      "84/84 [==============================] - 22s 264ms/step - loss: 0.1704 - accuracy: 0.9335 - val_loss: 0.2876 - val_accuracy: 0.8846\n",
      "Epoch 91/100\n",
      "84/84 [==============================] - 21s 254ms/step - loss: 0.1827 - accuracy: 0.9276 - val_loss: 0.3068 - val_accuracy: 0.8771\n",
      "Epoch 92/100\n",
      "84/84 [==============================] - 23s 270ms/step - loss: 0.1657 - accuracy: 0.9332 - val_loss: 0.4969 - val_accuracy: 0.8096\n",
      "Epoch 93/100\n",
      "84/84 [==============================] - 21s 251ms/step - loss: 0.1703 - accuracy: 0.9287 - val_loss: 0.2766 - val_accuracy: 0.8861\n",
      "Epoch 94/100\n",
      "84/84 [==============================] - 21s 254ms/step - loss: 0.1651 - accuracy: 0.9320 - val_loss: 0.3015 - val_accuracy: 0.8861\n",
      "Epoch 95/100\n",
      "84/84 [==============================] - 21s 252ms/step - loss: 0.1645 - accuracy: 0.9388 - val_loss: 0.2673 - val_accuracy: 0.8921\n",
      "Epoch 96/100\n",
      "84/84 [==============================] - 21s 251ms/step - loss: 0.1755 - accuracy: 0.9373 - val_loss: 0.2860 - val_accuracy: 0.8786\n",
      "Epoch 97/100\n",
      "84/84 [==============================] - 21s 249ms/step - loss: 0.1670 - accuracy: 0.9309 - val_loss: 0.2561 - val_accuracy: 0.8951\n",
      "Epoch 98/100\n",
      "84/84 [==============================] - 22s 258ms/step - loss: 0.1631 - accuracy: 0.9347 - val_loss: 0.2699 - val_accuracy: 0.8906\n",
      "Epoch 99/100\n",
      "84/84 [==============================] - 21s 250ms/step - loss: 0.1545 - accuracy: 0.9384 - val_loss: 0.2958 - val_accuracy: 0.8846\n",
      "Epoch 100/100\n",
      "84/84 [==============================] - 22s 255ms/step - loss: 0.1693 - accuracy: 0.9347 - val_loss: 0.2973 - val_accuracy: 0.8876\n"
     ]
    }
   ],
   "source": [
    "history = model.fit(\n",
    "  train_ds,\n",
    "  validation_data=val_ds,\n",
    "  epochs=100\n",
    ")"
   ]
  },
  {
   "cell_type": "code",
   "execution_count": 14,
   "id": "eb2240c4",
   "metadata": {
    "scrolled": false
   },
   "outputs": [
    {
     "data": {
      "text/plain": [
       "<matplotlib.legend.Legend at 0x271eef8f790>"
      ]
     },
     "execution_count": 14,
     "metadata": {},
     "output_type": "execute_result"
    },
    {
     "data": {
      "image/png": "[encoded data removed]",
      "text/plain": [
       "<Figure size 640x480 with 1 Axes>"
      ]
     },
     "metadata": {},
     "output_type": "display_data"
    },
    {
     "data": {
      "image/png": "[encoded data removed]",
      "text/plain": [
       "<Figure size 640x480 with 1 Axes>"
      ]
     },
     "metadata": {},
     "output_type": "display_data"
    }
   ],
   "source": [
    "accuracy = history.history['accuracy']\n",
    "val_accuracy = history.history['val_accuracy']\n",
    "loss = history.history['loss']\n",
    "val_loss = history.history['val_loss']\n",
    "epochs = range(1, len(accuracy) + 1)\n",
    "plt.plot(epochs, accuracy, 'bo', label='Training accuracy')\n",
    "plt.plot(epochs, val_accuracy, 'b', label='Validation accuracy')\n",
    "plt.title('Training and validation accuracy')\n",
    "plt.legend()\n",
    "plt.figure()\n",
    "plt.plot(epochs, loss, 'bo', label='Training loss')\n",
    "plt.plot(epochs, val_loss, 'b', label='Validation loss')\n",
    "plt.title('Training and validation loss')\n",
    "plt.legend()"
   ]
  },
  {
   "cell_type": "code",
   "execution_count": 15,
   "id": "fb04a73e",
   "metadata": {},
   "outputs": [
    {
     "name": "stdout",
     "output_type": "stream",
     "text": [
      "Saved model to disk\n"
     ]
    }
   ],
   "source": [
    "save_path = '../3. Model Selection/saved_models/Model 1-Original Data/'\n",
    "if not os.path.exists(save_path):\n",
    "    os.makedirs(save_path)\n",
    "save_model(model, save_path)"
   ]
  },
  {
   "cell_type": "code",
   "execution_count": 16,
   "id": "f871a3f6",
   "metadata": {},
   "outputs": [],
   "source": [
    "#below saved files are gitignored"
   ]
  },
  {
   "cell_type": "code",
   "execution_count": 20,
   "id": "133c8f1c",
   "metadata": {},
   "outputs": [
    {
     "name": "stderr",
     "output_type": "stream",
     "text": [
      "WARNING:absl:Found untraced functions such as _jit_compiled_convolution_op, _jit_compiled_convolution_op, _jit_compiled_convolution_op, _jit_compiled_convolution_op, _jit_compiled_convolution_op while saving (showing 5 of 5). These functions will not be directly callable after loading.\n"
     ]
    }
   ],
   "source": [
    "if not os.path.exists('./saved_models/Model 1-Original Data'):\n",
    "    os.makedirs('./saved_models/Model 1-Original Data')\n",
    "model.save('./saved_models/Model 1-Original Data')"
   ]
  },
  {
   "cell_type": "code",
   "execution_count": null,
   "id": "5055841f",
   "metadata": {},
   "outputs": [],
   "source": []
  }
 ],
 "metadata": {
  "kernelspec": {
   "display_name": "Python 3 (ipykernel)",
   "language": "python",
   "name": "python3"
  },
  "language_info": {
   "codemirror_mode": {
    "name": "ipython",
    "version": 3
   },
   "file_extension": ".py",
   "mimetype": "text/x-python",
   "name": "python",
   "nbconvert_exporter": "python",
   "pygments_lexer": "ipython3",
   "version": "3.9.16"
  }
 },
 "nbformat": 4,
 "nbformat_minor": 5
}
