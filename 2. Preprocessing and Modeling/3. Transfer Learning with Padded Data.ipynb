{
 "cells": [
  {
   "cell_type": "code",
   "execution_count": 1,
   "id": "5891968a",
   "metadata": {},
   "outputs": [],
   "source": [
    "from tensorflow import keras\n",
    "from tensorflow.keras import layers\n",
    "import splitfolders\n",
    "from tensorflow.keras.utils import image_dataset_from_directory\n",
    "import matplotlib.pyplot as plt\n",
    "import os\n",
    "import tensorflow as tf\n",
    "import numpy as np\n",
    "from modelfunc import save_model"
   ]
  },
  {
   "cell_type": "code",
   "execution_count": 2,
   "id": "b5dc091c",
   "metadata": {},
   "outputs": [],
   "source": [
    "np.random.seed(123) # set random seed for reproducability"
   ]
  },
  {
   "cell_type": "code",
   "execution_count": 3,
   "id": "b97fec7a",
   "metadata": {},
   "outputs": [
    {
     "name": "stdout",
     "output_type": "stream",
     "text": [
      "Num GPUs Available:  1\n"
     ]
    }
   ],
   "source": [
    "print('Num GPUs Available: ', len(tf.config.list_physical_devices('GPU'))) # make sure GPU is being used"
   ]
  },
  {
   "cell_type": "code",
   "execution_count": 4,
   "id": "b9f8f0f7",
   "metadata": {},
   "outputs": [],
   "source": [
    "tf.get_logger().setLevel('ERROR') # hide some warning messages"
   ]
  },
  {
   "cell_type": "markdown",
   "id": "8a5ca9f9",
   "metadata": {},
   "source": [
    "#### Image Parameters"
   ]
  },
  {
   "cell_type": "code",
   "execution_count": 5,
   "id": "e9b0fc81",
   "metadata": {},
   "outputs": [],
   "source": [
    "batch_size = 32\n",
    "img_height = 256\n",
    "img_width = 256\n",
    "img_channels = 3"
   ]
  },
  {
   "cell_type": "markdown",
   "id": "a6677ea9",
   "metadata": {},
   "source": [
    "#### Load Datasets"
   ]
  },
  {
   "cell_type": "code",
   "execution_count": 6,
   "id": "6bedf1f1",
   "metadata": {},
   "outputs": [
    {
     "name": "stdout",
     "output_type": "stream",
     "text": [
      "Found 2678 files belonging to 4 classes.\n",
      "Found 667 files belonging to 4 classes.\n",
      "Found 843 files belonging to 4 classes.\n"
     ]
    }
   ],
   "source": [
    "train_split_test_dir='../0. Project Data/Reshaped zero-padded and split data'\n",
    "train_ds = image_dataset_from_directory(\n",
    "    train_split_test_dir + '/train',\n",
    "    image_size=(img_width, img_height),\n",
    "    batch_size=batch_size)\n",
    "val_ds = image_dataset_from_directory(\n",
    "    train_split_test_dir + '/val',\n",
    "    image_size=(img_width, img_height),\n",
    "    batch_size=batch_size)\n",
    "test_ds = image_dataset_from_directory(\n",
    "    train_split_test_dir + '/test',\n",
    "    image_size=(img_width, img_height),\n",
    "    batch_size=batch_size)"
   ]
  },
  {
   "cell_type": "markdown",
   "id": "c9c1882b",
   "metadata": {},
   "source": [
    "#### Using a Pretrained Model (VGG16)"
   ]
  },
  {
   "cell_type": "markdown",
   "id": "9b24ce82",
   "metadata": {},
   "source": [
    "Here we use part of a pre-trained CNN model(VGG16) that has been trained on the ImageNet dataset which contains over 14 million images. The plan is to take the convolutional base from the VGG16 model which has (ideally) learned some small features that are common between everyday real-world items and discard the densely connected classification layers which have been tuned to classify animals and other objects. In its place we would train our own densely connected layers to taylor its application to our classification task. So ontop of the convolutional base, we add some densely connected layers along with a dropout layer with a softmax activation function output layer. Before we start any training, we freeze the weights on the convolutional base because if we don't, the randomly initialized weights of the densely connected layers will backpropogate and destroy all the learning from our pretrained convolutional base."
   ]
  },
  {
   "cell_type": "markdown",
   "id": "03ec3c0c",
   "metadata": {},
   "source": [
    "#### Take the Convolutional Base of the VGG16 Model"
   ]
  },
  {
   "cell_type": "code",
   "execution_count": 7,
   "id": "96413537",
   "metadata": {},
   "outputs": [],
   "source": [
    "conv_base = keras.applications.vgg16.VGG16(\n",
    " weights='imagenet',\n",
    " include_top=False)\n",
    "conv_base.trainable = False # freeze weights"
   ]
  },
  {
   "cell_type": "code",
   "execution_count": 8,
   "id": "35344f72",
   "metadata": {},
   "outputs": [
    {
     "name": "stdout",
     "output_type": "stream",
     "text": [
      "Model: \"vgg16\"\n",
      "_________________________________________________________________\n",
      " Layer (type)                Output Shape              Param #   \n",
      "=================================================================\n",
      " input_1 (InputLayer)        [(None, None, None, 3)]   0         \n",
      "                                                                 \n",
      " block1_conv1 (Conv2D)       (None, None, None, 64)    1792      \n",
      "                                                                 \n",
      " block1_conv2 (Conv2D)       (None, None, None, 64)    36928     \n",
      "                                                                 \n",
      " block1_pool (MaxPooling2D)  (None, None, None, 64)    0         \n",
      "                                                                 \n",
      " block2_conv1 (Conv2D)       (None, None, None, 128)   73856     \n",
      "                                                                 \n",
      " block2_conv2 (Conv2D)       (None, None, None, 128)   147584    \n",
      "                                                                 \n",
      " block2_pool (MaxPooling2D)  (None, None, None, 128)   0         \n",
      "                                                                 \n",
      " block3_conv1 (Conv2D)       (None, None, None, 256)   295168    \n",
      "                                                                 \n",
      " block3_conv2 (Conv2D)       (None, None, None, 256)   590080    \n",
      "                                                                 \n",
      " block3_conv3 (Conv2D)       (None, None, None, 256)   590080    \n",
      "                                                                 \n",
      " block3_pool (MaxPooling2D)  (None, None, None, 256)   0         \n",
      "                                                                 \n",
      " block4_conv1 (Conv2D)       (None, None, None, 512)   1180160   \n",
      "                                                                 \n",
      " block4_conv2 (Conv2D)       (None, None, None, 512)   2359808   \n",
      "                                                                 \n",
      " block4_conv3 (Conv2D)       (None, None, None, 512)   2359808   \n",
      "                                                                 \n",
      " block4_pool (MaxPooling2D)  (None, None, None, 512)   0         \n",
      "                                                                 \n",
      " block5_conv1 (Conv2D)       (None, None, None, 512)   2359808   \n",
      "                                                                 \n",
      " block5_conv2 (Conv2D)       (None, None, None, 512)   2359808   \n",
      "                                                                 \n",
      " block5_conv3 (Conv2D)       (None, None, None, 512)   2359808   \n",
      "                                                                 \n",
      " block5_pool (MaxPooling2D)  (None, None, None, 512)   0         \n",
      "                                                                 \n",
      "=================================================================\n",
      "Total params: 14,714,688\n",
      "Trainable params: 0\n",
      "Non-trainable params: 14,714,688\n",
      "_________________________________________________________________\n"
     ]
    }
   ],
   "source": [
    "conv_base.summary() # the convolutional base has a pyramid like conv-conv-pooling structure"
   ]
  },
  {
   "cell_type": "code",
   "execution_count": 9,
   "id": "138efe25",
   "metadata": {},
   "outputs": [],
   "source": [
    "# enginerring more data by applying randomized horizontal flips, zooms(+/- 20%), and rotates (+/- 10%)\n",
    "data_augmentation = keras.Sequential([layers.RandomFlip('horizontal'), layers.RandomRotation(0.1), layers.RandomZoom(0.2),])"
   ]
  },
  {
   "cell_type": "code",
   "execution_count": 10,
   "id": "dfd8df7f",
   "metadata": {},
   "outputs": [],
   "source": [
    "inputs = keras.Input(shape=(img_height, img_width, img_channels))\n",
    "x = data_augmentation(inputs)\n",
    "x = keras.applications.vgg16.preprocess_input(x)\n",
    "# convolutional base of the vgg16 model\n",
    "x = conv_base(x)\n",
    "# randomly initialized densely connected and dropout layers\n",
    "x = layers.Flatten()(x)\n",
    "x = layers.Dense(256)(x)\n",
    "x = layers.Dropout(0.1)(x)\n",
    "outputs = layers.Dense(4, activation='softmax')(x)\n",
    "model = keras.Model(inputs, outputs)"
   ]
  },
  {
   "cell_type": "code",
   "execution_count": 11,
   "id": "dea8cb69",
   "metadata": {
    "scrolled": true
   },
   "outputs": [
    {
     "name": "stdout",
     "output_type": "stream",
     "text": [
      "Model: \"model\"\n",
      "_________________________________________________________________\n",
      " Layer (type)                Output Shape              Param #   \n",
      "=================================================================\n",
      " input_2 (InputLayer)        [(None, 256, 256, 3)]     0         \n",
      "                                                                 \n",
      " sequential (Sequential)     (None, 256, 256, 3)       0         \n",
      "                                                                 \n",
      " tf.__operators__.getitem (S  (None, 256, 256, 3)      0         \n",
      " licingOpLambda)                                                 \n",
      "                                                                 \n",
      " tf.nn.bias_add (TFOpLambda)  (None, 256, 256, 3)      0         \n",
      "                                                                 \n",
      " vgg16 (Functional)          (None, None, None, 512)   14714688  \n",
      "                                                                 \n",
      " flatten (Flatten)           (None, 32768)             0         \n",
      "                                                                 \n",
      " dense (Dense)               (None, 256)               8388864   \n",
      "                                                                 \n",
      " dropout (Dropout)           (None, 256)               0         \n",
      "                                                                 \n",
      " dense_1 (Dense)             (None, 4)                 1028      \n",
      "                                                                 \n",
      "=================================================================\n",
      "Total params: 23,104,580\n",
      "Trainable params: 8,389,892\n",
      "Non-trainable params: 14,714,688\n",
      "_________________________________________________________________\n"
     ]
    }
   ],
   "source": [
    "model.summary()"
   ]
  },
  {
   "cell_type": "code",
   "execution_count": 12,
   "id": "31470a68",
   "metadata": {},
   "outputs": [],
   "source": [
    "model.compile(loss='sparse_categorical_crossentropy',\n",
    " optimizer='adam',\n",
    " metrics=['accuracy'])"
   ]
  },
  {
   "cell_type": "markdown",
   "id": "0f526993",
   "metadata": {},
   "source": [
    "#### Fitting the Model"
   ]
  },
  {
   "cell_type": "code",
   "execution_count": 13,
   "id": "c618c915",
   "metadata": {
    "scrolled": true
   },
   "outputs": [
    {
     "name": "stdout",
     "output_type": "stream",
     "text": [
      "Epoch 1/100\n",
      "84/84 [==============================] - 49s 463ms/step - loss: 29.3112 - accuracy: 0.8346 - val_loss: 19.4550 - val_accuracy: 0.8726\n",
      "Epoch 2/100\n",
      "84/84 [==============================] - 28s 338ms/step - loss: 10.2630 - accuracy: 0.9167 - val_loss: 9.6891 - val_accuracy: 0.9130\n",
      "Epoch 3/100\n",
      "84/84 [==============================] - 28s 337ms/step - loss: 5.5670 - accuracy: 0.9350 - val_loss: 7.1916 - val_accuracy: 0.9085\n",
      "Epoch 4/100\n",
      "84/84 [==============================] - 28s 334ms/step - loss: 5.3511 - accuracy: 0.9287 - val_loss: 4.9711 - val_accuracy: 0.9250\n",
      "Epoch 5/100\n",
      "84/84 [==============================] - 28s 332ms/step - loss: 2.7432 - accuracy: 0.9432 - val_loss: 4.6514 - val_accuracy: 0.9250\n",
      "Epoch 6/100\n",
      "84/84 [==============================] - 28s 337ms/step - loss: 1.9476 - accuracy: 0.9455 - val_loss: 5.5139 - val_accuracy: 0.9235\n",
      "Epoch 7/100\n",
      "84/84 [==============================] - 28s 335ms/step - loss: 1.3391 - accuracy: 0.9600 - val_loss: 3.6271 - val_accuracy: 0.9070\n",
      "Epoch 8/100\n",
      "84/84 [==============================] - 28s 334ms/step - loss: 1.1514 - accuracy: 0.9608 - val_loss: 2.8008 - val_accuracy: 0.9280\n",
      "Epoch 9/100\n",
      "84/84 [==============================] - 28s 334ms/step - loss: 1.1699 - accuracy: 0.9496 - val_loss: 3.9081 - val_accuracy: 0.9040\n",
      "Epoch 10/100\n",
      "84/84 [==============================] - 28s 335ms/step - loss: 1.0090 - accuracy: 0.9615 - val_loss: 2.4547 - val_accuracy: 0.9325\n",
      "Epoch 11/100\n",
      "84/84 [==============================] - 28s 335ms/step - loss: 0.6994 - accuracy: 0.9701 - val_loss: 3.0813 - val_accuracy: 0.9235\n",
      "Epoch 12/100\n",
      "84/84 [==============================] - 28s 333ms/step - loss: 0.8392 - accuracy: 0.9653 - val_loss: 2.5761 - val_accuracy: 0.9310\n",
      "Epoch 13/100\n",
      "84/84 [==============================] - 28s 333ms/step - loss: 0.6163 - accuracy: 0.9757 - val_loss: 2.2771 - val_accuracy: 0.9250\n",
      "Epoch 14/100\n",
      "84/84 [==============================] - 28s 335ms/step - loss: 0.8692 - accuracy: 0.9668 - val_loss: 2.4218 - val_accuracy: 0.9280\n",
      "Epoch 15/100\n",
      "84/84 [==============================] - 28s 337ms/step - loss: 0.3376 - accuracy: 0.9750 - val_loss: 2.6249 - val_accuracy: 0.9325\n",
      "Epoch 16/100\n",
      "84/84 [==============================] - 28s 333ms/step - loss: 0.6907 - accuracy: 0.9668 - val_loss: 3.5561 - val_accuracy: 0.9190\n",
      "Epoch 17/100\n",
      "84/84 [==============================] - 28s 334ms/step - loss: 0.9611 - accuracy: 0.9615 - val_loss: 3.2343 - val_accuracy: 0.9325\n",
      "Epoch 18/100\n",
      "84/84 [==============================] - 29s 341ms/step - loss: 0.9049 - accuracy: 0.9668 - val_loss: 3.5748 - val_accuracy: 0.9070\n",
      "Epoch 19/100\n",
      "84/84 [==============================] - 28s 337ms/step - loss: 0.4372 - accuracy: 0.9742 - val_loss: 3.0355 - val_accuracy: 0.9295\n",
      "Epoch 20/100\n",
      "84/84 [==============================] - 28s 339ms/step - loss: 0.3853 - accuracy: 0.9739 - val_loss: 2.3640 - val_accuracy: 0.9355\n",
      "Epoch 21/100\n",
      "84/84 [==============================] - 28s 334ms/step - loss: 0.4047 - accuracy: 0.9776 - val_loss: 3.7850 - val_accuracy: 0.9100\n",
      "Epoch 22/100\n",
      "84/84 [==============================] - 28s 332ms/step - loss: 0.4277 - accuracy: 0.9780 - val_loss: 3.0722 - val_accuracy: 0.9250\n",
      "Epoch 23/100\n",
      "84/84 [==============================] - 28s 333ms/step - loss: 0.4497 - accuracy: 0.9787 - val_loss: 2.1578 - val_accuracy: 0.9355\n",
      "Epoch 24/100\n",
      "84/84 [==============================] - 28s 331ms/step - loss: 0.3477 - accuracy: 0.9768 - val_loss: 2.8344 - val_accuracy: 0.9130\n",
      "Epoch 25/100\n",
      "84/84 [==============================] - 28s 331ms/step - loss: 0.6725 - accuracy: 0.9668 - val_loss: 3.1730 - val_accuracy: 0.9235\n",
      "Epoch 26/100\n",
      "84/84 [==============================] - 28s 331ms/step - loss: 0.6845 - accuracy: 0.9739 - val_loss: 3.1390 - val_accuracy: 0.9250\n",
      "Epoch 27/100\n",
      "84/84 [==============================] - 28s 332ms/step - loss: 0.4668 - accuracy: 0.9735 - val_loss: 5.1107 - val_accuracy: 0.8831\n",
      "Epoch 28/100\n",
      "84/84 [==============================] - 28s 332ms/step - loss: 0.8453 - accuracy: 0.9664 - val_loss: 3.8044 - val_accuracy: 0.9220\n",
      "Epoch 29/100\n",
      "84/84 [==============================] - 28s 332ms/step - loss: 0.8513 - accuracy: 0.9686 - val_loss: 2.7116 - val_accuracy: 0.9340\n",
      "Epoch 30/100\n",
      "84/84 [==============================] - 28s 336ms/step - loss: 0.7560 - accuracy: 0.9694 - val_loss: 3.2494 - val_accuracy: 0.9205\n",
      "Epoch 31/100\n",
      "84/84 [==============================] - 29s 340ms/step - loss: 0.6040 - accuracy: 0.9780 - val_loss: 3.2287 - val_accuracy: 0.9310\n",
      "Epoch 32/100\n",
      "84/84 [==============================] - 28s 337ms/step - loss: 0.6183 - accuracy: 0.9712 - val_loss: 3.7668 - val_accuracy: 0.9160\n",
      "Epoch 33/100\n",
      "84/84 [==============================] - 28s 335ms/step - loss: 0.3378 - accuracy: 0.9821 - val_loss: 3.2576 - val_accuracy: 0.9355\n",
      "Epoch 34/100\n",
      "84/84 [==============================] - 29s 340ms/step - loss: 0.5141 - accuracy: 0.9768 - val_loss: 3.6793 - val_accuracy: 0.9205\n",
      "Epoch 35/100\n",
      "84/84 [==============================] - 29s 347ms/step - loss: 0.7009 - accuracy: 0.9750 - val_loss: 2.9871 - val_accuracy: 0.9355\n",
      "Epoch 36/100\n",
      "84/84 [==============================] - 28s 337ms/step - loss: 0.6918 - accuracy: 0.9709 - val_loss: 4.1299 - val_accuracy: 0.9265\n",
      "Epoch 37/100\n",
      "84/84 [==============================] - 29s 340ms/step - loss: 0.9057 - accuracy: 0.9694 - val_loss: 4.2426 - val_accuracy: 0.9355\n",
      "Epoch 38/100\n",
      "84/84 [==============================] - 29s 341ms/step - loss: 1.1150 - accuracy: 0.9705 - val_loss: 4.4433 - val_accuracy: 0.9160\n",
      "Epoch 39/100\n",
      "84/84 [==============================] - 28s 339ms/step - loss: 0.8062 - accuracy: 0.9746 - val_loss: 4.0972 - val_accuracy: 0.9145\n",
      "Epoch 40/100\n",
      "84/84 [==============================] - 28s 339ms/step - loss: 0.9001 - accuracy: 0.9668 - val_loss: 7.6026 - val_accuracy: 0.8996\n",
      "Epoch 41/100\n",
      "84/84 [==============================] - 28s 339ms/step - loss: 0.8126 - accuracy: 0.9731 - val_loss: 5.2058 - val_accuracy: 0.9250\n",
      "Epoch 42/100\n",
      "84/84 [==============================] - 28s 339ms/step - loss: 0.5744 - accuracy: 0.9798 - val_loss: 4.8081 - val_accuracy: 0.9130\n",
      "Epoch 43/100\n",
      "84/84 [==============================] - 28s 337ms/step - loss: 1.1412 - accuracy: 0.9664 - val_loss: 4.2688 - val_accuracy: 0.9265\n",
      "Epoch 44/100\n",
      "84/84 [==============================] - 29s 340ms/step - loss: 0.7407 - accuracy: 0.9787 - val_loss: 4.4592 - val_accuracy: 0.9235\n",
      "Epoch 45/100\n",
      "84/84 [==============================] - 29s 339ms/step - loss: 0.6592 - accuracy: 0.9817 - val_loss: 4.9067 - val_accuracy: 0.9115\n",
      "Epoch 46/100\n",
      "84/84 [==============================] - 29s 340ms/step - loss: 0.9087 - accuracy: 0.9731 - val_loss: 3.6458 - val_accuracy: 0.9430\n",
      "Epoch 47/100\n",
      "84/84 [==============================] - 29s 340ms/step - loss: 0.7390 - accuracy: 0.9720 - val_loss: 3.6775 - val_accuracy: 0.9370\n",
      "Epoch 48/100\n",
      "84/84 [==============================] - 28s 337ms/step - loss: 0.6680 - accuracy: 0.9772 - val_loss: 5.4507 - val_accuracy: 0.9295\n",
      "Epoch 49/100\n",
      "84/84 [==============================] - 28s 339ms/step - loss: 1.4159 - accuracy: 0.9724 - val_loss: 5.0226 - val_accuracy: 0.9340\n",
      "Epoch 50/100\n",
      "84/84 [==============================] - 29s 340ms/step - loss: 1.5415 - accuracy: 0.9724 - val_loss: 6.1246 - val_accuracy: 0.9280\n",
      "Epoch 51/100\n",
      "84/84 [==============================] - 28s 338ms/step - loss: 0.8530 - accuracy: 0.9768 - val_loss: 4.9859 - val_accuracy: 0.9145\n",
      "Epoch 52/100\n",
      "84/84 [==============================] - 28s 339ms/step - loss: 1.0135 - accuracy: 0.9746 - val_loss: 5.7147 - val_accuracy: 0.9280\n",
      "Epoch 53/100\n",
      "84/84 [==============================] - 28s 338ms/step - loss: 0.7565 - accuracy: 0.9757 - val_loss: 6.9026 - val_accuracy: 0.9235\n",
      "Epoch 54/100\n",
      "84/84 [==============================] - 28s 337ms/step - loss: 0.7385 - accuracy: 0.9798 - val_loss: 6.2600 - val_accuracy: 0.9235\n",
      "Epoch 55/100\n",
      "84/84 [==============================] - 28s 339ms/step - loss: 0.7882 - accuracy: 0.9768 - val_loss: 5.9950 - val_accuracy: 0.9280\n",
      "Epoch 56/100\n",
      "84/84 [==============================] - 28s 337ms/step - loss: 1.0287 - accuracy: 0.9810 - val_loss: 5.2197 - val_accuracy: 0.9370\n",
      "Epoch 57/100\n",
      "84/84 [==============================] - 28s 337ms/step - loss: 0.8220 - accuracy: 0.9795 - val_loss: 5.3013 - val_accuracy: 0.9415\n",
      "Epoch 58/100\n",
      "84/84 [==============================] - 28s 338ms/step - loss: 0.8572 - accuracy: 0.9754 - val_loss: 7.7899 - val_accuracy: 0.9295\n",
      "Epoch 59/100\n",
      "84/84 [==============================] - 29s 341ms/step - loss: 1.1263 - accuracy: 0.9761 - val_loss: 6.1060 - val_accuracy: 0.9355\n",
      "Epoch 60/100\n",
      "84/84 [==============================] - 29s 341ms/step - loss: 1.0837 - accuracy: 0.9757 - val_loss: 5.0167 - val_accuracy: 0.9340\n",
      "Epoch 61/100\n",
      "84/84 [==============================] - 29s 347ms/step - loss: 1.1112 - accuracy: 0.9765 - val_loss: 5.4668 - val_accuracy: 0.9235\n",
      "Epoch 62/100\n",
      "84/84 [==============================] - 29s 349ms/step - loss: 0.6471 - accuracy: 0.9839 - val_loss: 8.5245 - val_accuracy: 0.9265\n",
      "Epoch 63/100\n",
      "84/84 [==============================] - 29s 347ms/step - loss: 0.9256 - accuracy: 0.9806 - val_loss: 11.3747 - val_accuracy: 0.8996\n",
      "Epoch 64/100\n",
      "84/84 [==============================] - 29s 351ms/step - loss: 1.0676 - accuracy: 0.9791 - val_loss: 6.4119 - val_accuracy: 0.9340\n",
      "Epoch 65/100\n",
      "84/84 [==============================] - 29s 349ms/step - loss: 0.5803 - accuracy: 0.9843 - val_loss: 3.9321 - val_accuracy: 0.9370\n",
      "Epoch 66/100\n",
      "84/84 [==============================] - 28s 338ms/step - loss: 0.6012 - accuracy: 0.9858 - val_loss: 7.3600 - val_accuracy: 0.9250\n",
      "Epoch 67/100\n",
      "84/84 [==============================] - 28s 336ms/step - loss: 0.7845 - accuracy: 0.9824 - val_loss: 10.0331 - val_accuracy: 0.9145\n",
      "Epoch 68/100\n",
      "84/84 [==============================] - 28s 339ms/step - loss: 0.7717 - accuracy: 0.9843 - val_loss: 8.3235 - val_accuracy: 0.9250\n",
      "Epoch 69/100\n",
      "84/84 [==============================] - 28s 338ms/step - loss: 1.0105 - accuracy: 0.9765 - val_loss: 6.8365 - val_accuracy: 0.9250\n",
      "Epoch 70/100\n",
      "84/84 [==============================] - 28s 337ms/step - loss: 0.5720 - accuracy: 0.9817 - val_loss: 8.2093 - val_accuracy: 0.9220\n",
      "Epoch 71/100\n",
      "84/84 [==============================] - 28s 339ms/step - loss: 0.8773 - accuracy: 0.9836 - val_loss: 8.7580 - val_accuracy: 0.9355\n",
      "Epoch 72/100\n",
      "84/84 [==============================] - 29s 339ms/step - loss: 1.1589 - accuracy: 0.9795 - val_loss: 9.9268 - val_accuracy: 0.9205\n",
      "Epoch 73/100\n",
      "84/84 [==============================] - 28s 338ms/step - loss: 0.9321 - accuracy: 0.9836 - val_loss: 7.8021 - val_accuracy: 0.9460\n",
      "Epoch 74/100\n",
      "84/84 [==============================] - 28s 338ms/step - loss: 0.7324 - accuracy: 0.9817 - val_loss: 7.6873 - val_accuracy: 0.9400\n",
      "Epoch 75/100\n",
      "84/84 [==============================] - 29s 344ms/step - loss: 1.2555 - accuracy: 0.9783 - val_loss: 10.0913 - val_accuracy: 0.9280\n",
      "Epoch 76/100\n",
      "84/84 [==============================] - 29s 341ms/step - loss: 1.3709 - accuracy: 0.9757 - val_loss: 12.4057 - val_accuracy: 0.9070\n",
      "Epoch 77/100\n",
      "84/84 [==============================] - 29s 341ms/step - loss: 1.3204 - accuracy: 0.9776 - val_loss: 12.2322 - val_accuracy: 0.9280\n",
      "Epoch 78/100\n",
      "84/84 [==============================] - 29s 340ms/step - loss: 2.1378 - accuracy: 0.9746 - val_loss: 12.0165 - val_accuracy: 0.9340\n",
      "Epoch 79/100\n",
      "84/84 [==============================] - 29s 340ms/step - loss: 0.6993 - accuracy: 0.9851 - val_loss: 8.1808 - val_accuracy: 0.9385\n",
      "Epoch 80/100\n",
      "84/84 [==============================] - 28s 338ms/step - loss: 0.9921 - accuracy: 0.9843 - val_loss: 9.5591 - val_accuracy: 0.9415\n",
      "Epoch 81/100\n",
      "84/84 [==============================] - 29s 340ms/step - loss: 1.0997 - accuracy: 0.9847 - val_loss: 7.8919 - val_accuracy: 0.9415\n",
      "Epoch 82/100\n",
      "84/84 [==============================] - 28s 339ms/step - loss: 1.1332 - accuracy: 0.9839 - val_loss: 8.6432 - val_accuracy: 0.9445\n",
      "Epoch 83/100\n",
      "84/84 [==============================] - 29s 342ms/step - loss: 1.3057 - accuracy: 0.9821 - val_loss: 8.9016 - val_accuracy: 0.9430\n",
      "Epoch 84/100\n",
      "84/84 [==============================] - 28s 339ms/step - loss: 0.7274 - accuracy: 0.9895 - val_loss: 8.2245 - val_accuracy: 0.9475\n",
      "Epoch 85/100\n",
      "84/84 [==============================] - 28s 338ms/step - loss: 0.7153 - accuracy: 0.9847 - val_loss: 7.2728 - val_accuracy: 0.9445\n",
      "Epoch 86/100\n",
      "84/84 [==============================] - 29s 340ms/step - loss: 1.2055 - accuracy: 0.9810 - val_loss: 10.3098 - val_accuracy: 0.9280\n",
      "Epoch 87/100\n",
      "84/84 [==============================] - 29s 340ms/step - loss: 0.7157 - accuracy: 0.9892 - val_loss: 7.8088 - val_accuracy: 0.9430\n",
      "Epoch 88/100\n",
      "84/84 [==============================] - 29s 339ms/step - loss: 0.8597 - accuracy: 0.9851 - val_loss: 11.7466 - val_accuracy: 0.9220\n",
      "Epoch 89/100\n",
      "84/84 [==============================] - 28s 338ms/step - loss: 0.9453 - accuracy: 0.9836 - val_loss: 9.1284 - val_accuracy: 0.9445\n",
      "Epoch 90/100\n",
      "84/84 [==============================] - 28s 337ms/step - loss: 0.7623 - accuracy: 0.9877 - val_loss: 8.4410 - val_accuracy: 0.9370\n",
      "Epoch 91/100\n",
      "84/84 [==============================] - 28s 338ms/step - loss: 1.0454 - accuracy: 0.9843 - val_loss: 8.1087 - val_accuracy: 0.9340\n",
      "Epoch 92/100\n",
      "84/84 [==============================] - 29s 341ms/step - loss: 0.9493 - accuracy: 0.9828 - val_loss: 11.7559 - val_accuracy: 0.9295\n",
      "Epoch 93/100\n",
      "84/84 [==============================] - 29s 341ms/step - loss: 1.6165 - accuracy: 0.9791 - val_loss: 11.8896 - val_accuracy: 0.9400\n",
      "Epoch 94/100\n",
      "84/84 [==============================] - 29s 340ms/step - loss: 1.1153 - accuracy: 0.9862 - val_loss: 11.6030 - val_accuracy: 0.9310\n",
      "Epoch 95/100\n",
      "84/84 [==============================] - 29s 340ms/step - loss: 1.0998 - accuracy: 0.9847 - val_loss: 11.0093 - val_accuracy: 0.9445\n",
      "Epoch 96/100\n",
      "84/84 [==============================] - 29s 340ms/step - loss: 1.1250 - accuracy: 0.9862 - val_loss: 9.6229 - val_accuracy: 0.9355\n",
      "Epoch 97/100\n",
      "84/84 [==============================] - 28s 339ms/step - loss: 0.8182 - accuracy: 0.9851 - val_loss: 10.7100 - val_accuracy: 0.9340\n",
      "Epoch 98/100\n",
      "84/84 [==============================] - 29s 341ms/step - loss: 0.7269 - accuracy: 0.9892 - val_loss: 11.5386 - val_accuracy: 0.9400\n",
      "Epoch 99/100\n",
      "84/84 [==============================] - 29s 339ms/step - loss: 0.8047 - accuracy: 0.9892 - val_loss: 11.0545 - val_accuracy: 0.9415\n",
      "Epoch 100/100\n",
      "84/84 [==============================] - 28s 334ms/step - loss: 0.8326 - accuracy: 0.9907 - val_loss: 12.2150 - val_accuracy: 0.9295\n"
     ]
    }
   ],
   "source": [
    "history = model.fit(\n",
    " train_ds,\n",
    " epochs=100,\n",
    " validation_data=val_ds\n",
    ")"
   ]
  },
  {
   "cell_type": "markdown",
   "id": "45140c87",
   "metadata": {},
   "source": [
    "#### Plotting Training and Validation Accuracy and Loss"
   ]
  },
  {
   "cell_type": "code",
   "execution_count": 14,
   "id": "9d1d8c1e",
   "metadata": {
    "scrolled": true
   },
   "outputs": [
    {
     "data": {
      "text/plain": [
       "<matplotlib.legend.Legend at 0x25d6daace20>"
      ]
     },
     "execution_count": 14,
     "metadata": {},
     "output_type": "execute_result"
    },
    {
     "data": {
      "image/png": "[encoded data removed]",
      "text/plain": [
       "<Figure size 640x480 with 1 Axes>"
      ]
     },
     "metadata": {},
     "output_type": "display_data"
    },
    {
     "data": {
      "image/png": "[encoded data removed]",
      "text/plain": [
       "<Figure size 640x480 with 1 Axes>"
      ]
     },
     "metadata": {},
     "output_type": "display_data"
    }
   ],
   "source": [
    "accuracy = history.history['accuracy']\n",
    "val_accuracy = history.history['val_accuracy']\n",
    "loss = history.history['loss']\n",
    "val_loss = history.history['val_loss']\n",
    "epochs = range(1, len(accuracy) + 1)\n",
    "plt.plot(epochs, accuracy, 'bo', label='Training accuracy')\n",
    "plt.plot(epochs, val_accuracy, 'b', label='Validation accuracy')\n",
    "plt.title('Training and validation accuracy')\n",
    "plt.legend()\n",
    "plt.figure()\n",
    "plt.plot(epochs, loss, 'bo', label='Training loss')\n",
    "plt.plot(epochs, val_loss, 'b', label='Validation loss')\n",
    "plt.title('Training and validation loss')\n",
    "plt.legend()"
   ]
  },
  {
   "cell_type": "markdown",
   "id": "df1e34ab",
   "metadata": {},
   "source": [
    "#### Saving the Model"
   ]
  },
  {
   "cell_type": "code",
   "execution_count": 15,
   "id": "99dc054c",
   "metadata": {},
   "outputs": [
    {
     "name": "stdout",
     "output_type": "stream",
     "text": [
      "Saved model to disk\n"
     ]
    }
   ],
   "source": [
    "save_path = '../3. Model Selection/saved_models/Model 3-Zero-padded Data Transfer Learning Model/'\n",
    "if not os.path.exists(save_path):\n",
    "    os.makedirs(save_path)\n",
    "save_model(model, save_path)"
   ]
  },
  {
   "cell_type": "code",
   "execution_count": 17,
   "id": "cf33cbe6",
   "metadata": {},
   "outputs": [],
   "source": [
    "#below saved files are gitignored"
   ]
  },
  {
   "cell_type": "code",
   "execution_count": 16,
   "id": "ff4f4c56",
   "metadata": {},
   "outputs": [
    {
     "name": "stderr",
     "output_type": "stream",
     "text": [
      "WARNING:absl:Found untraced functions such as _jit_compiled_convolution_op, _jit_compiled_convolution_op, _jit_compiled_convolution_op, _jit_compiled_convolution_op, _jit_compiled_convolution_op while saving (showing 5 of 13). These functions will not be directly callable after loading.\n"
     ]
    }
   ],
   "source": [
    "if not os.path.exists('./saved_models/Zero-padded Transfer Learning Model'):\n",
    "    os.makedirs('./saved_models/Zero-padded Transfer Learning Model')\n",
    "model.save('./saved_models/Zero-padded Transfer Learning Model')"
   ]
  },
  {
   "cell_type": "code",
   "execution_count": null,
   "id": "d072273c",
   "metadata": {},
   "outputs": [],
   "source": []
  }
 ],
 "metadata": {
  "kernelspec": {
   "display_name": "Python 3 (ipykernel)",
   "language": "python",
   "name": "python3"
  },
  "language_info": {
   "codemirror_mode": {
    "name": "ipython",
    "version": 3
   },
   "file_extension": ".py",
   "mimetype": "text/x-python",
   "name": "python",
   "nbconvert_exporter": "python",
   "pygments_lexer": "ipython3",
   "version": "3.8.3"
  }
 },
 "nbformat": 4,
 "nbformat_minor": 5
}
