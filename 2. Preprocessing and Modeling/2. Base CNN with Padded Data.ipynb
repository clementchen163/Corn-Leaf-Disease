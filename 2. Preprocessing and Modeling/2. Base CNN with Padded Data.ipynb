{
 "cells": [
  {
   "cell_type": "code",
   "execution_count": 1,
   "id": "2cf963a3",
   "metadata": {},
   "outputs": [],
   "source": [
    "from tensorflow.keras.utils import image_dataset_from_directory\n",
    "from tensorflow import keras\n",
    "from tensorflow.keras import layers\n",
    "import matplotlib.pyplot as plt\n",
    "import tensorflow as tf\n",
    "import os\n",
    "import numpy as np\n",
    "from modelfunc import save_model"
   ]
  },
  {
   "cell_type": "code",
   "execution_count": 2,
   "id": "dcd7c211",
   "metadata": {},
   "outputs": [],
   "source": [
    "np.random.seed(123) #set random seed for reproducability"
   ]
  },
  {
   "cell_type": "code",
   "execution_count": 3,
   "id": "0aa256df",
   "metadata": {},
   "outputs": [
    {
     "name": "stdout",
     "output_type": "stream",
     "text": [
      "Num GPUs Available:  1\n"
     ]
    }
   ],
   "source": [
    "print('Num GPUs Available: ', len(tf.config.list_physical_devices('GPU'))) #make sure GPU is being used"
   ]
  },
  {
   "cell_type": "code",
   "execution_count": 4,
   "id": "ee1ad0cf",
   "metadata": {},
   "outputs": [],
   "source": [
    "tf.get_logger().setLevel('ERROR') #hide some warning messages"
   ]
  },
  {
   "cell_type": "markdown",
   "id": "bc1bc140",
   "metadata": {},
   "source": [
    "#### Image Parameters"
   ]
  },
  {
   "cell_type": "code",
   "execution_count": 5,
   "id": "5b2d8586",
   "metadata": {},
   "outputs": [],
   "source": [
    "# With image dimensions 5184 x 5184 we run into oom error\n",
    "batch_size = 32\n",
    "img_height = 256\n",
    "img_width = 256\n",
    "img_channels = 3"
   ]
  },
  {
   "cell_type": "markdown",
   "id": "314ea082",
   "metadata": {},
   "source": [
    "#### Load Data"
   ]
  },
  {
   "cell_type": "code",
   "execution_count": 6,
   "id": "6fc36e74",
   "metadata": {},
   "outputs": [],
   "source": [
    "train_split_test_dir='../0. Project Data/Reshaped zero-padded and split data'"
   ]
  },
  {
   "cell_type": "code",
   "execution_count": 7,
   "id": "2d6c74e6",
   "metadata": {},
   "outputs": [
    {
     "name": "stdout",
     "output_type": "stream",
     "text": [
      "Found 2678 files belonging to 4 classes.\n",
      "Found 667 files belonging to 4 classes.\n",
      "Found 843 files belonging to 4 classes.\n"
     ]
    }
   ],
   "source": [
    "train_ds = image_dataset_from_directory(\n",
    "    train_split_test_dir + '/train',\n",
    "    image_size=(img_width, img_height),\n",
    "    batch_size=batch_size)\n",
    "val_ds = image_dataset_from_directory(\n",
    "    train_split_test_dir + '/val',\n",
    "    image_size=(img_width, img_height),\n",
    "    batch_size=batch_size)\n",
    "test_ds = image_dataset_from_directory(\n",
    "    train_split_test_dir + '/test',\n",
    "    image_size=(img_width, img_height),\n",
    "    batch_size=batch_size)"
   ]
  },
  {
   "cell_type": "markdown",
   "id": "78b25b0b",
   "metadata": {},
   "source": [
    "#### Building CNN Model"
   ]
  },
  {
   "cell_type": "code",
   "execution_count": 8,
   "id": "2284f5f0",
   "metadata": {},
   "outputs": [],
   "source": [
    "# enginerring more data by applying randomized horizontal flips, zooms(+/- 20%), and rotates (+/- 10%)\n",
    "data_augmentation = keras.Sequential([layers.RandomFlip('horizontal'), layers.RandomRotation(0.1), layers.RandomZoom(0.2),])"
   ]
  },
  {
   "cell_type": "code",
   "execution_count": 9,
   "id": "ae7d08b5",
   "metadata": {},
   "outputs": [],
   "source": [
    "inputs = keras.Input(shape=(img_height, img_width, img_channels))\n",
    "x = data_augmentation(inputs)\n",
    "x = layers.Rescaling(1./255)(x) # rescaling pixel values from 0-255 to 0-1\n",
    "# convolution and max pooling layers\n",
    "x = layers.Conv2D(filters=32, kernel_size=3, activation='relu')(x)\n",
    "x = layers.MaxPooling2D(pool_size=2)(x)\n",
    "x = layers.Conv2D(filters=64, kernel_size=3, activation='relu')(x)\n",
    "x = layers.MaxPooling2D(pool_size=2)(x)\n",
    "x = layers.Conv2D(filters=128, kernel_size=3, activation='relu')(x)\n",
    "x = layers.MaxPooling2D(pool_size=2)(x)\n",
    "x = layers.Conv2D(filters=256, kernel_size=3, activation='relu')(x)\n",
    "x = layers.MaxPooling2D(pool_size=2)(x)\n",
    "x = layers.Conv2D(filters=256, kernel_size=3, activation='relu')(x)\n",
    "# flatten\n",
    "x = layers.Flatten()(x)\n",
    "# Dense output classification layer\n",
    "outputs = layers.Dense(4, activation='softmax')(x)\n",
    "model = keras.Model(inputs=inputs, outputs=outputs)"
   ]
  },
  {
   "cell_type": "code",
   "execution_count": 10,
   "id": "536b8b1a",
   "metadata": {},
   "outputs": [
    {
     "name": "stdout",
     "output_type": "stream",
     "text": [
      "Model: \"model\"\n",
      "_________________________________________________________________\n",
      " Layer (type)                Output Shape              Param #   \n",
      "=================================================================\n",
      " input_1 (InputLayer)        [(None, 256, 256, 3)]     0         \n",
      "                                                                 \n",
      " sequential (Sequential)     (None, 256, 256, 3)       0         \n",
      "                                                                 \n",
      " rescaling (Rescaling)       (None, 256, 256, 3)       0         \n",
      "                                                                 \n",
      " conv2d (Conv2D)             (None, 254, 254, 32)      896       \n",
      "                                                                 \n",
      " max_pooling2d (MaxPooling2D  (None, 127, 127, 32)     0         \n",
      " )                                                               \n",
      "                                                                 \n",
      " conv2d_1 (Conv2D)           (None, 125, 125, 64)      18496     \n",
      "                                                                 \n",
      " max_pooling2d_1 (MaxPooling  (None, 62, 62, 64)       0         \n",
      " 2D)                                                             \n",
      "                                                                 \n",
      " conv2d_2 (Conv2D)           (None, 60, 60, 128)       73856     \n",
      "                                                                 \n",
      " max_pooling2d_2 (MaxPooling  (None, 30, 30, 128)      0         \n",
      " 2D)                                                             \n",
      "                                                                 \n",
      " conv2d_3 (Conv2D)           (None, 28, 28, 256)       295168    \n",
      "                                                                 \n",
      " max_pooling2d_3 (MaxPooling  (None, 14, 14, 256)      0         \n",
      " 2D)                                                             \n",
      "                                                                 \n",
      " conv2d_4 (Conv2D)           (None, 12, 12, 256)       590080    \n",
      "                                                                 \n",
      " flatten (Flatten)           (None, 36864)             0         \n",
      "                                                                 \n",
      " dense (Dense)               (None, 4)                 147460    \n",
      "                                                                 \n",
      "=================================================================\n",
      "Total params: 1,125,956\n",
      "Trainable params: 1,125,956\n",
      "Non-trainable params: 0\n",
      "_________________________________________________________________\n"
     ]
    }
   ],
   "source": [
    "model.summary()"
   ]
  },
  {
   "cell_type": "code",
   "execution_count": 11,
   "id": "3ce110f0",
   "metadata": {},
   "outputs": [],
   "source": [
    "model.compile(optimizer='sgd', # Common optimizers include 'adam', 'sgd', and 'rmsprop'.\n",
    " loss='sparse_categorical_crossentropy', # Common loss functions include 'binary_crossentropy', 'categorical_crossentropy', and 'mse'.\n",
    " metrics=[\"accuracy\"]) #Common metrics include 'accuracy', 'precision', 'recall', and 'f1_score'."
   ]
  },
  {
   "cell_type": "markdown",
   "id": "45592871",
   "metadata": {},
   "source": [
    "#### Fitting the Model"
   ]
  },
  {
   "cell_type": "code",
   "execution_count": 12,
   "id": "e1ce7429",
   "metadata": {
    "scrolled": false
   },
   "outputs": [
    {
     "name": "stdout",
     "output_type": "stream",
     "text": [
      "Epoch 1/100\n",
      "84/84 [==============================] - 30s 310ms/step - loss: 1.3231 - accuracy: 0.3984 - val_loss: 1.2743 - val_accuracy: 0.3208\n",
      "Epoch 2/100\n",
      "84/84 [==============================] - 24s 288ms/step - loss: 1.1853 - accuracy: 0.5205 - val_loss: 1.0069 - val_accuracy: 0.6777\n",
      "Epoch 3/100\n",
      "84/84 [==============================] - 25s 292ms/step - loss: 1.0619 - accuracy: 0.5874 - val_loss: 1.0639 - val_accuracy: 0.6357\n",
      "Epoch 4/100\n",
      "84/84 [==============================] - 25s 295ms/step - loss: 0.9124 - accuracy: 0.6550 - val_loss: 0.7386 - val_accuracy: 0.7466\n",
      "Epoch 5/100\n",
      "84/84 [==============================] - 25s 293ms/step - loss: 0.8237 - accuracy: 0.7005 - val_loss: 0.6733 - val_accuracy: 0.7376\n",
      "Epoch 6/100\n",
      "84/84 [==============================] - 25s 292ms/step - loss: 0.7002 - accuracy: 0.7330 - val_loss: 0.6714 - val_accuracy: 0.7241\n",
      "Epoch 7/100\n",
      "84/84 [==============================] - 24s 289ms/step - loss: 0.7643 - accuracy: 0.7162 - val_loss: 0.6429 - val_accuracy: 0.7451\n",
      "Epoch 8/100\n",
      "84/84 [==============================] - 25s 294ms/step - loss: 0.6362 - accuracy: 0.7532 - val_loss: 0.5876 - val_accuracy: 0.7841\n",
      "Epoch 9/100\n",
      "84/84 [==============================] - 25s 295ms/step - loss: 0.5981 - accuracy: 0.7689 - val_loss: 0.5515 - val_accuracy: 0.7901\n",
      "Epoch 10/100\n",
      "84/84 [==============================] - 25s 294ms/step - loss: 0.6073 - accuracy: 0.7629 - val_loss: 0.5104 - val_accuracy: 0.8081\n",
      "Epoch 11/100\n",
      "84/84 [==============================] - 24s 282ms/step - loss: 0.5354 - accuracy: 0.7849 - val_loss: 0.5175 - val_accuracy: 0.7856\n",
      "Epoch 12/100\n",
      "84/84 [==============================] - 25s 293ms/step - loss: 0.6638 - accuracy: 0.7491 - val_loss: 0.4771 - val_accuracy: 0.8111\n",
      "Epoch 13/100\n",
      "84/84 [==============================] - 24s 287ms/step - loss: 0.5198 - accuracy: 0.7939 - val_loss: 0.4870 - val_accuracy: 0.8036\n",
      "Epoch 14/100\n",
      "84/84 [==============================] - 24s 287ms/step - loss: 0.5240 - accuracy: 0.7842 - val_loss: 1.0052 - val_accuracy: 0.5877\n",
      "Epoch 15/100\n",
      "84/84 [==============================] - 24s 282ms/step - loss: 0.5757 - accuracy: 0.7692 - val_loss: 0.4176 - val_accuracy: 0.8336\n",
      "Epoch 16/100\n",
      "84/84 [==============================] - 24s 281ms/step - loss: 0.4573 - accuracy: 0.8114 - val_loss: 0.4719 - val_accuracy: 0.8051\n",
      "Epoch 17/100\n",
      "84/84 [==============================] - 24s 283ms/step - loss: 0.5446 - accuracy: 0.8002 - val_loss: 0.3745 - val_accuracy: 0.8606\n",
      "Epoch 18/100\n",
      "84/84 [==============================] - 24s 283ms/step - loss: 0.4400 - accuracy: 0.8286 - val_loss: 0.3734 - val_accuracy: 0.8576\n",
      "Epoch 19/100\n",
      "84/84 [==============================] - 24s 280ms/step - loss: 0.3923 - accuracy: 0.8476 - val_loss: 0.3647 - val_accuracy: 0.8726\n",
      "Epoch 20/100\n",
      "84/84 [==============================] - 24s 290ms/step - loss: 0.4452 - accuracy: 0.8241 - val_loss: 0.3679 - val_accuracy: 0.8621\n",
      "Epoch 21/100\n",
      "84/84 [==============================] - 24s 288ms/step - loss: 0.4546 - accuracy: 0.8327 - val_loss: 0.3807 - val_accuracy: 0.8711\n",
      "Epoch 22/100\n",
      "84/84 [==============================] - 24s 290ms/step - loss: 0.3717 - accuracy: 0.8540 - val_loss: 0.3772 - val_accuracy: 0.8606\n",
      "Epoch 23/100\n",
      "84/84 [==============================] - 24s 283ms/step - loss: 0.3599 - accuracy: 0.8581 - val_loss: 0.3432 - val_accuracy: 0.8711\n",
      "Epoch 24/100\n",
      "84/84 [==============================] - 24s 287ms/step - loss: 0.3584 - accuracy: 0.8544 - val_loss: 0.3856 - val_accuracy: 0.8576\n",
      "Epoch 25/100\n",
      "84/84 [==============================] - 24s 287ms/step - loss: 0.5170 - accuracy: 0.8174 - val_loss: 0.4190 - val_accuracy: 0.8396\n",
      "Epoch 26/100\n",
      "84/84 [==============================] - 24s 288ms/step - loss: 0.3518 - accuracy: 0.8637 - val_loss: 0.4641 - val_accuracy: 0.8096\n",
      "Epoch 27/100\n",
      "84/84 [==============================] - 24s 288ms/step - loss: 0.3321 - accuracy: 0.8712 - val_loss: 0.3138 - val_accuracy: 0.8846\n",
      "Epoch 28/100\n",
      "84/84 [==============================] - 24s 288ms/step - loss: 0.3268 - accuracy: 0.8663 - val_loss: 0.3123 - val_accuracy: 0.8756\n",
      "Epoch 29/100\n",
      "84/84 [==============================] - 24s 284ms/step - loss: 0.5381 - accuracy: 0.8163 - val_loss: 0.5564 - val_accuracy: 0.8261\n",
      "Epoch 30/100\n",
      "84/84 [==============================] - 24s 286ms/step - loss: 0.4109 - accuracy: 0.8368 - val_loss: 0.3103 - val_accuracy: 0.8771\n",
      "Epoch 31/100\n",
      "84/84 [==============================] - 24s 288ms/step - loss: 0.3620 - accuracy: 0.8596 - val_loss: 0.3322 - val_accuracy: 0.8801\n",
      "Epoch 32/100\n",
      "84/84 [==============================] - 24s 286ms/step - loss: 0.3247 - accuracy: 0.8745 - val_loss: 0.2932 - val_accuracy: 0.8921\n",
      "Epoch 33/100\n",
      "84/84 [==============================] - 24s 291ms/step - loss: 0.3280 - accuracy: 0.8715 - val_loss: 0.2854 - val_accuracy: 0.8816\n",
      "Epoch 34/100\n",
      "84/84 [==============================] - 24s 289ms/step - loss: 0.3100 - accuracy: 0.8831 - val_loss: 0.2702 - val_accuracy: 0.9010\n",
      "Epoch 35/100\n",
      "84/84 [==============================] - 24s 286ms/step - loss: 0.3085 - accuracy: 0.8783 - val_loss: 0.2892 - val_accuracy: 0.8831\n",
      "Epoch 36/100\n",
      "84/84 [==============================] - 24s 287ms/step - loss: 0.3668 - accuracy: 0.8645 - val_loss: 0.3218 - val_accuracy: 0.8576\n",
      "Epoch 37/100\n",
      "84/84 [==============================] - 24s 286ms/step - loss: 0.3008 - accuracy: 0.8932 - val_loss: 0.2991 - val_accuracy: 0.8741\n",
      "Epoch 38/100\n",
      "84/84 [==============================] - 24s 279ms/step - loss: 0.3848 - accuracy: 0.8618 - val_loss: 0.3369 - val_accuracy: 0.8606\n",
      "Epoch 39/100\n",
      "84/84 [==============================] - 25s 298ms/step - loss: 0.2874 - accuracy: 0.8895 - val_loss: 0.4209 - val_accuracy: 0.8426\n",
      "Epoch 40/100\n",
      "84/84 [==============================] - 25s 296ms/step - loss: 0.2964 - accuracy: 0.8951 - val_loss: 0.2902 - val_accuracy: 0.8966\n",
      "Epoch 41/100\n",
      "84/84 [==============================] - 25s 298ms/step - loss: 0.2785 - accuracy: 0.8940 - val_loss: 0.2743 - val_accuracy: 0.8951\n",
      "Epoch 42/100\n",
      "84/84 [==============================] - 24s 287ms/step - loss: 0.2864 - accuracy: 0.8872 - val_loss: 0.4419 - val_accuracy: 0.8186\n",
      "Epoch 43/100\n",
      "84/84 [==============================] - 25s 293ms/step - loss: 0.3182 - accuracy: 0.8883 - val_loss: 0.3121 - val_accuracy: 0.8711\n",
      "Epoch 44/100\n",
      "84/84 [==============================] - 24s 291ms/step - loss: 0.2663 - accuracy: 0.8954 - val_loss: 0.2569 - val_accuracy: 0.8951\n",
      "Epoch 45/100\n",
      "84/84 [==============================] - 24s 284ms/step - loss: 0.2612 - accuracy: 0.9007 - val_loss: 0.2545 - val_accuracy: 0.9010\n",
      "Epoch 46/100\n",
      "84/84 [==============================] - 24s 288ms/step - loss: 0.2694 - accuracy: 0.9003 - val_loss: 0.2488 - val_accuracy: 0.9145\n",
      "Epoch 47/100\n",
      "84/84 [==============================] - 24s 283ms/step - loss: 0.2658 - accuracy: 0.9037 - val_loss: 0.2424 - val_accuracy: 0.9145\n",
      "Epoch 48/100\n",
      "84/84 [==============================] - 24s 286ms/step - loss: 0.2592 - accuracy: 0.8999 - val_loss: 0.2620 - val_accuracy: 0.8996\n",
      "Epoch 49/100\n",
      "84/84 [==============================] - 24s 286ms/step - loss: 0.2618 - accuracy: 0.9018 - val_loss: 0.2399 - val_accuracy: 0.9010\n",
      "Epoch 50/100\n",
      "84/84 [==============================] - 24s 285ms/step - loss: 0.2542 - accuracy: 0.9063 - val_loss: 0.3409 - val_accuracy: 0.8546\n",
      "Epoch 51/100\n",
      "84/84 [==============================] - 24s 285ms/step - loss: 0.2435 - accuracy: 0.9040 - val_loss: 0.2501 - val_accuracy: 0.8981\n",
      "Epoch 52/100\n",
      "84/84 [==============================] - 24s 283ms/step - loss: 0.2606 - accuracy: 0.8999 - val_loss: 0.2515 - val_accuracy: 0.9085\n",
      "Epoch 53/100\n",
      "84/84 [==============================] - 24s 289ms/step - loss: 0.2498 - accuracy: 0.9074 - val_loss: 0.3107 - val_accuracy: 0.8681\n",
      "Epoch 54/100\n",
      "84/84 [==============================] - 25s 293ms/step - loss: 0.2249 - accuracy: 0.9134 - val_loss: 0.2399 - val_accuracy: 0.9040\n",
      "Epoch 55/100\n",
      "84/84 [==============================] - 25s 295ms/step - loss: 0.2406 - accuracy: 0.9115 - val_loss: 0.2292 - val_accuracy: 0.9130\n",
      "Epoch 56/100\n",
      "84/84 [==============================] - 24s 281ms/step - loss: 0.2433 - accuracy: 0.9055 - val_loss: 0.4268 - val_accuracy: 0.8396\n",
      "Epoch 57/100\n",
      "84/84 [==============================] - 24s 287ms/step - loss: 0.2401 - accuracy: 0.9081 - val_loss: 0.2785 - val_accuracy: 0.8936\n",
      "Epoch 58/100\n",
      "84/84 [==============================] - 24s 282ms/step - loss: 0.2370 - accuracy: 0.9081 - val_loss: 0.2790 - val_accuracy: 0.9115\n",
      "Epoch 59/100\n",
      "84/84 [==============================] - 24s 285ms/step - loss: 0.2326 - accuracy: 0.9119 - val_loss: 0.2484 - val_accuracy: 0.9115\n",
      "Epoch 60/100\n",
      "84/84 [==============================] - 24s 284ms/step - loss: 0.2157 - accuracy: 0.9134 - val_loss: 0.2324 - val_accuracy: 0.9070\n",
      "Epoch 61/100\n",
      "84/84 [==============================] - 25s 291ms/step - loss: 0.2216 - accuracy: 0.9149 - val_loss: 0.2286 - val_accuracy: 0.9145\n",
      "Epoch 62/100\n",
      "84/84 [==============================] - 24s 282ms/step - loss: 0.2227 - accuracy: 0.9115 - val_loss: 0.2411 - val_accuracy: 0.9085\n",
      "Epoch 63/100\n",
      "84/84 [==============================] - 24s 281ms/step - loss: 0.2161 - accuracy: 0.9152 - val_loss: 0.2271 - val_accuracy: 0.9175\n",
      "Epoch 64/100\n",
      "84/84 [==============================] - 24s 287ms/step - loss: 0.2141 - accuracy: 0.9137 - val_loss: 0.2293 - val_accuracy: 0.9160\n",
      "Epoch 65/100\n",
      "84/84 [==============================] - 24s 289ms/step - loss: 0.3722 - accuracy: 0.8686 - val_loss: 0.2663 - val_accuracy: 0.9025\n",
      "Epoch 66/100\n",
      "84/84 [==============================] - 25s 295ms/step - loss: 0.2431 - accuracy: 0.9066 - val_loss: 0.2746 - val_accuracy: 0.9070\n",
      "Epoch 67/100\n",
      "84/84 [==============================] - 25s 295ms/step - loss: 0.2178 - accuracy: 0.9164 - val_loss: 0.2523 - val_accuracy: 0.9175\n",
      "Epoch 68/100\n",
      "84/84 [==============================] - 24s 281ms/step - loss: 0.2131 - accuracy: 0.9235 - val_loss: 0.2385 - val_accuracy: 0.9145\n",
      "Epoch 69/100\n",
      "84/84 [==============================] - 24s 283ms/step - loss: 0.2093 - accuracy: 0.9216 - val_loss: 0.2503 - val_accuracy: 0.8966\n",
      "Epoch 70/100\n",
      "84/84 [==============================] - 23s 276ms/step - loss: 0.2098 - accuracy: 0.9216 - val_loss: 0.2366 - val_accuracy: 0.9175\n",
      "Epoch 71/100\n",
      "84/84 [==============================] - 23s 279ms/step - loss: 0.1985 - accuracy: 0.9264 - val_loss: 0.2942 - val_accuracy: 0.8891\n",
      "Epoch 72/100\n",
      "84/84 [==============================] - 23s 278ms/step - loss: 0.2001 - accuracy: 0.9205 - val_loss: 0.2462 - val_accuracy: 0.9010\n",
      "Epoch 73/100\n",
      "84/84 [==============================] - 24s 284ms/step - loss: 0.2009 - accuracy: 0.9264 - val_loss: 0.2722 - val_accuracy: 0.8861\n",
      "Epoch 74/100\n",
      "84/84 [==============================] - 24s 283ms/step - loss: 0.3809 - accuracy: 0.8854 - val_loss: 0.2498 - val_accuracy: 0.9145\n",
      "Epoch 75/100\n",
      "84/84 [==============================] - 24s 282ms/step - loss: 0.2360 - accuracy: 0.9111 - val_loss: 0.2405 - val_accuracy: 0.9100\n",
      "Epoch 76/100\n",
      "84/84 [==============================] - 23s 278ms/step - loss: 0.2296 - accuracy: 0.9055 - val_loss: 0.2574 - val_accuracy: 0.9085\n",
      "Epoch 77/100\n",
      "84/84 [==============================] - 24s 281ms/step - loss: 0.2032 - accuracy: 0.9212 - val_loss: 0.3475 - val_accuracy: 0.8816\n",
      "Epoch 78/100\n",
      "84/84 [==============================] - 23s 278ms/step - loss: 0.1995 - accuracy: 0.9268 - val_loss: 0.2581 - val_accuracy: 0.9085\n",
      "Epoch 79/100\n",
      "84/84 [==============================] - 24s 281ms/step - loss: 0.2262 - accuracy: 0.9081 - val_loss: 0.2450 - val_accuracy: 0.9040\n",
      "Epoch 80/100\n",
      "84/84 [==============================] - 24s 289ms/step - loss: 0.1971 - accuracy: 0.9298 - val_loss: 0.2867 - val_accuracy: 0.9160\n",
      "Epoch 81/100\n",
      "84/84 [==============================] - 779s 9s/step - loss: 0.1906 - accuracy: 0.9294 - val_loss: 0.2777 - val_accuracy: 0.8966\n",
      "Epoch 82/100\n",
      "84/84 [==============================] - 85s 997ms/step - loss: 0.1907 - accuracy: 0.9264 - val_loss: 0.3343 - val_accuracy: 0.8786\n",
      "Epoch 83/100\n",
      "84/84 [==============================] - 79s 941ms/step - loss: 0.1815 - accuracy: 0.9298 - val_loss: 0.2702 - val_accuracy: 0.9100\n",
      "Epoch 84/100\n",
      "84/84 [==============================] - 100s 1s/step - loss: 0.1843 - accuracy: 0.9313 - val_loss: 0.2348 - val_accuracy: 0.9145\n",
      "Epoch 85/100\n",
      "84/84 [==============================] - 100s 1s/step - loss: 0.1779 - accuracy: 0.9305 - val_loss: 0.2431 - val_accuracy: 0.9055\n",
      "Epoch 86/100\n",
      "84/84 [==============================] - 96s 1s/step - loss: 0.1737 - accuracy: 0.9339 - val_loss: 0.2651 - val_accuracy: 0.8966\n",
      "Epoch 87/100\n",
      "84/84 [==============================] - 90s 1s/step - loss: 0.1623 - accuracy: 0.9369 - val_loss: 0.2456 - val_accuracy: 0.9130\n",
      "Epoch 88/100\n",
      "84/84 [==============================] - 98s 1s/step - loss: 0.1848 - accuracy: 0.9298 - val_loss: 0.2432 - val_accuracy: 0.9130\n",
      "Epoch 89/100\n",
      "84/84 [==============================] - 100s 1s/step - loss: 0.1830 - accuracy: 0.9339 - val_loss: 0.2904 - val_accuracy: 0.8906\n",
      "Epoch 90/100\n",
      "84/84 [==============================] - 102s 1s/step - loss: 0.1592 - accuracy: 0.9343 - val_loss: 0.2411 - val_accuracy: 0.9115\n",
      "Epoch 91/100\n",
      "84/84 [==============================] - 100s 1s/step - loss: 0.1695 - accuracy: 0.9324 - val_loss: 0.2730 - val_accuracy: 0.9040\n",
      "Epoch 92/100\n",
      "84/84 [==============================] - 106s 1s/step - loss: 0.1678 - accuracy: 0.9317 - val_loss: 0.2515 - val_accuracy: 0.9040\n",
      "Epoch 93/100\n",
      "84/84 [==============================] - 102s 1s/step - loss: 0.1650 - accuracy: 0.9361 - val_loss: 0.2466 - val_accuracy: 0.9310\n",
      "Epoch 94/100\n",
      "84/84 [==============================] - 99s 1s/step - loss: 0.1753 - accuracy: 0.9335 - val_loss: 0.2817 - val_accuracy: 0.8891\n",
      "Epoch 95/100\n",
      "84/84 [==============================] - 103s 1s/step - loss: 0.1616 - accuracy: 0.9403 - val_loss: 0.3156 - val_accuracy: 0.9085\n",
      "Epoch 96/100\n",
      "84/84 [==============================] - 105s 1s/step - loss: 0.1651 - accuracy: 0.9343 - val_loss: 0.2860 - val_accuracy: 0.8906\n",
      "Epoch 97/100\n",
      "84/84 [==============================] - 99s 1s/step - loss: 0.1668 - accuracy: 0.9354 - val_loss: 0.2563 - val_accuracy: 0.9205\n",
      "Epoch 98/100\n",
      "84/84 [==============================] - 100s 1s/step - loss: 0.1617 - accuracy: 0.9361 - val_loss: 0.2754 - val_accuracy: 0.9145\n",
      "Epoch 99/100\n",
      "84/84 [==============================] - 104s 1s/step - loss: 0.1554 - accuracy: 0.9403 - val_loss: 0.3501 - val_accuracy: 0.8636\n",
      "Epoch 100/100\n",
      "84/84 [==============================] - 100s 1s/step - loss: 0.1525 - accuracy: 0.9425 - val_loss: 0.2607 - val_accuracy: 0.9100\n"
     ]
    }
   ],
   "source": [
    "history = model.fit(\n",
    "  train_ds,\n",
    "  validation_data=val_ds,\n",
    "  epochs=100\n",
    ")"
   ]
  },
  {
   "cell_type": "markdown",
   "id": "2f6730aa",
   "metadata": {},
   "source": [
    "#### Plotting Training and Validation Accuracy and Loss"
   ]
  },
  {
   "cell_type": "code",
   "execution_count": 17,
   "id": "b7145502",
   "metadata": {
    "scrolled": false
   },
   "outputs": [
    {
     "data": {
      "text/plain": [
       "<matplotlib.legend.Legend at 0x2703813ee50>"
      ]
     },
     "execution_count": 17,
     "metadata": {},
     "output_type": "execute_result"
    },
    {
     "data": {
      "image/png": "[encoded data removed]",
      "text/plain": [
       "<Figure size 640x480 with 1 Axes>"
      ]
     },
     "metadata": {},
     "output_type": "display_data"
    },
    {
     "data": {
      "image/png": "[encoded data removed]",
      "text/plain": [
       "<Figure size 640x480 with 1 Axes>"
      ]
     },
     "metadata": {},
     "output_type": "display_data"
    }
   ],
   "source": [
    "accuracy = history.history['accuracy']\n",
    "val_accuracy = history.history['val_accuracy']\n",
    "loss = history.history['loss']\n",
    "val_loss = history.history['val_loss']\n",
    "epochs = range(1, len(accuracy) + 1)\n",
    "plt.plot(epochs, accuracy, 'bo', label='Training Accuracy')\n",
    "plt.plot(epochs, val_accuracy, 'b', label='Validation Accuracy')\n",
    "plt.axhline(y=0.9, color='r', linestyle='-')\n",
    "plt.title('Training and Validation Accuracy - Zero-Padded Data')\n",
    "plt.legend()\n",
    "plt.figure()\n",
    "plt.plot(epochs, loss, 'bo', label='Training Loss')\n",
    "plt.plot(epochs, val_loss, 'b', label='Validation Loss')\n",
    "plt.title('Training and Validation Loss - Zero-Padded Data')\n",
    "plt.legend()"
   ]
  },
  {
   "cell_type": "markdown",
   "id": "500732c0",
   "metadata": {},
   "source": [
    "#### Saving the Model"
   ]
  },
  {
   "cell_type": "code",
   "execution_count": 14,
   "id": "0aebe461",
   "metadata": {},
   "outputs": [
    {
     "name": "stdout",
     "output_type": "stream",
     "text": [
      "Saved model to disk\n"
     ]
    }
   ],
   "source": [
    "save_path = '../3. Model Selection/saved_models/Model 2-Zero-padded Data Model/'\n",
    "if not os.path.exists(save_path):\n",
    "    os.makedirs(save_path)\n",
    "save_model(model, save_path)"
   ]
  },
  {
   "cell_type": "code",
   "execution_count": 15,
   "id": "7841fbba",
   "metadata": {},
   "outputs": [],
   "source": [
    "#below saved files are gitignored"
   ]
  },
  {
   "cell_type": "code",
   "execution_count": 16,
   "id": "95a8bc51",
   "metadata": {},
   "outputs": [
    {
     "name": "stderr",
     "output_type": "stream",
     "text": [
      "WARNING:absl:Found untraced functions such as _jit_compiled_convolution_op, _jit_compiled_convolution_op, _jit_compiled_convolution_op, _jit_compiled_convolution_op, _jit_compiled_convolution_op while saving (showing 5 of 5). These functions will not be directly callable after loading.\n"
     ]
    }
   ],
   "source": [
    "if not os.path.exists('./saved_models/Model 2-Zero-padded Data'):\n",
    "    os.makedirs('./saved_models/Model 2-Zero-padded Data')\n",
    "model.save('./saved_models/Model 2-Zero-padded Data')"
   ]
  }
 ],
 "metadata": {
  "kernelspec": {
   "display_name": "Python 3 (ipykernel)",
   "language": "python",
   "name": "python3"
  },
  "language_info": {
   "codemirror_mode": {
    "name": "ipython",
    "version": 3
   },
   "file_extension": ".py",
   "mimetype": "text/x-python",
   "name": "python",
   "nbconvert_exporter": "python",
   "pygments_lexer": "ipython3",
   "version": "3.9.16"
  }
 },
 "nbformat": 4,
 "nbformat_minor": 5
}
