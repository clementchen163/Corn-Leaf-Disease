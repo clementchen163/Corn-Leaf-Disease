{
 "cells": [
  {
   "cell_type": "code",
   "execution_count": 1,
   "id": "662f6353",
   "metadata": {},
   "outputs": [],
   "source": [
    "from tensorflow.keras.utils import image_dataset_from_directory\n",
    "from tensorflow.keras.models import model_from_json\n",
    "import tensorflow as tf\n",
    "import os\n",
    "import numpy as np\n",
    "from tensorflow import keras\n",
    "import pandas as pd\n",
    "import matplotlib.pyplot as plt\n",
    "from sklearn.metrics import f1_score, roc_curve, roc_auc_score, accuracy_score, recall_score, precision_score, confusion_matrix, ConfusionMatrixDisplay\n",
    "from model_select_func import save_model, load_model, record_results"
   ]
  },
  {
   "cell_type": "code",
   "execution_count": 2,
   "id": "1e58ef9e",
   "metadata": {},
   "outputs": [],
   "source": [
    "np.random.seed(123) # set random seed for reproducability"
   ]
  },
  {
   "cell_type": "code",
   "execution_count": 3,
   "id": "bd8db971",
   "metadata": {},
   "outputs": [],
   "source": [
    "tf.get_logger().setLevel('ERROR') # hide some warning messages"
   ]
  },
  {
   "cell_type": "markdown",
   "id": "bb94a266",
   "metadata": {},
   "source": [
    "#### Load Test Datasets"
   ]
  },
  {
   "cell_type": "code",
   "execution_count": 4,
   "id": "d1a0ddde",
   "metadata": {},
   "outputs": [],
   "source": [
    "original_split_data_path='../0. Project Data/Original Split Data'\n",
    "reshaped_and_padded_data_path='../0. Project Data/Reshaped zero-padded and split data'"
   ]
  },
  {
   "cell_type": "markdown",
   "id": "181cb73d",
   "metadata": {},
   "source": [
    "#### Image Parameters"
   ]
  },
  {
   "cell_type": "code",
   "execution_count": 5,
   "id": "dfcb7479",
   "metadata": {},
   "outputs": [],
   "source": [
    "#original data parameters\n",
    "org_batch_size = 32\n",
    "org_img_height = 180\n",
    "org_img_width = 180\n",
    "org_img_channels = 3\n",
    "\n",
    "# padded image parameters\n",
    "padded_batch_size = 32\n",
    "padded_img_height = 256\n",
    "padded_img_width = 256\n",
    "padded_img_channels = 3"
   ]
  },
  {
   "cell_type": "code",
   "execution_count": 6,
   "id": "06ab7f5d",
   "metadata": {},
   "outputs": [
    {
     "name": "stdout",
     "output_type": "stream",
     "text": [
      "Found 843 files belonging to 4 classes.\n",
      "Found 843 files belonging to 4 classes.\n"
     ]
    }
   ],
   "source": [
    "# tf.data dataset of original test data\n",
    "org_test_ds = image_dataset_from_directory(\n",
    "    original_split_data_path + '/test',\n",
    "    image_size=(org_img_width, org_img_height),\n",
    "    batch_size=org_batch_size,\n",
    "    shuffle=False,)\n",
    "# tf.data dataset of padded test data\n",
    "padded_test_ds = image_dataset_from_directory(\n",
    "    reshaped_and_padded_data_path + '/test',\n",
    "    image_size=(padded_img_width, padded_img_height),\n",
    "    batch_size=padded_batch_size,\n",
    "    shuffle = False)"
   ]
  },
  {
   "cell_type": "code",
   "execution_count": 7,
   "id": "54f78fc9",
   "metadata": {},
   "outputs": [
    {
     "data": {
      "text/plain": [
       "['Model 1-Original Data',\n",
       " 'Model 2-Zero-padded Data Model',\n",
       " 'Model 3-Zero-padded Data Transfer Learning Model',\n",
       " 'Models 4.x-Transfer Learning Hyperparameter Tuning Zero-padded Data Model/1',\n",
       " 'Models 4.x-Transfer Learning Hyperparameter Tuning Zero-padded Data Model/2',\n",
       " 'Models 4.x-Transfer Learning Hyperparameter Tuning Zero-padded Data Model/3',\n",
       " 'Models 4.x-Transfer Learning Hyperparameter Tuning Zero-padded Data Model/4',\n",
       " 'Models 4.x-Transfer Learning Hyperparameter Tuning Zero-padded Data Model/5']"
      ]
     },
     "execution_count": 7,
     "metadata": {},
     "output_type": "execute_result"
    }
   ],
   "source": [
    "model_dir=['Model 1-Original Data', 'Model 2-Zero-padded Data Model',\n",
    "           'Model 3-Zero-padded Data Transfer Learning Model']+[\n",
    "    'Models 4.x-Transfer Learning Hyperparameter Tuning Zero-padded Data Model/' + str(i+1) for i in range(5)]\n",
    "model_dir"
   ]
  },
  {
   "cell_type": "code",
   "execution_count": 8,
   "id": "50b6e71f",
   "metadata": {},
   "outputs": [
    {
     "data": {
      "text/html": [
       "<div>\n",
       "<style scoped>\n",
       "    .dataframe tbody tr th:only-of-type {\n",
       "        vertical-align: middle;\n",
       "    }\n",
       "\n",
       "    .dataframe tbody tr th {\n",
       "        vertical-align: top;\n",
       "    }\n",
       "\n",
       "    .dataframe thead th {\n",
       "        text-align: right;\n",
       "    }\n",
       "</style>\n",
       "<table border=\"1\" class=\"dataframe\">\n",
       "  <thead>\n",
       "    <tr style=\"text-align: right;\">\n",
       "      <th></th>\n",
       "      <th>Model Directories</th>\n",
       "      <th>Model Name</th>\n",
       "      <th>Dataset</th>\n",
       "    </tr>\n",
       "  </thead>\n",
       "  <tbody>\n",
       "    <tr>\n",
       "      <th>0</th>\n",
       "      <td>Model 1-Original Data</td>\n",
       "      <td>Base CNN Org Data</td>\n",
       "      <td>Org</td>\n",
       "    </tr>\n",
       "    <tr>\n",
       "      <th>1</th>\n",
       "      <td>Model 2-Zero-padded Data Model</td>\n",
       "      <td>Base CNN Zero-Pad</td>\n",
       "      <td>Zero-Pad</td>\n",
       "    </tr>\n",
       "    <tr>\n",
       "      <th>2</th>\n",
       "      <td>Model 3-Zero-padded Data Transfer Learning Model</td>\n",
       "      <td>Transfer Learning Zero-Pad</td>\n",
       "      <td>Zero-Pad</td>\n",
       "    </tr>\n",
       "    <tr>\n",
       "      <th>3</th>\n",
       "      <td>Models 4.x-Transfer Learning Hyperparameter Tu...</td>\n",
       "      <td>Hypermodel1 Zero-Pad</td>\n",
       "      <td>Zero-Pad</td>\n",
       "    </tr>\n",
       "    <tr>\n",
       "      <th>4</th>\n",
       "      <td>Models 4.x-Transfer Learning Hyperparameter Tu...</td>\n",
       "      <td>Hypermodel2 Zero-Pad</td>\n",
       "      <td>Zero-Pad</td>\n",
       "    </tr>\n",
       "    <tr>\n",
       "      <th>5</th>\n",
       "      <td>Models 4.x-Transfer Learning Hyperparameter Tu...</td>\n",
       "      <td>Hypermodel3 Zero-Pad</td>\n",
       "      <td>Zero-Pad</td>\n",
       "    </tr>\n",
       "    <tr>\n",
       "      <th>6</th>\n",
       "      <td>Models 4.x-Transfer Learning Hyperparameter Tu...</td>\n",
       "      <td>Hypermodel4 Zero-Pad</td>\n",
       "      <td>Zero-Pad</td>\n",
       "    </tr>\n",
       "    <tr>\n",
       "      <th>7</th>\n",
       "      <td>Models 4.x-Transfer Learning Hyperparameter Tu...</td>\n",
       "      <td>Hypermodel5 Zero-Pad</td>\n",
       "      <td>Zero-Pad</td>\n",
       "    </tr>\n",
       "  </tbody>\n",
       "</table>\n",
       "</div>"
      ],
      "text/plain": [
       "                                   Model Directories   \n",
       "0                              Model 1-Original Data  \\\n",
       "1                     Model 2-Zero-padded Data Model   \n",
       "2   Model 3-Zero-padded Data Transfer Learning Model   \n",
       "3  Models 4.x-Transfer Learning Hyperparameter Tu...   \n",
       "4  Models 4.x-Transfer Learning Hyperparameter Tu...   \n",
       "5  Models 4.x-Transfer Learning Hyperparameter Tu...   \n",
       "6  Models 4.x-Transfer Learning Hyperparameter Tu...   \n",
       "7  Models 4.x-Transfer Learning Hyperparameter Tu...   \n",
       "\n",
       "                   Model Name   Dataset  \n",
       "0           Base CNN Org Data       Org  \n",
       "1           Base CNN Zero-Pad  Zero-Pad  \n",
       "2  Transfer Learning Zero-Pad  Zero-Pad  \n",
       "3        Hypermodel1 Zero-Pad  Zero-Pad  \n",
       "4        Hypermodel2 Zero-Pad  Zero-Pad  \n",
       "5        Hypermodel3 Zero-Pad  Zero-Pad  \n",
       "6        Hypermodel4 Zero-Pad  Zero-Pad  \n",
       "7        Hypermodel5 Zero-Pad  Zero-Pad  "
      ]
     },
     "execution_count": 8,
     "metadata": {},
     "output_type": "execute_result"
    }
   ],
   "source": [
    "model_names = ['Base CNN Org Data', 'Base CNN Zero-Pad', 'Transfer Learning Zero-Pad',\n",
    "               'Hypermodel1 Zero-Pad', 'Hypermodel2 Zero-Pad', 'Hypermodel3 Zero-Pad', \n",
    "               'Hypermodel4 Zero-Pad', 'Hypermodel5 Zero-Pad']\n",
    "dataset = ['Org', 'Zero-Pad', 'Zero-Pad', 'Zero-Pad', 'Zero-Pad', 'Zero-Pad', 'Zero-Pad', 'Zero-Pad']\n",
    "model_dict = {'Model Directories':model_dir, 'Model Name':model_names, 'Dataset':dataset}\n",
    "model_frame=pd.DataFrame(model_dict)\n",
    "model_frame"
   ]
  },
  {
   "cell_type": "markdown",
   "id": "eea172a3",
   "metadata": {},
   "source": [
    "#### Score Models Using Test Data"
   ]
  },
  {
   "cell_type": "code",
   "execution_count": 9,
   "id": "97814c79",
   "metadata": {},
   "outputs": [
    {
     "name": "stdout",
     "output_type": "stream",
     "text": [
      "Loaded Model 1-Original Data from disk\n",
      "27/27 [==============================] - 2s 29ms/step\n",
      "Loaded Model 2-Zero-padded Data Model from disk\n",
      "27/27 [==============================] - 2s 40ms/step\n",
      "Loaded Model 3-Zero-padded Data Transfer Learning Model from disk\n",
      "27/27 [==============================] - 14s 279ms/step\n",
      "Loaded Models 4.x-Transfer Learning Hyperparameter Tuning Zero-padded Data Model/1 from disk\n",
      "27/27 [==============================] - 5s 169ms/step\n",
      "Loaded Models 4.x-Transfer Learning Hyperparameter Tuning Zero-padded Data Model/2 from disk\n",
      "27/27 [==============================] - 4s 166ms/step\n",
      "Loaded Models 4.x-Transfer Learning Hyperparameter Tuning Zero-padded Data Model/3 from disk\n",
      "27/27 [==============================] - 5s 174ms/step\n",
      "Loaded Models 4.x-Transfer Learning Hyperparameter Tuning Zero-padded Data Model/4 from disk\n",
      "27/27 [==============================] - 4s 165ms/step\n",
      "Loaded Models 4.x-Transfer Learning Hyperparameter Tuning Zero-padded Data Model/5 from disk\n",
      "27/27 [==============================] - 5s 170ms/step\n"
     ]
    }
   ],
   "source": [
    "scores=[]\n",
    "for index, row in model_frame.iterrows():\n",
    "    if row[2]=='Org':\n",
    "        scores.append(record_results(load_model(row[0]), row[1], org_test_ds))\n",
    "    elif row[2]=='Zero-Pad':\n",
    "        scores.append(record_results(load_model(row[0]), row[1], padded_test_ds))\n",
    "    #break\n",
    "    \n",
    "results= pd.DataFrame(scores, columns=['Model Name', 'f1 score', 'test_acc', 'precision', 'recall'])"
   ]
  },
  {
   "cell_type": "code",
   "execution_count": 10,
   "id": "dc681395",
   "metadata": {},
   "outputs": [
    {
     "data": {
      "text/html": [
       "<div>\n",
       "<style scoped>\n",
       "    .dataframe tbody tr th:only-of-type {\n",
       "        vertical-align: middle;\n",
       "    }\n",
       "\n",
       "    .dataframe tbody tr th {\n",
       "        vertical-align: top;\n",
       "    }\n",
       "\n",
       "    .dataframe thead th {\n",
       "        text-align: right;\n",
       "    }\n",
       "</style>\n",
       "<table border=\"1\" class=\"dataframe\">\n",
       "  <thead>\n",
       "    <tr style=\"text-align: right;\">\n",
       "      <th></th>\n",
       "      <th>Model Name</th>\n",
       "      <th>f1 score</th>\n",
       "      <th>test_acc</th>\n",
       "      <th>precision</th>\n",
       "      <th>recall</th>\n",
       "    </tr>\n",
       "  </thead>\n",
       "  <tbody>\n",
       "    <tr>\n",
       "      <th>0</th>\n",
       "      <td>Base CNN Org Data</td>\n",
       "      <td>0.884659</td>\n",
       "      <td>0.884935</td>\n",
       "      <td>0.891853</td>\n",
       "      <td>0.884935</td>\n",
       "    </tr>\n",
       "    <tr>\n",
       "      <th>1</th>\n",
       "      <td>Base CNN Zero-Pad</td>\n",
       "      <td>0.912197</td>\n",
       "      <td>0.911032</td>\n",
       "      <td>0.913947</td>\n",
       "      <td>0.911032</td>\n",
       "    </tr>\n",
       "    <tr>\n",
       "      <th>2</th>\n",
       "      <td>Transfer Learning Zero-Pad</td>\n",
       "      <td>0.897770</td>\n",
       "      <td>0.900356</td>\n",
       "      <td>0.901016</td>\n",
       "      <td>0.900356</td>\n",
       "    </tr>\n",
       "    <tr>\n",
       "      <th>3</th>\n",
       "      <td>Hypermodel1 Zero-Pad</td>\n",
       "      <td>0.933480</td>\n",
       "      <td>0.934757</td>\n",
       "      <td>0.933673</td>\n",
       "      <td>0.934757</td>\n",
       "    </tr>\n",
       "    <tr>\n",
       "      <th>4</th>\n",
       "      <td>Hypermodel2 Zero-Pad</td>\n",
       "      <td>0.926688</td>\n",
       "      <td>0.927639</td>\n",
       "      <td>0.927554</td>\n",
       "      <td>0.927639</td>\n",
       "    </tr>\n",
       "    <tr>\n",
       "      <th>5</th>\n",
       "      <td>Hypermodel3 Zero-Pad</td>\n",
       "      <td>0.901339</td>\n",
       "      <td>0.902728</td>\n",
       "      <td>0.910586</td>\n",
       "      <td>0.902728</td>\n",
       "    </tr>\n",
       "    <tr>\n",
       "      <th>6</th>\n",
       "      <td>Hypermodel4 Zero-Pad</td>\n",
       "      <td>0.913846</td>\n",
       "      <td>0.913405</td>\n",
       "      <td>0.914549</td>\n",
       "      <td>0.913405</td>\n",
       "    </tr>\n",
       "    <tr>\n",
       "      <th>7</th>\n",
       "      <td>Hypermodel5 Zero-Pad</td>\n",
       "      <td>0.909529</td>\n",
       "      <td>0.909846</td>\n",
       "      <td>0.914791</td>\n",
       "      <td>0.909846</td>\n",
       "    </tr>\n",
       "  </tbody>\n",
       "</table>\n",
       "</div>"
      ],
      "text/plain": [
       "                   Model Name  f1 score  test_acc  precision    recall\n",
       "0           Base CNN Org Data  0.884659  0.884935   0.891853  0.884935\n",
       "1           Base CNN Zero-Pad  0.912197  0.911032   0.913947  0.911032\n",
       "2  Transfer Learning Zero-Pad  0.897770  0.900356   0.901016  0.900356\n",
       "3        Hypermodel1 Zero-Pad  0.933480  0.934757   0.933673  0.934757\n",
       "4        Hypermodel2 Zero-Pad  0.926688  0.927639   0.927554  0.927639\n",
       "5        Hypermodel3 Zero-Pad  0.901339  0.902728   0.910586  0.902728\n",
       "6        Hypermodel4 Zero-Pad  0.913846  0.913405   0.914549  0.913405\n",
       "7        Hypermodel5 Zero-Pad  0.909529  0.909846   0.914791  0.909846"
      ]
     },
     "execution_count": 10,
     "metadata": {},
     "output_type": "execute_result"
    }
   ],
   "source": [
    "results"
   ]
  },
  {
   "cell_type": "markdown",
   "id": "8051404d",
   "metadata": {},
   "source": [
    "#### Model Selection"
   ]
  },
  {
   "cell_type": "markdown",
   "id": "10921414",
   "metadata": {},
   "source": [
    "Based on the scoring chart above, we can see that the Hypermodel 1 using Zero-Padded data outperforms all other models in all metrics."
   ]
  },
  {
   "cell_type": "code",
   "execution_count": 11,
   "id": "4f757560",
   "metadata": {},
   "outputs": [
    {
     "name": "stdout",
     "output_type": "stream",
     "text": [
      "Loaded Models 4.x-Transfer Learning Hyperparameter Tuning Zero-padded Data Model/1 from disk\n"
     ]
    }
   ],
   "source": [
    "HyperModel1=load_model('Models 4.x-Transfer Learning Hyperparameter Tuning Zero-padded Data Model/1')"
   ]
  },
  {
   "cell_type": "code",
   "execution_count": 12,
   "id": "eb6063b9",
   "metadata": {},
   "outputs": [
    {
     "name": "stdout",
     "output_type": "stream",
     "text": [
      "Model: \"model_1\"\n",
      "_________________________________________________________________\n",
      " Layer (type)                Output Shape              Param #   \n",
      "=================================================================\n",
      " input_4 (InputLayer)        [(None, 256, 256, 3)]     0         \n",
      "                                                                 \n",
      " sequential_1 (Sequential)   (None, 256, 256, 3)       0         \n",
      "                                                                 \n",
      " tf.__operators__.getitem_1   (None, 256, 256, 3)      0         \n",
      " (SlicingOpLambda)                                               \n",
      "                                                                 \n",
      " tf.nn.bias_add_1 (TFOpLambd  (None, 256, 256, 3)      0         \n",
      " a)                                                              \n",
      "                                                                 \n",
      " vgg16 (Functional)          (None, None, None, 512)   14714688  \n",
      "                                                                 \n",
      " flatten_1 (Flatten)         (None, 32768)             0         \n",
      "                                                                 \n",
      " dense_2 (Dense)             (None, 128)               4194432   \n",
      "                                                                 \n",
      " dropout_1 (Dropout)         (None, 128)               0         \n",
      "                                                                 \n",
      " dense_3 (Dense)             (None, 4)                 516       \n",
      "                                                                 \n",
      "=================================================================\n",
      "Total params: 18,909,636\n",
      "Trainable params: 4,194,948\n",
      "Non-trainable params: 14,714,688\n",
      "_________________________________________________________________\n"
     ]
    }
   ],
   "source": [
    "HyperModel1.summary()"
   ]
  },
  {
   "cell_type": "markdown",
   "id": "ff90d910",
   "metadata": {},
   "source": [
    "This model was built using the convolutional base of the pre-trained VGG16 model ontop of which a densely connected layer, a drop out layer and classification layer reside. The convolutional base consists of a conv, conv, pooling stacked pyramidial architecture as shown below:"
   ]
  },
  {
   "cell_type": "code",
   "execution_count": 13,
   "id": "76b76a21",
   "metadata": {},
   "outputs": [
    {
     "name": "stdout",
     "output_type": "stream",
     "text": [
      "Model: \"vgg16\"\n",
      "_________________________________________________________________\n",
      " Layer (type)                Output Shape              Param #   \n",
      "=================================================================\n",
      " input_1 (InputLayer)        [(None, None, None, 3)]   0         \n",
      "                                                                 \n",
      " block1_conv1 (Conv2D)       (None, None, None, 64)    1792      \n",
      "                                                                 \n",
      " block1_conv2 (Conv2D)       (None, None, None, 64)    36928     \n",
      "                                                                 \n",
      " block1_pool (MaxPooling2D)  (None, None, None, 64)    0         \n",
      "                                                                 \n",
      " block2_conv1 (Conv2D)       (None, None, None, 128)   73856     \n",
      "                                                                 \n",
      " block2_conv2 (Conv2D)       (None, None, None, 128)   147584    \n",
      "                                                                 \n",
      " block2_pool (MaxPooling2D)  (None, None, None, 128)   0         \n",
      "                                                                 \n",
      " block3_conv1 (Conv2D)       (None, None, None, 256)   295168    \n",
      "                                                                 \n",
      " block3_conv2 (Conv2D)       (None, None, None, 256)   590080    \n",
      "                                                                 \n",
      " block3_conv3 (Conv2D)       (None, None, None, 256)   590080    \n",
      "                                                                 \n",
      " block3_pool (MaxPooling2D)  (None, None, None, 256)   0         \n",
      "                                                                 \n",
      " block4_conv1 (Conv2D)       (None, None, None, 512)   1180160   \n",
      "                                                                 \n",
      " block4_conv2 (Conv2D)       (None, None, None, 512)   2359808   \n",
      "                                                                 \n",
      " block4_conv3 (Conv2D)       (None, None, None, 512)   2359808   \n",
      "                                                                 \n",
      " block4_pool (MaxPooling2D)  (None, None, None, 512)   0         \n",
      "                                                                 \n",
      " block5_conv1 (Conv2D)       (None, None, None, 512)   2359808   \n",
      "                                                                 \n",
      " block5_conv2 (Conv2D)       (None, None, None, 512)   2359808   \n",
      "                                                                 \n",
      " block5_conv3 (Conv2D)       (None, None, None, 512)   2359808   \n",
      "                                                                 \n",
      " block5_pool (MaxPooling2D)  (None, None, None, 512)   0         \n",
      "                                                                 \n",
      "=================================================================\n",
      "Total params: 14,714,688\n",
      "Trainable params: 0\n",
      "Non-trainable params: 14,714,688\n",
      "_________________________________________________________________\n"
     ]
    }
   ],
   "source": [
    "conv_base = keras.applications.vgg16.VGG16(\n",
    " weights='imagenet',\n",
    " include_top=False)\n",
    "conv_base.trainable = False # freeze weights\n",
    "conv_base.summary()"
   ]
  },
  {
   "cell_type": "markdown",
   "id": "5c8c192b",
   "metadata": {},
   "source": [
    "The number of nodes in the densely connected layer as well as the dropout percentage were choosen empirically through hyperparameter tuning. The winning model had hyperparameters of 128  nodes in the densely connected layer and a dropout percentage of 50%. This model was then trained on zero-padded data before final evaluation."
   ]
  },
  {
   "cell_type": "markdown",
   "id": "32869f14",
   "metadata": {},
   "source": [
    "#### Confusion Matrix of Winning Model on Test Data"
   ]
  },
  {
   "cell_type": "code",
   "execution_count": 14,
   "id": "a10527be",
   "metadata": {},
   "outputs": [
    {
     "name": "stdout",
     "output_type": "stream",
     "text": [
      "27/27 [==============================] - 5s 171ms/step\n"
     ]
    }
   ],
   "source": [
    "true_labels = []\n",
    "for images, labels in padded_test_ds:\n",
    "    true_labels.extend(labels.numpy())\n",
    "y_pred_probas = HyperModel1.predict(padded_test_ds)\n",
    "y_pred_labels = np.argmax(y_pred_probas, axis = 1)\n",
    "cm=confusion_matrix(true_labels, y_pred_labels)"
   ]
  },
  {
   "cell_type": "code",
   "execution_count": 19,
   "id": "31600730",
   "metadata": {
    "scrolled": false
   },
   "outputs": [
    {
     "data": {
      "image/png": "[encoded data removed]",
      "text/plain": [
       "<Figure size 640x480 with 2 Axes>"
      ]
     },
     "metadata": {},
     "output_type": "display_data"
    }
   ],
   "source": [
    "disp=ConfusionMatrixDisplay(confusion_matrix= cm,\n",
    "                            display_labels=padded_test_ds.class_names)\n",
    "disp.plot(xticks_rotation= 13)\n",
    "plt.show()"
   ]
  },
  {
   "cell_type": "markdown",
   "id": "2283ba2a",
   "metadata": {},
   "source": [
    "From the confusion matrix of the test data, we can see that the majority of the misclassifications are between the disease classes of Blight, Common_Rust, and Gray_Leaf_Spot. Some of this could be due to misclassification of the true labels due to human error when constructing the dataset. \n",
    "\n",
    "The worse predicted class was Gray_Leaf_Spot with 22% of its images being misclassified as Blight and 3% being misclassified as Common_Rust. This is probably due to the class imbalance where there exists a 0.27, 0.31, 0.14, 0.28 proportion between the Blight, Common_Rust, Gray_Leaf_Spot, Healthy classes respectively. With Gray_Leaf_Spot having half as many instances as the other class, the model we created which optimized based on accuracy, didn't value misclassifying Gray_Leaf_Spot as much as the other classes. \n",
    "\n",
    "The true Healthy class instances were all predicted correctly with only 1 Blight image being misclassified as Healthy. This makes sense as we can see from the average class images in the EDA section, there is a distinct visual separation between the Healthy and diseased classes"
   ]
  },
  {
   "cell_type": "code",
   "execution_count": null,
   "id": "8857afc4",
   "metadata": {},
   "outputs": [],
   "source": [
    "d={'true':true_labels, 'pred lables':y_pred_labels}"
   ]
  },
  {
   "cell_type": "code",
   "execution_count": null,
   "id": "a5b23cf3",
   "metadata": {},
   "outputs": [],
   "source": []
  },
  {
   "cell_type": "code",
   "execution_count": null,
   "id": "ee9b25c1",
   "metadata": {},
   "outputs": [],
   "source": [
    "a=pd.DataFrame(d)\n",
    "a"
   ]
  },
  {
   "cell_type": "code",
   "execution_count": null,
   "id": "91f2ebf6",
   "metadata": {},
   "outputs": [],
   "source": [
    "a[(a.true!=a['pred lables']) & (a['pred lables']==3)]"
   ]
  },
  {
   "cell_type": "code",
   "execution_count": null,
   "id": "fd10c9f0",
   "metadata": {},
   "outputs": [],
   "source": [
    "#true_labels = []\n",
    "for images, labels in padded_test_ds:\n",
    "    print(type(images))\n",
    "    print(type(labels))\n",
    "    break\n",
    "    #true_labels.extend(labels.numpy())"
   ]
  },
  {
   "cell_type": "code",
   "execution_count": null,
   "id": "8adfcb57",
   "metadata": {},
   "outputs": [],
   "source": [
    "labels"
   ]
  },
  {
   "cell_type": "code",
   "execution_count": null,
   "id": "73b4a214",
   "metadata": {},
   "outputs": [],
   "source": [
    "a['same']=a.pred_label==a['true labels']"
   ]
  },
  {
   "cell_type": "code",
   "execution_count": null,
   "id": "c3749685",
   "metadata": {},
   "outputs": [],
   "source": [
    "a['same'].mean()"
   ]
  },
  {
   "cell_type": "code",
   "execution_count": null,
   "id": "d5f49580",
   "metadata": {},
   "outputs": [],
   "source": [
    "'Model 1-Original Data'"
   ]
  },
  {
   "cell_type": "code",
   "execution_count": null,
   "id": "940cd3d1",
   "metadata": {},
   "outputs": [],
   "source": [
    "m1.evaluate(org_test_ds)"
   ]
  },
  {
   "cell_type": "code",
   "execution_count": null,
   "id": "297f5bb5",
   "metadata": {},
   "outputs": [],
   "source": [
    "counter=0\n",
    "for batch, labels in padded_test_ds:\n",
    "    for i in range(len(batch)):\n",
    "        if counter not in (0,1,2,3,4,5,6,7,8,9,10,11,12,13,14,15,16,17,18,19,20,21,22,23,24,25,26,27,31):\n",
    "            counter+=1\n",
    "            continue\n",
    "        counter+=1\n",
    "        # Convert the image tensor to numpy array\n",
    "        image_np = batch[i].numpy()\n",
    "        # Round due to bilinear interpolation\n",
    "        image_np = np.round(image_np).astype(int)\n",
    "        # Display the image using Matplotlib\n",
    "        plt.imshow(image_np)\n",
    "        plt.title(str(labels[i]))\n",
    "        #plt.axis('off')\n",
    "        plt.show()"
   ]
  },
  {
   "cell_type": "code",
   "execution_count": null,
   "id": "a83fcf32",
   "metadata": {},
   "outputs": [],
   "source": [
    "counter"
   ]
  },
  {
   "cell_type": "code",
   "execution_count": null,
   "id": "0911a921",
   "metadata": {},
   "outputs": [],
   "source": []
  }
 ],
 "metadata": {
  "kernelspec": {
   "display_name": "Python 3 (ipykernel)",
   "language": "python",
   "name": "python3"
  },
  "language_info": {
   "codemirror_mode": {
    "name": "ipython",
    "version": 3
   },
   "file_extension": ".py",
   "mimetype": "text/x-python",
   "name": "python",
   "nbconvert_exporter": "python",
   "pygments_lexer": "ipython3",
   "version": "3.9.16"
  }
 },
 "nbformat": 4,
 "nbformat_minor": 5
}
